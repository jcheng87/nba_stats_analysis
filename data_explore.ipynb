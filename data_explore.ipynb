{
 "cells": [
  {
   "cell_type": "code",
   "execution_count": 1,
   "id": "0c136fc5-a047-4af6-9fad-af3b13c04062",
   "metadata": {},
   "outputs": [],
   "source": [
    "#Import Essential Libraries\n",
    "import streamlit as st \n",
    "import pandas as pd\n",
    "import numpy as np\n",
    "from scipy.stats import binom\n",
    "\n",
    "# Plot Package\n",
    "import seaborn as sns\n",
    "import matplotlib.pyplot as plt\n",
    "import plotly.express as px\n",
    "\n",
    "# Import parameters packages\n",
    "from nba_api.stats.library.parameters import Season\n",
    "from nba_api.stats.library.parameters import SeasonTypeAllStar\n",
    "from nba_api.stats.library.parameters import SeasonType\n",
    "\n",
    "# Import Stats Endpoints\n",
    "from nba_api.stats.endpoints import teamgamelog\n",
    "from nba_api.stats.endpoints import teamgamelogs\n",
    "from nba_api.stats.endpoints import playergamelogs\n",
    "\n",
    "# Import Team list\n",
    "from nba_api.stats.static import teams\n",
    "\n",
    "# nba_function\n",
    "from nba_functions import *\n",
    "from retrieve_data import *"
   ]
  },
  {
   "cell_type": "code",
   "execution_count": 2,
   "id": "37c9cca4-e9bf-48f5-b81b-bb8959aa1875",
   "metadata": {},
   "outputs": [],
   "source": [
    "gamelog_2020_21_fn= '2020-2021_gamelog.csv'\n",
    "gamelog_2020_21_raw = pd.read_csv(gamelog_2020_21_fn)\n",
    "seasongamelog = SeasonGameLog()"
   ]
  },
  {
   "cell_type": "code",
   "execution_count": 3,
   "id": "ecb6b266-d7be-42ea-8215-ef262eecacf7",
   "metadata": {},
   "outputs": [],
   "source": [
    "gamelog_2020_21 = seasongamelog.vs_gamelog(gamelog_2020_21_raw)"
   ]
  },
  {
   "cell_type": "code",
   "execution_count": 4,
   "id": "7d157319-d9aa-49e9-be6f-8131b923e1f4",
   "metadata": {},
   "outputs": [],
   "source": [
    "gamelog_2020_21.to_csv('2020-2021_gamelog_final.csv')"
   ]
  },
  {
   "cell_type": "code",
   "execution_count": 5,
   "id": "2c2a96eb-fd15-4f0c-84af-437b85e95af8",
   "metadata": {},
   "outputs": [],
   "source": [
    "winners = gamelog_2020_21[gamelog_2020_21['WL']=='W']"
   ]
  },
  {
   "cell_type": "code",
   "execution_count": 6,
   "id": "dc11cd60-20ad-4069-b20f-6b728ccf1656",
   "metadata": {},
   "outputs": [
    {
     "data": {
      "text/plain": [
       "Index(['Team_ID', 'Game_ID', 'GAME_DATE', 'MATCHUP', 'WL', 'W', 'L', 'W_PCT',\n",
       "       'MIN', 'FGM', 'FGA', 'FG_PCT', 'FG3M', 'FG3A', 'FG3_PCT', 'FTM', 'FTA',\n",
       "       'FT_PCT', 'OREB', 'DREB', 'REB', 'AST', 'STL', 'BLK', 'TOV', 'PF',\n",
       "       'PTS', 'TEAM', 'OPP', 'Team_ID_OPP', 'win?', 'FGM_OPP', 'FGA_OPP',\n",
       "       'FG_PCT_OPP', 'FG3M_OPP', 'FG3A_OPP', 'FG3_PCT_OPP', 'FTM_OPP',\n",
       "       'FTA_OPP', 'FT_PCT_OPP', 'OREB_OPP', 'DREB_OPP', 'REB_OPP', 'AST_OPP',\n",
       "       'STL_OPP', 'BLK_OPP', 'TOV_OPP', 'PF_OPP', 'PTS_OPP', 'OREB%',\n",
       "       'DREB%_OPP', 'DREB%', 'OREB%_OPP', 'FGM_diff', 'FGA_diff',\n",
       "       'FG_PCT_diff', 'FG3M_diff', 'FG3A_diff', 'FG3_PCT_diff', 'FTM_diff',\n",
       "       'FTA_diff', 'FT_PCT_diff', 'OREB_diff', 'DREB_diff', 'OREB%_diff',\n",
       "       'DREB%_diff', 'REB_diff', 'AST_diff', 'STL_diff', 'BLK_diff',\n",
       "       'TOV_diff', 'PF_diff', 'PTS_diff'],\n",
       "      dtype='object')"
      ]
     },
     "execution_count": 6,
     "metadata": {},
     "output_type": "execute_result"
    }
   ],
   "source": [
    "winners.columns"
   ]
  },
  {
   "cell_type": "code",
   "execution_count": 47,
   "id": "024e695d-d0ac-4b79-8ac8-f0e90664b695",
   "metadata": {},
   "outputs": [
    {
     "data": {
      "application/vnd.plotly.v1+json": {
       "config": {
        "plotlyServerURL": "https://plot.ly"
       },
       "data": [
        {
         "coloraxis": "coloraxis",
         "hovertemplate": "x: %{x}<br>y: %{y}<br>color: %{z}<extra></extra>",
         "name": "0",
         "type": "heatmap",
         "x": [
          "FGM_diff",
          "FGA_diff",
          "FG_PCT_diff",
          "FG3M_diff",
          "FG3A_diff",
          "FG3_PCT_diff",
          "FTM_diff",
          "FTA_diff",
          "FT_PCT_diff",
          "OREB_diff",
          "DREB_diff",
          "REB_diff",
          "AST_diff",
          "STL_diff",
          "BLK_diff",
          "TOV_diff",
          "PF_diff",
          "PTS_diff",
          "win?"
         ],
         "xaxis": "x",
         "y": [
          "FGM_diff",
          "FGA_diff",
          "FG_PCT_diff",
          "FG3M_diff",
          "FG3A_diff",
          "FG3_PCT_diff",
          "FTM_diff",
          "FTA_diff",
          "FT_PCT_diff",
          "OREB_diff",
          "DREB_diff",
          "REB_diff",
          "AST_diff",
          "STL_diff",
          "BLK_diff",
          "TOV_diff",
          "PF_diff",
          "PTS_diff",
          "win?"
         ],
         "yaxis": "y",
         "z": [
          [
           1,
           0.28368,
           0.82301,
           0.35516,
           -0.04634,
           0.49809,
           -0.35205,
           -0.399,
           0.05592,
           -0.01819,
           0.56602,
           0.45645,
           0.62736,
           0.21555,
           0.17806,
           -0.17897,
           0.32374,
           0.84989,
           0.63262
          ],
          [
           0.28368,
           1,
           -0.30612,
           0.00463,
           0.22031,
           -0.16949,
           -0.38762,
           -0.41014,
           0.00713,
           0.57479,
           -0.33519,
           0.03881,
           0.05405,
           0.45753,
           -0.24869,
           -0.60945,
           0.2187,
           0.06869,
           -0.04359
          ],
          [
           0.82301,
           -0.30612,
           1,
           0.3495,
           -0.17678,
           0.59597,
           -0.12171,
           -0.15629,
           0.05413,
           -0.35403,
           0.75964,
           0.43193,
           0.58818,
           -0.0536,
           0.31953,
           0.1839,
           0.19541,
           0.80054,
           0.65292
          ],
          [
           0.35516,
           0.00463,
           0.3495,
           1,
           0.65572,
           0.77177,
           -0.24163,
           -0.29621,
           0.09049,
           -0.11299,
           0.2556,
           0.14869,
           0.43512,
           0.00867,
           0.20094,
           0.04052,
           0.29977,
           0.57275,
           0.4037
          ],
          [
           -0.04634,
           0.22031,
           -0.17678,
           0.65572,
           1,
           0.05087,
           -0.24386,
           -0.27759,
           0.04273,
           0.04562,
           -0.19499,
           -0.13568,
           0.12187,
           0.06854,
           0.17494,
           -0.10404,
           0.23711,
           0.0881,
           -0.00505
          ],
          [
           0.49809,
           -0.16949,
           0.59597,
           0.77177,
           0.05087,
           1,
           -0.12752,
           -0.17391,
           0.08705,
           -0.18823,
           0.48426,
           0.29588,
           0.45955,
           -0.0405,
           0.12278,
           0.13386,
           0.20676,
           0.66808,
           0.53034
          ],
          [
           -0.35205,
           -0.38762,
           -0.12171,
           -0.24163,
           -0.24386,
           -0.12752,
           1,
           0.91182,
           0.32614,
           0.08345,
           0.12448,
           0.14831,
           -0.24753,
           0.02106,
           -0.02012,
           -0.01885,
           -0.66112,
           0.07292,
           0.19199
          ],
          [
           -0.399,
           -0.41014,
           -0.15629,
           -0.29621,
           -0.27759,
           -0.17391,
           0.91182,
           1,
           -0.06614,
           0.11312,
           0.05161,
           0.10452,
           -0.29357,
           0.01001,
           -0.04519,
           0.00124,
           -0.72982,
           -0.03082,
           0.10437
          ],
          [
           0.05592,
           0.00713,
           0.05413,
           0.09049,
           0.04273,
           0.08705,
           0.32614,
           -0.06614,
           1,
           -0.05195,
           0.16333,
           0.10611,
           0.07359,
           0.0368,
           0.06272,
           -0.06082,
           0.05824,
           0.23796,
           0.21867
          ],
          [
           -0.01819,
           0.57479,
           -0.35403,
           -0.11299,
           0.04562,
           -0.18823,
           0.08345,
           0.11312,
           -0.05195,
           1,
           0.02284,
           0.56687,
           -0.13994,
           0.03347,
           -0.23359,
           -0.04472,
           -0.12473,
           -0.01867,
           -0.01318
          ],
          [
           0.56602,
           -0.33519,
           0.75964,
           0.2556,
           -0.19499,
           0.48426,
           0.12448,
           0.05161,
           0.16333,
           0.02284,
           1,
           0.83654,
           0.40338,
           -0.29641,
           0.18267,
           0.47686,
           0.04547,
           0.65503,
           0.56782
          ],
          [
           0.45645,
           0.03881,
           0.43193,
           0.14869,
           -0.13568,
           0.29588,
           0.14831,
           0.10452,
           0.10611,
           0.56687,
           0.83654,
           1,
           0.25569,
           -0.2259,
           0.0225,
           0.36843,
           -0.03089,
           0.52953,
           0.46067
          ],
          [
           0.62736,
           0.05405,
           0.58818,
           0.43512,
           0.12187,
           0.45955,
           -0.24753,
           -0.29357,
           0.07359,
           -0.13994,
           0.40338,
           0.25569,
           1,
           0.06937,
           0.16204,
           -0.02582,
           0.23671,
           0.59979,
           0.45373
          ],
          [
           0.21555,
           0.45753,
           -0.0536,
           0.00867,
           0.06854,
           -0.0405,
           0.02106,
           0.01001,
           0.0368,
           0.03347,
           -0.29641,
           -0.2259,
           0.06937,
           1,
           -0.02407,
           -0.76485,
           0.03243,
           0.20385,
           0.12714
          ],
          [
           0.17806,
           -0.24869,
           0.31953,
           0.20094,
           0.17494,
           0.12278,
           -0.02012,
           -0.04519,
           0.06272,
           -0.23359,
           0.18267,
           0.0225,
           0.16204,
           -0.02407,
           1,
           0.06649,
           0.09438,
           0.22293,
           0.21692
          ],
          [
           -0.17897,
           -0.60945,
           0.1839,
           0.04052,
           -0.10404,
           0.13386,
           -0.01885,
           0.00124,
           -0.06082,
           -0.04472,
           0.47686,
           0.36843,
           -0.02582,
           -0.76485,
           0.06649,
           1,
           0.05507,
           -0.15209,
           -0.09526
          ],
          [
           0.32374,
           0.2187,
           0.19541,
           0.29977,
           0.23711,
           0.20676,
           -0.66112,
           -0.72982,
           0.05824,
           -0.12473,
           0.04547,
           -0.03089,
           0.23671,
           0.03243,
           0.09438,
           0.05507,
           1,
           0.08454,
           -0.05538
          ],
          [
           0.84989,
           0.06869,
           0.80054,
           0.57275,
           0.0881,
           0.66808,
           0.07292,
           -0.03082,
           0.23796,
           -0.01867,
           0.65503,
           0.52953,
           0.59979,
           0.20385,
           0.22293,
           -0.15209,
           0.08454,
           1,
           0.80125
          ],
          [
           0.63262,
           -0.04359,
           0.65292,
           0.4037,
           -0.00505,
           0.53034,
           0.19199,
           0.10437,
           0.21867,
           -0.01318,
           0.56782,
           0.46067,
           0.45373,
           0.12714,
           0.21692,
           -0.09526,
           -0.05538,
           0.80125,
           1
          ]
         ]
        }
       ],
       "layout": {
        "coloraxis": {
         "colorscale": [
          [
           0,
           "#0d0887"
          ],
          [
           0.1111111111111111,
           "#46039f"
          ],
          [
           0.2222222222222222,
           "#7201a8"
          ],
          [
           0.3333333333333333,
           "#9c179e"
          ],
          [
           0.4444444444444444,
           "#bd3786"
          ],
          [
           0.5555555555555556,
           "#d8576b"
          ],
          [
           0.6666666666666666,
           "#ed7953"
          ],
          [
           0.7777777777777778,
           "#fb9f3a"
          ],
          [
           0.8888888888888888,
           "#fdca26"
          ],
          [
           1,
           "#f0f921"
          ]
         ]
        },
        "height": 400,
        "margin": {
         "t": 60
        },
        "template": {
         "data": {
          "bar": [
           {
            "error_x": {
             "color": "#2a3f5f"
            },
            "error_y": {
             "color": "#2a3f5f"
            },
            "marker": {
             "line": {
              "color": "#E5ECF6",
              "width": 0.5
             },
             "pattern": {
              "fillmode": "overlay",
              "size": 10,
              "solidity": 0.2
             }
            },
            "type": "bar"
           }
          ],
          "barpolar": [
           {
            "marker": {
             "line": {
              "color": "#E5ECF6",
              "width": 0.5
             },
             "pattern": {
              "fillmode": "overlay",
              "size": 10,
              "solidity": 0.2
             }
            },
            "type": "barpolar"
           }
          ],
          "carpet": [
           {
            "aaxis": {
             "endlinecolor": "#2a3f5f",
             "gridcolor": "white",
             "linecolor": "white",
             "minorgridcolor": "white",
             "startlinecolor": "#2a3f5f"
            },
            "baxis": {
             "endlinecolor": "#2a3f5f",
             "gridcolor": "white",
             "linecolor": "white",
             "minorgridcolor": "white",
             "startlinecolor": "#2a3f5f"
            },
            "type": "carpet"
           }
          ],
          "choropleth": [
           {
            "colorbar": {
             "outlinewidth": 0,
             "ticks": ""
            },
            "type": "choropleth"
           }
          ],
          "contour": [
           {
            "colorbar": {
             "outlinewidth": 0,
             "ticks": ""
            },
            "colorscale": [
             [
              0,
              "#0d0887"
             ],
             [
              0.1111111111111111,
              "#46039f"
             ],
             [
              0.2222222222222222,
              "#7201a8"
             ],
             [
              0.3333333333333333,
              "#9c179e"
             ],
             [
              0.4444444444444444,
              "#bd3786"
             ],
             [
              0.5555555555555556,
              "#d8576b"
             ],
             [
              0.6666666666666666,
              "#ed7953"
             ],
             [
              0.7777777777777778,
              "#fb9f3a"
             ],
             [
              0.8888888888888888,
              "#fdca26"
             ],
             [
              1,
              "#f0f921"
             ]
            ],
            "type": "contour"
           }
          ],
          "contourcarpet": [
           {
            "colorbar": {
             "outlinewidth": 0,
             "ticks": ""
            },
            "type": "contourcarpet"
           }
          ],
          "heatmap": [
           {
            "colorbar": {
             "outlinewidth": 0,
             "ticks": ""
            },
            "colorscale": [
             [
              0,
              "#0d0887"
             ],
             [
              0.1111111111111111,
              "#46039f"
             ],
             [
              0.2222222222222222,
              "#7201a8"
             ],
             [
              0.3333333333333333,
              "#9c179e"
             ],
             [
              0.4444444444444444,
              "#bd3786"
             ],
             [
              0.5555555555555556,
              "#d8576b"
             ],
             [
              0.6666666666666666,
              "#ed7953"
             ],
             [
              0.7777777777777778,
              "#fb9f3a"
             ],
             [
              0.8888888888888888,
              "#fdca26"
             ],
             [
              1,
              "#f0f921"
             ]
            ],
            "type": "heatmap"
           }
          ],
          "heatmapgl": [
           {
            "colorbar": {
             "outlinewidth": 0,
             "ticks": ""
            },
            "colorscale": [
             [
              0,
              "#0d0887"
             ],
             [
              0.1111111111111111,
              "#46039f"
             ],
             [
              0.2222222222222222,
              "#7201a8"
             ],
             [
              0.3333333333333333,
              "#9c179e"
             ],
             [
              0.4444444444444444,
              "#bd3786"
             ],
             [
              0.5555555555555556,
              "#d8576b"
             ],
             [
              0.6666666666666666,
              "#ed7953"
             ],
             [
              0.7777777777777778,
              "#fb9f3a"
             ],
             [
              0.8888888888888888,
              "#fdca26"
             ],
             [
              1,
              "#f0f921"
             ]
            ],
            "type": "heatmapgl"
           }
          ],
          "histogram": [
           {
            "marker": {
             "pattern": {
              "fillmode": "overlay",
              "size": 10,
              "solidity": 0.2
             }
            },
            "type": "histogram"
           }
          ],
          "histogram2d": [
           {
            "colorbar": {
             "outlinewidth": 0,
             "ticks": ""
            },
            "colorscale": [
             [
              0,
              "#0d0887"
             ],
             [
              0.1111111111111111,
              "#46039f"
             ],
             [
              0.2222222222222222,
              "#7201a8"
             ],
             [
              0.3333333333333333,
              "#9c179e"
             ],
             [
              0.4444444444444444,
              "#bd3786"
             ],
             [
              0.5555555555555556,
              "#d8576b"
             ],
             [
              0.6666666666666666,
              "#ed7953"
             ],
             [
              0.7777777777777778,
              "#fb9f3a"
             ],
             [
              0.8888888888888888,
              "#fdca26"
             ],
             [
              1,
              "#f0f921"
             ]
            ],
            "type": "histogram2d"
           }
          ],
          "histogram2dcontour": [
           {
            "colorbar": {
             "outlinewidth": 0,
             "ticks": ""
            },
            "colorscale": [
             [
              0,
              "#0d0887"
             ],
             [
              0.1111111111111111,
              "#46039f"
             ],
             [
              0.2222222222222222,
              "#7201a8"
             ],
             [
              0.3333333333333333,
              "#9c179e"
             ],
             [
              0.4444444444444444,
              "#bd3786"
             ],
             [
              0.5555555555555556,
              "#d8576b"
             ],
             [
              0.6666666666666666,
              "#ed7953"
             ],
             [
              0.7777777777777778,
              "#fb9f3a"
             ],
             [
              0.8888888888888888,
              "#fdca26"
             ],
             [
              1,
              "#f0f921"
             ]
            ],
            "type": "histogram2dcontour"
           }
          ],
          "mesh3d": [
           {
            "colorbar": {
             "outlinewidth": 0,
             "ticks": ""
            },
            "type": "mesh3d"
           }
          ],
          "parcoords": [
           {
            "line": {
             "colorbar": {
              "outlinewidth": 0,
              "ticks": ""
             }
            },
            "type": "parcoords"
           }
          ],
          "pie": [
           {
            "automargin": true,
            "type": "pie"
           }
          ],
          "scatter": [
           {
            "marker": {
             "colorbar": {
              "outlinewidth": 0,
              "ticks": ""
             }
            },
            "type": "scatter"
           }
          ],
          "scatter3d": [
           {
            "line": {
             "colorbar": {
              "outlinewidth": 0,
              "ticks": ""
             }
            },
            "marker": {
             "colorbar": {
              "outlinewidth": 0,
              "ticks": ""
             }
            },
            "type": "scatter3d"
           }
          ],
          "scattercarpet": [
           {
            "marker": {
             "colorbar": {
              "outlinewidth": 0,
              "ticks": ""
             }
            },
            "type": "scattercarpet"
           }
          ],
          "scattergeo": [
           {
            "marker": {
             "colorbar": {
              "outlinewidth": 0,
              "ticks": ""
             }
            },
            "type": "scattergeo"
           }
          ],
          "scattergl": [
           {
            "marker": {
             "colorbar": {
              "outlinewidth": 0,
              "ticks": ""
             }
            },
            "type": "scattergl"
           }
          ],
          "scattermapbox": [
           {
            "marker": {
             "colorbar": {
              "outlinewidth": 0,
              "ticks": ""
             }
            },
            "type": "scattermapbox"
           }
          ],
          "scatterpolar": [
           {
            "marker": {
             "colorbar": {
              "outlinewidth": 0,
              "ticks": ""
             }
            },
            "type": "scatterpolar"
           }
          ],
          "scatterpolargl": [
           {
            "marker": {
             "colorbar": {
              "outlinewidth": 0,
              "ticks": ""
             }
            },
            "type": "scatterpolargl"
           }
          ],
          "scatterternary": [
           {
            "marker": {
             "colorbar": {
              "outlinewidth": 0,
              "ticks": ""
             }
            },
            "type": "scatterternary"
           }
          ],
          "surface": [
           {
            "colorbar": {
             "outlinewidth": 0,
             "ticks": ""
            },
            "colorscale": [
             [
              0,
              "#0d0887"
             ],
             [
              0.1111111111111111,
              "#46039f"
             ],
             [
              0.2222222222222222,
              "#7201a8"
             ],
             [
              0.3333333333333333,
              "#9c179e"
             ],
             [
              0.4444444444444444,
              "#bd3786"
             ],
             [
              0.5555555555555556,
              "#d8576b"
             ],
             [
              0.6666666666666666,
              "#ed7953"
             ],
             [
              0.7777777777777778,
              "#fb9f3a"
             ],
             [
              0.8888888888888888,
              "#fdca26"
             ],
             [
              1,
              "#f0f921"
             ]
            ],
            "type": "surface"
           }
          ],
          "table": [
           {
            "cells": {
             "fill": {
              "color": "#EBF0F8"
             },
             "line": {
              "color": "white"
             }
            },
            "header": {
             "fill": {
              "color": "#C8D4E3"
             },
             "line": {
              "color": "white"
             }
            },
            "type": "table"
           }
          ]
         },
         "layout": {
          "annotationdefaults": {
           "arrowcolor": "#2a3f5f",
           "arrowhead": 0,
           "arrowwidth": 1
          },
          "autotypenumbers": "strict",
          "coloraxis": {
           "colorbar": {
            "outlinewidth": 0,
            "ticks": ""
           }
          },
          "colorscale": {
           "diverging": [
            [
             0,
             "#8e0152"
            ],
            [
             0.1,
             "#c51b7d"
            ],
            [
             0.2,
             "#de77ae"
            ],
            [
             0.3,
             "#f1b6da"
            ],
            [
             0.4,
             "#fde0ef"
            ],
            [
             0.5,
             "#f7f7f7"
            ],
            [
             0.6,
             "#e6f5d0"
            ],
            [
             0.7,
             "#b8e186"
            ],
            [
             0.8,
             "#7fbc41"
            ],
            [
             0.9,
             "#4d9221"
            ],
            [
             1,
             "#276419"
            ]
           ],
           "sequential": [
            [
             0,
             "#0d0887"
            ],
            [
             0.1111111111111111,
             "#46039f"
            ],
            [
             0.2222222222222222,
             "#7201a8"
            ],
            [
             0.3333333333333333,
             "#9c179e"
            ],
            [
             0.4444444444444444,
             "#bd3786"
            ],
            [
             0.5555555555555556,
             "#d8576b"
            ],
            [
             0.6666666666666666,
             "#ed7953"
            ],
            [
             0.7777777777777778,
             "#fb9f3a"
            ],
            [
             0.8888888888888888,
             "#fdca26"
            ],
            [
             1,
             "#f0f921"
            ]
           ],
           "sequentialminus": [
            [
             0,
             "#0d0887"
            ],
            [
             0.1111111111111111,
             "#46039f"
            ],
            [
             0.2222222222222222,
             "#7201a8"
            ],
            [
             0.3333333333333333,
             "#9c179e"
            ],
            [
             0.4444444444444444,
             "#bd3786"
            ],
            [
             0.5555555555555556,
             "#d8576b"
            ],
            [
             0.6666666666666666,
             "#ed7953"
            ],
            [
             0.7777777777777778,
             "#fb9f3a"
            ],
            [
             0.8888888888888888,
             "#fdca26"
            ],
            [
             1,
             "#f0f921"
            ]
           ]
          },
          "colorway": [
           "#636efa",
           "#EF553B",
           "#00cc96",
           "#ab63fa",
           "#FFA15A",
           "#19d3f3",
           "#FF6692",
           "#B6E880",
           "#FF97FF",
           "#FECB52"
          ],
          "font": {
           "color": "#2a3f5f"
          },
          "geo": {
           "bgcolor": "white",
           "lakecolor": "white",
           "landcolor": "#E5ECF6",
           "showlakes": true,
           "showland": true,
           "subunitcolor": "white"
          },
          "hoverlabel": {
           "align": "left"
          },
          "hovermode": "closest",
          "mapbox": {
           "style": "light"
          },
          "paper_bgcolor": "white",
          "plot_bgcolor": "#E5ECF6",
          "polar": {
           "angularaxis": {
            "gridcolor": "white",
            "linecolor": "white",
            "ticks": ""
           },
           "bgcolor": "#E5ECF6",
           "radialaxis": {
            "gridcolor": "white",
            "linecolor": "white",
            "ticks": ""
           }
          },
          "scene": {
           "xaxis": {
            "backgroundcolor": "#E5ECF6",
            "gridcolor": "white",
            "gridwidth": 2,
            "linecolor": "white",
            "showbackground": true,
            "ticks": "",
            "zerolinecolor": "white"
           },
           "yaxis": {
            "backgroundcolor": "#E5ECF6",
            "gridcolor": "white",
            "gridwidth": 2,
            "linecolor": "white",
            "showbackground": true,
            "ticks": "",
            "zerolinecolor": "white"
           },
           "zaxis": {
            "backgroundcolor": "#E5ECF6",
            "gridcolor": "white",
            "gridwidth": 2,
            "linecolor": "white",
            "showbackground": true,
            "ticks": "",
            "zerolinecolor": "white"
           }
          },
          "shapedefaults": {
           "line": {
            "color": "#2a3f5f"
           }
          },
          "ternary": {
           "aaxis": {
            "gridcolor": "white",
            "linecolor": "white",
            "ticks": ""
           },
           "baxis": {
            "gridcolor": "white",
            "linecolor": "white",
            "ticks": ""
           },
           "bgcolor": "#E5ECF6",
           "caxis": {
            "gridcolor": "white",
            "linecolor": "white",
            "ticks": ""
           }
          },
          "title": {
           "x": 0.05
          },
          "xaxis": {
           "automargin": true,
           "gridcolor": "white",
           "linecolor": "white",
           "ticks": "",
           "title": {
            "standoff": 15
           },
           "zerolinecolor": "white",
           "zerolinewidth": 2
          },
          "yaxis": {
           "automargin": true,
           "gridcolor": "white",
           "linecolor": "white",
           "ticks": "",
           "title": {
            "standoff": 15
           },
           "zerolinecolor": "white",
           "zerolinewidth": 2
          }
         }
        },
        "width": 800,
        "xaxis": {
         "anchor": "y",
         "autorange": true,
         "constrain": "domain",
         "domain": [
          0.299512987012987,
          0.700487012987013
         ],
         "range": [
          -0.5,
          18.5
         ],
         "scaleanchor": "y",
         "type": "category"
        },
        "yaxis": {
         "anchor": "x",
         "autorange": true,
         "constrain": "domain",
         "domain": [
          0,
          1
         ],
         "range": [
          18.5,
          -0.5
         ],
         "type": "category"
        }
       }
      },
      "image/png": "[encoded data removed]",
      "text/html": [
       "<div>                            <div id=\"907a5996-7d3e-43fe-a670-d160ce08b1a7\" class=\"plotly-graph-div\" style=\"height:400px; width:800px;\"></div>            <script type=\"text/javascript\">                require([\"plotly\"], function(Plotly) {                    window.PLOTLYENV=window.PLOTLYENV || {};                                    if (document.getElementById(\"907a5996-7d3e-43fe-a670-d160ce08b1a7\")) {                    Plotly.newPlot(                        \"907a5996-7d3e-43fe-a670-d160ce08b1a7\",                        [{\"coloraxis\":\"coloraxis\",\"hovertemplate\":\"x: %{x}<br>y: %{y}<br>color: %{z}<extra></extra>\",\"name\":\"0\",\"type\":\"heatmap\",\"x\":[\"FGM_diff\",\"FGA_diff\",\"FG_PCT_diff\",\"FG3M_diff\",\"FG3A_diff\",\"FG3_PCT_diff\",\"FTM_diff\",\"FTA_diff\",\"FT_PCT_diff\",\"OREB_diff\",\"DREB_diff\",\"REB_diff\",\"AST_diff\",\"STL_diff\",\"BLK_diff\",\"TOV_diff\",\"PF_diff\",\"PTS_diff\",\"win?\"],\"xaxis\":\"x\",\"y\":[\"FGM_diff\",\"FGA_diff\",\"FG_PCT_diff\",\"FG3M_diff\",\"FG3A_diff\",\"FG3_PCT_diff\",\"FTM_diff\",\"FTA_diff\",\"FT_PCT_diff\",\"OREB_diff\",\"DREB_diff\",\"REB_diff\",\"AST_diff\",\"STL_diff\",\"BLK_diff\",\"TOV_diff\",\"PF_diff\",\"PTS_diff\",\"win?\"],\"yaxis\":\"y\",\"z\":[[1.0,0.28368,0.82301,0.35516,-0.04634,0.49809,-0.35205,-0.399,0.05592,-0.01819,0.56602,0.45645,0.62736,0.21555,0.17806,-0.17897,0.32374,0.84989,0.63262],[0.28368,1.0,-0.30612,0.00463,0.22031,-0.16949,-0.38762,-0.41014,0.00713,0.57479,-0.33519,0.03881,0.05405,0.45753,-0.24869,-0.60945,0.2187,0.06869,-0.04359],[0.82301,-0.30612,1.0,0.3495,-0.17678,0.59597,-0.12171,-0.15629,0.05413,-0.35403,0.75964,0.43193,0.58818,-0.0536,0.31953,0.1839,0.19541,0.80054,0.65292],[0.35516,0.00463,0.3495,1.0,0.65572,0.77177,-0.24163,-0.29621,0.09049,-0.11299,0.2556,0.14869,0.43512,0.00867,0.20094,0.04052,0.29977,0.57275,0.4037],[-0.04634,0.22031,-0.17678,0.65572,1.0,0.05087,-0.24386,-0.27759,0.04273,0.04562,-0.19499,-0.13568,0.12187,0.06854,0.17494,-0.10404,0.23711,0.0881,-0.00505],[0.49809,-0.16949,0.59597,0.77177,0.05087,1.0,-0.12752,-0.17391,0.08705,-0.18823,0.48426,0.29588,0.45955,-0.0405,0.12278,0.13386,0.20676,0.66808,0.53034],[-0.35205,-0.38762,-0.12171,-0.24163,-0.24386,-0.12752,1.0,0.91182,0.32614,0.08345,0.12448,0.14831,-0.24753,0.02106,-0.02012,-0.01885,-0.66112,0.07292,0.19199],[-0.399,-0.41014,-0.15629,-0.29621,-0.27759,-0.17391,0.91182,1.0,-0.06614,0.11312,0.05161,0.10452,-0.29357,0.01001,-0.04519,0.00124,-0.72982,-0.03082,0.10437],[0.05592,0.00713,0.05413,0.09049,0.04273,0.08705,0.32614,-0.06614,1.0,-0.05195,0.16333,0.10611,0.07359,0.0368,0.06272,-0.06082,0.05824,0.23796,0.21867],[-0.01819,0.57479,-0.35403,-0.11299,0.04562,-0.18823,0.08345,0.11312,-0.05195,1.0,0.02284,0.56687,-0.13994,0.03347,-0.23359,-0.04472,-0.12473,-0.01867,-0.01318],[0.56602,-0.33519,0.75964,0.2556,-0.19499,0.48426,0.12448,0.05161,0.16333,0.02284,1.0,0.83654,0.40338,-0.29641,0.18267,0.47686,0.04547,0.65503,0.56782],[0.45645,0.03881,0.43193,0.14869,-0.13568,0.29588,0.14831,0.10452,0.10611,0.56687,0.83654,1.0,0.25569,-0.2259,0.0225,0.36843,-0.03089,0.52953,0.46067],[0.62736,0.05405,0.58818,0.43512,0.12187,0.45955,-0.24753,-0.29357,0.07359,-0.13994,0.40338,0.25569,1.0,0.06937,0.16204,-0.02582,0.23671,0.59979,0.45373],[0.21555,0.45753,-0.0536,0.00867,0.06854,-0.0405,0.02106,0.01001,0.0368,0.03347,-0.29641,-0.2259,0.06937,1.0,-0.02407,-0.76485,0.03243,0.20385,0.12714],[0.17806,-0.24869,0.31953,0.20094,0.17494,0.12278,-0.02012,-0.04519,0.06272,-0.23359,0.18267,0.0225,0.16204,-0.02407,1.0,0.06649,0.09438,0.22293,0.21692],[-0.17897,-0.60945,0.1839,0.04052,-0.10404,0.13386,-0.01885,0.00124,-0.06082,-0.04472,0.47686,0.36843,-0.02582,-0.76485,0.06649,1.0,0.05507,-0.15209,-0.09526],[0.32374,0.2187,0.19541,0.29977,0.23711,0.20676,-0.66112,-0.72982,0.05824,-0.12473,0.04547,-0.03089,0.23671,0.03243,0.09438,0.05507,1.0,0.08454,-0.05538],[0.84989,0.06869,0.80054,0.57275,0.0881,0.66808,0.07292,-0.03082,0.23796,-0.01867,0.65503,0.52953,0.59979,0.20385,0.22293,-0.15209,0.08454,1.0,0.80125],[0.63262,-0.04359,0.65292,0.4037,-0.00505,0.53034,0.19199,0.10437,0.21867,-0.01318,0.56782,0.46067,0.45373,0.12714,0.21692,-0.09526,-0.05538,0.80125,1.0]]}],                        {\"coloraxis\":{\"colorscale\":[[0.0,\"#0d0887\"],[0.1111111111111111,\"#46039f\"],[0.2222222222222222,\"#7201a8\"],[0.3333333333333333,\"#9c179e\"],[0.4444444444444444,\"#bd3786\"],[0.5555555555555556,\"#d8576b\"],[0.6666666666666666,\"#ed7953\"],[0.7777777777777778,\"#fb9f3a\"],[0.8888888888888888,\"#fdca26\"],[1.0,\"#f0f921\"]]},\"height\":400,\"margin\":{\"t\":60},\"template\":{\"data\":{\"bar\":[{\"error_x\":{\"color\":\"#2a3f5f\"},\"error_y\":{\"color\":\"#2a3f5f\"},\"marker\":{\"line\":{\"color\":\"#E5ECF6\",\"width\":0.5},\"pattern\":{\"fillmode\":\"overlay\",\"size\":10,\"solidity\":0.2}},\"type\":\"bar\"}],\"barpolar\":[{\"marker\":{\"line\":{\"color\":\"#E5ECF6\",\"width\":0.5},\"pattern\":{\"fillmode\":\"overlay\",\"size\":10,\"solidity\":0.2}},\"type\":\"barpolar\"}],\"carpet\":[{\"aaxis\":{\"endlinecolor\":\"#2a3f5f\",\"gridcolor\":\"white\",\"linecolor\":\"white\",\"minorgridcolor\":\"white\",\"startlinecolor\":\"#2a3f5f\"},\"baxis\":{\"endlinecolor\":\"#2a3f5f\",\"gridcolor\":\"white\",\"linecolor\":\"white\",\"minorgridcolor\":\"white\",\"startlinecolor\":\"#2a3f5f\"},\"type\":\"carpet\"}],\"choropleth\":[{\"colorbar\":{\"outlinewidth\":0,\"ticks\":\"\"},\"type\":\"choropleth\"}],\"contour\":[{\"colorbar\":{\"outlinewidth\":0,\"ticks\":\"\"},\"colorscale\":[[0.0,\"#0d0887\"],[0.1111111111111111,\"#46039f\"],[0.2222222222222222,\"#7201a8\"],[0.3333333333333333,\"#9c179e\"],[0.4444444444444444,\"#bd3786\"],[0.5555555555555556,\"#d8576b\"],[0.6666666666666666,\"#ed7953\"],[0.7777777777777778,\"#fb9f3a\"],[0.8888888888888888,\"#fdca26\"],[1.0,\"#f0f921\"]],\"type\":\"contour\"}],\"contourcarpet\":[{\"colorbar\":{\"outlinewidth\":0,\"ticks\":\"\"},\"type\":\"contourcarpet\"}],\"heatmap\":[{\"colorbar\":{\"outlinewidth\":0,\"ticks\":\"\"},\"colorscale\":[[0.0,\"#0d0887\"],[0.1111111111111111,\"#46039f\"],[0.2222222222222222,\"#7201a8\"],[0.3333333333333333,\"#9c179e\"],[0.4444444444444444,\"#bd3786\"],[0.5555555555555556,\"#d8576b\"],[0.6666666666666666,\"#ed7953\"],[0.7777777777777778,\"#fb9f3a\"],[0.8888888888888888,\"#fdca26\"],[1.0,\"#f0f921\"]],\"type\":\"heatmap\"}],\"heatmapgl\":[{\"colorbar\":{\"outlinewidth\":0,\"ticks\":\"\"},\"colorscale\":[[0.0,\"#0d0887\"],[0.1111111111111111,\"#46039f\"],[0.2222222222222222,\"#7201a8\"],[0.3333333333333333,\"#9c179e\"],[0.4444444444444444,\"#bd3786\"],[0.5555555555555556,\"#d8576b\"],[0.6666666666666666,\"#ed7953\"],[0.7777777777777778,\"#fb9f3a\"],[0.8888888888888888,\"#fdca26\"],[1.0,\"#f0f921\"]],\"type\":\"heatmapgl\"}],\"histogram\":[{\"marker\":{\"pattern\":{\"fillmode\":\"overlay\",\"size\":10,\"solidity\":0.2}},\"type\":\"histogram\"}],\"histogram2d\":[{\"colorbar\":{\"outlinewidth\":0,\"ticks\":\"\"},\"colorscale\":[[0.0,\"#0d0887\"],[0.1111111111111111,\"#46039f\"],[0.2222222222222222,\"#7201a8\"],[0.3333333333333333,\"#9c179e\"],[0.4444444444444444,\"#bd3786\"],[0.5555555555555556,\"#d8576b\"],[0.6666666666666666,\"#ed7953\"],[0.7777777777777778,\"#fb9f3a\"],[0.8888888888888888,\"#fdca26\"],[1.0,\"#f0f921\"]],\"type\":\"histogram2d\"}],\"histogram2dcontour\":[{\"colorbar\":{\"outlinewidth\":0,\"ticks\":\"\"},\"colorscale\":[[0.0,\"#0d0887\"],[0.1111111111111111,\"#46039f\"],[0.2222222222222222,\"#7201a8\"],[0.3333333333333333,\"#9c179e\"],[0.4444444444444444,\"#bd3786\"],[0.5555555555555556,\"#d8576b\"],[0.6666666666666666,\"#ed7953\"],[0.7777777777777778,\"#fb9f3a\"],[0.8888888888888888,\"#fdca26\"],[1.0,\"#f0f921\"]],\"type\":\"histogram2dcontour\"}],\"mesh3d\":[{\"colorbar\":{\"outlinewidth\":0,\"ticks\":\"\"},\"type\":\"mesh3d\"}],\"parcoords\":[{\"line\":{\"colorbar\":{\"outlinewidth\":0,\"ticks\":\"\"}},\"type\":\"parcoords\"}],\"pie\":[{\"automargin\":true,\"type\":\"pie\"}],\"scatter\":[{\"marker\":{\"colorbar\":{\"outlinewidth\":0,\"ticks\":\"\"}},\"type\":\"scatter\"}],\"scatter3d\":[{\"line\":{\"colorbar\":{\"outlinewidth\":0,\"ticks\":\"\"}},\"marker\":{\"colorbar\":{\"outlinewidth\":0,\"ticks\":\"\"}},\"type\":\"scatter3d\"}],\"scattercarpet\":[{\"marker\":{\"colorbar\":{\"outlinewidth\":0,\"ticks\":\"\"}},\"type\":\"scattercarpet\"}],\"scattergeo\":[{\"marker\":{\"colorbar\":{\"outlinewidth\":0,\"ticks\":\"\"}},\"type\":\"scattergeo\"}],\"scattergl\":[{\"marker\":{\"colorbar\":{\"outlinewidth\":0,\"ticks\":\"\"}},\"type\":\"scattergl\"}],\"scattermapbox\":[{\"marker\":{\"colorbar\":{\"outlinewidth\":0,\"ticks\":\"\"}},\"type\":\"scattermapbox\"}],\"scatterpolar\":[{\"marker\":{\"colorbar\":{\"outlinewidth\":0,\"ticks\":\"\"}},\"type\":\"scatterpolar\"}],\"scatterpolargl\":[{\"marker\":{\"colorbar\":{\"outlinewidth\":0,\"ticks\":\"\"}},\"type\":\"scatterpolargl\"}],\"scatterternary\":[{\"marker\":{\"colorbar\":{\"outlinewidth\":0,\"ticks\":\"\"}},\"type\":\"scatterternary\"}],\"surface\":[{\"colorbar\":{\"outlinewidth\":0,\"ticks\":\"\"},\"colorscale\":[[0.0,\"#0d0887\"],[0.1111111111111111,\"#46039f\"],[0.2222222222222222,\"#7201a8\"],[0.3333333333333333,\"#9c179e\"],[0.4444444444444444,\"#bd3786\"],[0.5555555555555556,\"#d8576b\"],[0.6666666666666666,\"#ed7953\"],[0.7777777777777778,\"#fb9f3a\"],[0.8888888888888888,\"#fdca26\"],[1.0,\"#f0f921\"]],\"type\":\"surface\"}],\"table\":[{\"cells\":{\"fill\":{\"color\":\"#EBF0F8\"},\"line\":{\"color\":\"white\"}},\"header\":{\"fill\":{\"color\":\"#C8D4E3\"},\"line\":{\"color\":\"white\"}},\"type\":\"table\"}]},\"layout\":{\"annotationdefaults\":{\"arrowcolor\":\"#2a3f5f\",\"arrowhead\":0,\"arrowwidth\":1},\"autotypenumbers\":\"strict\",\"coloraxis\":{\"colorbar\":{\"outlinewidth\":0,\"ticks\":\"\"}},\"colorscale\":{\"diverging\":[[0,\"#8e0152\"],[0.1,\"#c51b7d\"],[0.2,\"#de77ae\"],[0.3,\"#f1b6da\"],[0.4,\"#fde0ef\"],[0.5,\"#f7f7f7\"],[0.6,\"#e6f5d0\"],[0.7,\"#b8e186\"],[0.8,\"#7fbc41\"],[0.9,\"#4d9221\"],[1,\"#276419\"]],\"sequential\":[[0.0,\"#0d0887\"],[0.1111111111111111,\"#46039f\"],[0.2222222222222222,\"#7201a8\"],[0.3333333333333333,\"#9c179e\"],[0.4444444444444444,\"#bd3786\"],[0.5555555555555556,\"#d8576b\"],[0.6666666666666666,\"#ed7953\"],[0.7777777777777778,\"#fb9f3a\"],[0.8888888888888888,\"#fdca26\"],[1.0,\"#f0f921\"]],\"sequentialminus\":[[0.0,\"#0d0887\"],[0.1111111111111111,\"#46039f\"],[0.2222222222222222,\"#7201a8\"],[0.3333333333333333,\"#9c179e\"],[0.4444444444444444,\"#bd3786\"],[0.5555555555555556,\"#d8576b\"],[0.6666666666666666,\"#ed7953\"],[0.7777777777777778,\"#fb9f3a\"],[0.8888888888888888,\"#fdca26\"],[1.0,\"#f0f921\"]]},\"colorway\":[\"#636efa\",\"#EF553B\",\"#00cc96\",\"#ab63fa\",\"#FFA15A\",\"#19d3f3\",\"#FF6692\",\"#B6E880\",\"#FF97FF\",\"#FECB52\"],\"font\":{\"color\":\"#2a3f5f\"},\"geo\":{\"bgcolor\":\"white\",\"lakecolor\":\"white\",\"landcolor\":\"#E5ECF6\",\"showlakes\":true,\"showland\":true,\"subunitcolor\":\"white\"},\"hoverlabel\":{\"align\":\"left\"},\"hovermode\":\"closest\",\"mapbox\":{\"style\":\"light\"},\"paper_bgcolor\":\"white\",\"plot_bgcolor\":\"#E5ECF6\",\"polar\":{\"angularaxis\":{\"gridcolor\":\"white\",\"linecolor\":\"white\",\"ticks\":\"\"},\"bgcolor\":\"#E5ECF6\",\"radialaxis\":{\"gridcolor\":\"white\",\"linecolor\":\"white\",\"ticks\":\"\"}},\"scene\":{\"xaxis\":{\"backgroundcolor\":\"#E5ECF6\",\"gridcolor\":\"white\",\"gridwidth\":2,\"linecolor\":\"white\",\"showbackground\":true,\"ticks\":\"\",\"zerolinecolor\":\"white\"},\"yaxis\":{\"backgroundcolor\":\"#E5ECF6\",\"gridcolor\":\"white\",\"gridwidth\":2,\"linecolor\":\"white\",\"showbackground\":true,\"ticks\":\"\",\"zerolinecolor\":\"white\"},\"zaxis\":{\"backgroundcolor\":\"#E5ECF6\",\"gridcolor\":\"white\",\"gridwidth\":2,\"linecolor\":\"white\",\"showbackground\":true,\"ticks\":\"\",\"zerolinecolor\":\"white\"}},\"shapedefaults\":{\"line\":{\"color\":\"#2a3f5f\"}},\"ternary\":{\"aaxis\":{\"gridcolor\":\"white\",\"linecolor\":\"white\",\"ticks\":\"\"},\"baxis\":{\"gridcolor\":\"white\",\"linecolor\":\"white\",\"ticks\":\"\"},\"bgcolor\":\"#E5ECF6\",\"caxis\":{\"gridcolor\":\"white\",\"linecolor\":\"white\",\"ticks\":\"\"}},\"title\":{\"x\":0.05},\"xaxis\":{\"automargin\":true,\"gridcolor\":\"white\",\"linecolor\":\"white\",\"ticks\":\"\",\"title\":{\"standoff\":15},\"zerolinecolor\":\"white\",\"zerolinewidth\":2},\"yaxis\":{\"automargin\":true,\"gridcolor\":\"white\",\"linecolor\":\"white\",\"ticks\":\"\",\"title\":{\"standoff\":15},\"zerolinecolor\":\"white\",\"zerolinewidth\":2}}},\"width\":800,\"xaxis\":{\"anchor\":\"y\",\"constrain\":\"domain\",\"domain\":[0.0,1.0],\"scaleanchor\":\"y\"},\"yaxis\":{\"anchor\":\"x\",\"autorange\":\"reversed\",\"constrain\":\"domain\",\"domain\":[0.0,1.0]}},                        {\"responsive\": true}                    ).then(function(){\n",
       "                            \n",
       "var gd = document.getElementById('907a5996-7d3e-43fe-a670-d160ce08b1a7');\n",
       "var x = new MutationObserver(function (mutations, observer) {{\n",
       "        var display = window.getComputedStyle(gd).display;\n",
       "        if (!display || display === 'none') {{\n",
       "            console.log([gd, 'removed!']);\n",
       "            Plotly.purge(gd);\n",
       "            observer.disconnect();\n",
       "        }}\n",
       "}});\n",
       "\n",
       "// Listen for the removal of the full notebook cells\n",
       "var notebookContainer = gd.closest('#notebook-container');\n",
       "if (notebookContainer) {{\n",
       "    x.observe(notebookContainer, {childList: true});\n",
       "}}\n",
       "\n",
       "// Listen for the clearing of the current output cell\n",
       "var outputEl = gd.closest('.output');\n",
       "if (outputEl) {{\n",
       "    x.observe(outputEl, {childList: true});\n",
       "}}\n",
       "\n",
       "                        })                };                });            </script>        </div>"
      ]
     },
     "metadata": {},
     "output_type": "display_data"
    }
   ],
   "source": [
    "# correlation between stats\n",
    "\n",
    "columns = ['FGM_diff', 'FGA_diff',\n",
    "       'FG_PCT_diff', 'FG3M_diff', 'FG3A_diff', 'FG3_PCT_diff', 'FTM_diff',\n",
    "       'FTA_diff', 'FT_PCT_diff', 'OREB_diff', 'DREB_diff', 'REB_diff',\n",
    "       'AST_diff', 'STL_diff', 'BLK_diff', 'TOV_diff', 'PF_diff', 'PTS_diff',\n",
    "       'win?']\n",
    "\n",
    "gamelog_2020_21.corr = gamelog_2020_21[columns].corr().round(5)\n",
    "\n",
    "plt.rcParams['figure.figsize'] = [5, 20]\n",
    "px.imshow(gamelog_2020_21.corr, width=800, height=400)"
   ]
  },
  {
   "cell_type": "code",
   "execution_count": 18,
   "id": "4d5df925-e2ac-4ff1-80d9-5d2d414195fa",
   "metadata": {},
   "outputs": [
    {
     "data": {
      "image/png": "[encoded data removed]",
      "text/plain": [
       "<Figure size 1152x432 with 1 Axes>"
      ]
     },
     "metadata": {
      "needs_background": "light"
     },
     "output_type": "display_data"
    }
   ],
   "source": [
    "# plot violin plot\n",
    "stats_col = 'FG_PCT'\n",
    "%matplotlib inline\n",
    "plt.figure(figsize=(16, 6))\n",
    "graph = sns.violinplot(data=gamelog_2020_21, y='FG3A_diff', x='TEAM' ,inner=None)\n",
    "graph.axhline(1.25)\n",
    "plt.show()"
   ]
  },
  {
   "cell_type": "code",
   "execution_count": 70,
   "id": "2546138a-5bfd-47fa-9840-afc119728674",
   "metadata": {},
   "outputs": [
    {
     "data": {
      "application/vnd.plotly.v1+json": {
       "config": {
        "plotlyServerURL": "https://plot.ly"
       },
       "data": [
        {
         "hovertemplate": "PTS_diff=%{x}<br>FG_PCT_diff=%{y}<extra></extra>",
         "legendgroup": "",
         "marker": {
          "color": "#636efa",
          "opacity": 0.2,
          "symbol": "circle"
         },
         "mode": "markers",
         "name": "",
         "showlegend": false,
         "type": "scattergl",
         "x": [
          29,
          23,
          4,
          1,
          32,
          9,
          11,
          7,
          15,
          16,
          12,
          5,
          4,
          12,
          16,
          6,
          23,
          5,
          16,
          5,
          23,
          12,
          18,
          15,
          1,
          3,
          14,
          15,
          8,
          8,
          11,
          16,
          9,
          18,
          8,
          11,
          18,
          18,
          8,
          10,
          20,
          16,
          36,
          3,
          9,
          13,
          5,
          8,
          1,
          18,
          9,
          2,
          30,
          16,
          17,
          8,
          16,
          27,
          7,
          5,
          1,
          6,
          12,
          13,
          14,
          4,
          4,
          16,
          38,
          27,
          9,
          2,
          12,
          2,
          19,
          5,
          1,
          8,
          16,
          13,
          27,
          24,
          9,
          11,
          7,
          11,
          3,
          16,
          1,
          2,
          15,
          12,
          12,
          3,
          4,
          5,
          24,
          9,
          7,
          2,
          5,
          4,
          14,
          17,
          35,
          7,
          7,
          7,
          7,
          6,
          9,
          17,
          5,
          20,
          34,
          5,
          10,
          5,
          31,
          29,
          9,
          1,
          22,
          5,
          18,
          5,
          4,
          33,
          3,
          14,
          6,
          12,
          12,
          22,
          21,
          8,
          17,
          6,
          10,
          9,
          16,
          8,
          14,
          21,
          23,
          4,
          7,
          20,
          8,
          3,
          8,
          13,
          26,
          8,
          13,
          5,
          16,
          3,
          10,
          3,
          8,
          4,
          18,
          27,
          20,
          4,
          14,
          1,
          10,
          30,
          15,
          5,
          10,
          1,
          15,
          8,
          22,
          13,
          5,
          21,
          20,
          40,
          16,
          13,
          11,
          9,
          6,
          17,
          3,
          10,
          13,
          1,
          5,
          2,
          6,
          5,
          12,
          11,
          14,
          7,
          13,
          10,
          51,
          13,
          11,
          5,
          16,
          6,
          10,
          2,
          24,
          13,
          1,
          2,
          29,
          17,
          2,
          10,
          15,
          10,
          7,
          9,
          24,
          5,
          11,
          4,
          25,
          15,
          1,
          10,
          31,
          6,
          30,
          5,
          17,
          17,
          2,
          38,
          11,
          27,
          4,
          8,
          4,
          18,
          10,
          25,
          12,
          7,
          15,
          13,
          12,
          3,
          6,
          3,
          39,
          21,
          15,
          26,
          4,
          21,
          11,
          18,
          38,
          9,
          16,
          1,
          14,
          13,
          14,
          12,
          9,
          4,
          8,
          8,
          31,
          6,
          23,
          31,
          27,
          12,
          22,
          22,
          2,
          1,
          10,
          31,
          15,
          10,
          1,
          7,
          7,
          4,
          9,
          22,
          18,
          12,
          30,
          14,
          3,
          19,
          25,
          1,
          4,
          42,
          8,
          3,
          23,
          19,
          24,
          5,
          5,
          12,
          1,
          19,
          2,
          11,
          7,
          17,
          10,
          17,
          18,
          24,
          10,
          13,
          33,
          9,
          27,
          10,
          26,
          20,
          19,
          4,
          7,
          17,
          19,
          7,
          22,
          14,
          26,
          4,
          8,
          14,
          19,
          33,
          38,
          5,
          3,
          7,
          5,
          23,
          23,
          13,
          7,
          12,
          7,
          2,
          2,
          13,
          4,
          11,
          12,
          8,
          25,
          9,
          21,
          3,
          14,
          11,
          16,
          31,
          5,
          26,
          9,
          8,
          10,
          1,
          7,
          6,
          21,
          8,
          1,
          7,
          11,
          7,
          17,
          29,
          17,
          18,
          2,
          2,
          14,
          6,
          14,
          36,
          23,
          13,
          12,
          8,
          6,
          9,
          10,
          17,
          5,
          5,
          20,
          22,
          2,
          9,
          6,
          14,
          7,
          5,
          10,
          15,
          5,
          11,
          8,
          10,
          10,
          8,
          8,
          14,
          2,
          8,
          7,
          2,
          6,
          27,
          1,
          9,
          6,
          4,
          28,
          11,
          13,
          14,
          9,
          12,
          8,
          1,
          6,
          3,
          10,
          10,
          38,
          7,
          11,
          25,
          37,
          1,
          18,
          15,
          2,
          27,
          7,
          4,
          11,
          6,
          33,
          1,
          5,
          4,
          27,
          13,
          13,
          13,
          25,
          18,
          20,
          28,
          7,
          14,
          3,
          9,
          22,
          10,
          15,
          10,
          30,
          47,
          39,
          15,
          19,
          32,
          12,
          7,
          1,
          5,
          14,
          8,
          4,
          10,
          1,
          6,
          4,
          2,
          30,
          4,
          3,
          5,
          10,
          8,
          5,
          10,
          14,
          14,
          12,
          8,
          6,
          17,
          13,
          9,
          5,
          5,
          15,
          30,
          28,
          2,
          22,
          12,
          5,
          2,
          4,
          7,
          9,
          5,
          5,
          12,
          18,
          11,
          37,
          9,
          4,
          11,
          4,
          11,
          17,
          10,
          4,
          22,
          4,
          13,
          4,
          2,
          7,
          7,
          6,
          13,
          34,
          4,
          28,
          26,
          4,
          9,
          4,
          6,
          14,
          25,
          19,
          17,
          10,
          12,
          10,
          8,
          10,
          15,
          6,
          4,
          44,
          6,
          4,
          18,
          1,
          22,
          10,
          19,
          3,
          19,
          4,
          11,
          22,
          18,
          11,
          4,
          21,
          15,
          7,
          30,
          12,
          5,
          4,
          9,
          20,
          7,
          1,
          5,
          9,
          5,
          7,
          1,
          8,
          9,
          4,
          18,
          11,
          4,
          9,
          1,
          11,
          20,
          11,
          7,
          10,
          6,
          12,
          9,
          9,
          7,
          57,
          19,
          6,
          6,
          8,
          7,
          5,
          4,
          6,
          15,
          5,
          3,
          27,
          11,
          3,
          6,
          12,
          16,
          18,
          10,
          15,
          2,
          24,
          9,
          7,
          2,
          20,
          1,
          19,
          14,
          11,
          25,
          14,
          2,
          20,
          12,
          2,
          22,
          44,
          31,
          3,
          6,
          18,
          24,
          10,
          9,
          20,
          8,
          10,
          1,
          24,
          3,
          35,
          26,
          22,
          8,
          16,
          14,
          7,
          7,
          5,
          8,
          16,
          7,
          9,
          24,
          1,
          4,
          12,
          8,
          17,
          3,
          5,
          17,
          15,
          24,
          7,
          20,
          6,
          2,
          37,
          1,
          23,
          16,
          3,
          21,
          8,
          8,
          3,
          1,
          8,
          20,
          6,
          28,
          4,
          3,
          37,
          5,
          7,
          4,
          4,
          10,
          17,
          12,
          23,
          6,
          22,
          10,
          19,
          9,
          32,
          31,
          18,
          19,
          9,
          1,
          6,
          9,
          17,
          1,
          6,
          21,
          6,
          8,
          8,
          3,
          11,
          25,
          16,
          4,
          16,
          7,
          11,
          22,
          5,
          36,
          10,
          19,
          21,
          21,
          1,
          15,
          48,
          23,
          5,
          7,
          3,
          6,
          8,
          1,
          4,
          4,
          2,
          12,
          2,
          11,
          3,
          19,
          4,
          9,
          16,
          11,
          1,
          3,
          6,
          6,
          1,
          26,
          18,
          25,
          8,
          2,
          16,
          28,
          11,
          4,
          12,
          4,
          7,
          3,
          14,
          17,
          2,
          22,
          2,
          14,
          11,
          2,
          20,
          3,
          3,
          3,
          5,
          5,
          9,
          2,
          14,
          9,
          5,
          4,
          10,
          3,
          2,
          21,
          9,
          3,
          2,
          15,
          15,
          26,
          23,
          2,
          14,
          16,
          6,
          7,
          10,
          27,
          26,
          3,
          12,
          11,
          5,
          5,
          3,
          10,
          4,
          20,
          21,
          12,
          10,
          3,
          9,
          3,
          5,
          12,
          5,
          4,
          10,
          9,
          2,
          6,
          8,
          5,
          9,
          3,
          16,
          5,
          2,
          17,
          5,
          3,
          2,
          13,
          12,
          1,
          9,
          2,
          7,
          16,
          11,
          6,
          11,
          5,
          20,
          2,
          53,
          24,
          11,
          7,
          5,
          14,
          11,
          22,
          15,
          6,
          15,
          13,
          5,
          20,
          23,
          3,
          3,
          21,
          17,
          22,
          16,
          8,
          7,
          32,
          11,
          4,
          49,
          23,
          14,
          8,
          10,
          16,
          19,
          46,
          7,
          4,
          39,
          16,
          3,
          30,
          25,
          3,
          8,
          15,
          15,
          25,
          22,
          18,
          11,
          18,
          14,
          14,
          8,
          17,
          21,
          12,
          19,
          12,
          14,
          19,
          11,
          16,
          4,
          24,
          30,
          10,
          13,
          21,
          6,
          1,
          20,
          1,
          6,
          29,
          5,
          10,
          4,
          17,
          7,
          2,
          13,
          11,
          11,
          18,
          12,
          16,
          12,
          10,
          9,
          6,
          8,
          4,
          15,
          14,
          49,
          28,
          14,
          9,
          14,
          16,
          31,
          17,
          4,
          2,
          11,
          10,
          5,
          15,
          5,
          5,
          15,
          1,
          2,
          13,
          29,
          9,
          9,
          20,
          4,
          12,
          21,
          2,
          12,
          4,
          3,
          15,
          8,
          14,
          9,
          2,
          16,
          2,
          3,
          7,
          2,
          12,
          13,
          4,
          3,
          3,
          21,
          1,
          21,
          14,
          14,
          4,
          6,
          12,
          24,
          29,
          14,
          13,
          4,
          24,
          12,
          11,
          6,
          11,
          15,
          15,
          20,
          5,
          3,
          10,
          3,
          13,
          21,
          6,
          8,
          8,
          11,
          17,
          10,
          5,
          25,
          3,
          6,
          10,
          3,
          33,
          1,
          3,
          2,
          6,
          25,
          22,
          8,
          12,
          3,
          3,
          21,
          8,
          8,
          8,
          19,
          2
         ],
         "xaxis": "x",
         "y": [
          0.20700000000000002,
          0.05299999999999999,
          0.066,
          -0.031000000000000028,
          0.21300000000000002,
          0.07100000000000001,
          0.029000000000000026,
          -0.025999999999999968,
          0.05700000000000005,
          0.019999999999999962,
          0,
          -0.0010000000000000009,
          -0.01100000000000001,
          0.08300000000000007,
          0.09300000000000003,
          -0.03500000000000003,
          0.13099999999999995,
          0.05499999999999999,
          0.05400000000000005,
          -0.021999999999999964,
          0.17400000000000004,
          0.03500000000000003,
          0.068,
          0.07300000000000001,
          -0.0050000000000000044,
          0.018000000000000016,
          0.10599999999999998,
          0.08700000000000002,
          0.007000000000000006,
          0.10599999999999993,
          0.14499999999999996,
          0.08300000000000002,
          0.059,
          0.028000000000000025,
          -0.014000000000000012,
          0.07200000000000001,
          -0.028000000000000025,
          0.05500000000000005,
          0.04899999999999999,
          0.02899999999999997,
          0.12400000000000005,
          0.07300000000000001,
          0.14300000000000002,
          -0.066,
          0.05299999999999999,
          0.020000000000000018,
          -0.044999999999999984,
          0.11599999999999994,
          -0.010999999999999954,
          0.08400000000000002,
          0.050000000000000044,
          0.0020000000000000018,
          0.056999999999999995,
          0.09300000000000003,
          0.04800000000000004,
          0.044999999999999984,
          0.07400000000000001,
          0.16900000000000004,
          0.11299999999999999,
          -0.006000000000000005,
          0.019999999999999962,
          0.119,
          0.13400000000000006,
          0.02899999999999997,
          -0.04099999999999998,
          -0.041000000000000036,
          0.006000000000000005,
          0.03999999999999998,
          0.15900000000000003,
          0.10699999999999998,
          0.010999999999999954,
          -0.008000000000000007,
          0.08799999999999997,
          0.08599999999999997,
          0.10800000000000004,
          -0.01200000000000001,
          -0.03600000000000003,
          0.09400000000000003,
          0.017000000000000015,
          0.08199999999999996,
          0.062,
          0.10100000000000003,
          0.01100000000000001,
          0.11699999999999999,
          0.08600000000000002,
          0.08500000000000002,
          -0.03500000000000003,
          0.10599999999999998,
          0.07700000000000001,
          0.024999999999999967,
          0.08900000000000002,
          0.03400000000000003,
          0.061,
          -0.03199999999999997,
          0.02200000000000002,
          0.006000000000000005,
          0.10900000000000004,
          0.07700000000000001,
          0.029000000000000026,
          0.02699999999999997,
          -0.01699999999999996,
          0.057999999999999996,
          0.064,
          0.137,
          0.18900000000000006,
          0.11200000000000004,
          0.030000000000000027,
          0.015000000000000013,
          0.0010000000000000009,
          0.07,
          0.07300000000000001,
          0.09800000000000003,
          -0.018000000000000016,
          0.197,
          0.124,
          0.10999999999999993,
          0.028000000000000025,
          0.04899999999999999,
          0.138,
          0.09300000000000003,
          0.07300000000000001,
          0.09800000000000003,
          0.04799999999999999,
          -0.031000000000000028,
          0.11499999999999999,
          0.013000000000000012,
          0.0040000000000000036,
          0.10899999999999999,
          -0.043999999999999984,
          0.09800000000000003,
          0.09500000000000003,
          0.09800000000000003,
          0.055999999999999994,
          0.027000000000000024,
          0.08300000000000002,
          0.10300000000000004,
          0.067,
          -0.017000000000000015,
          0.056999999999999995,
          0.10700000000000004,
          0.03600000000000003,
          0.06700000000000006,
          0.07300000000000001,
          0.043999999999999984,
          0.07600000000000001,
          -0.04300000000000004,
          0.13899999999999996,
          0.15300000000000002,
          0.14899999999999997,
          0.030999999999999972,
          0.007000000000000006,
          0.08699999999999997,
          0.127,
          0.05199999999999999,
          0.016000000000000014,
          -0.055999999999999994,
          0.065,
          0.025000000000000022,
          0.02100000000000002,
          0.04300000000000004,
          -0.0030000000000000027,
          -0.061,
          0.07600000000000001,
          0.15400000000000003,
          0.10799999999999998,
          0.017000000000000015,
          0.065,
          0.02400000000000002,
          -0.057999999999999996,
          0.11699999999999999,
          0.10299999999999998,
          0.010000000000000009,
          -0.006000000000000005,
          0.032999999999999974,
          0.063,
          0.031000000000000028,
          0.03700000000000003,
          0.10600000000000004,
          0.07900000000000001,
          0.062000000000000055,
          0.04299999999999998,
          0.17600000000000005,
          0.08600000000000002,
          0.07700000000000001,
          0.06,
          0.05299999999999999,
          0.027000000000000024,
          0.11600000000000005,
          -0.0050000000000000044,
          0.043999999999999984,
          0.04699999999999993,
          0.056999999999999995,
          0.05499999999999999,
          -0.07700000000000001,
          -0.03799999999999998,
          0.022999999999999965,
          0.08000000000000002,
          0.03699999999999998,
          0.067,
          0.03999999999999998,
          0.08599999999999997,
          0.03799999999999998,
          0.15199999999999997,
          0.07800000000000001,
          0.05399999999999999,
          0.03199999999999997,
          -0.0030000000000000027,
          0.05399999999999999,
          -0.009000000000000008,
          0.01200000000000001,
          0.059,
          0.09499999999999997,
          -0.017000000000000015,
          0.02300000000000002,
          0.046999999999999986,
          0.04500000000000004,
          0.08200000000000002,
          0.02200000000000002,
          0.052999999999999936,
          0.017000000000000015,
          0.069,
          0.05399999999999999,
          0.06900000000000006,
          0.0050000000000000044,
          0.05199999999999999,
          0.0050000000000000044,
          0.12799999999999995,
          0.031000000000000028,
          -0.014000000000000012,
          0.12799999999999995,
          0.15300000000000002,
          0.08200000000000002,
          0.13100000000000006,
          -0.044999999999999984,
          0.10499999999999998,
          -0.0010000000000000009,
          0.06,
          0.21699999999999997,
          0.11300000000000004,
          0.08200000000000002,
          0.018000000000000016,
          0.009999999999999953,
          0.015000000000000013,
          0.019000000000000017,
          -0.012999999999999956,
          0.10400000000000004,
          0.08300000000000002,
          0.056999999999999995,
          -0.029000000000000026,
          0.07600000000000001,
          0.059,
          0.01799999999999996,
          -0.02400000000000002,
          0.015000000000000013,
          0.17599999999999993,
          0.07900000000000001,
          0.10100000000000003,
          0.10400000000000004,
          0.007000000000000006,
          0.15000000000000002,
          0.05399999999999999,
          0.07900000000000001,
          0.06900000000000006,
          0.01100000000000001,
          0.07200000000000001,
          -0.03300000000000003,
          -0.02400000000000002,
          0.019999999999999962,
          0.04300000000000004,
          0.12100000000000005,
          0.14699999999999996,
          0.012999999999999956,
          0.056999999999999995,
          -0.0010000000000000009,
          0.134,
          0.07400000000000001,
          0.09000000000000002,
          0.15999999999999998,
          0.15100000000000002,
          0.10400000000000004,
          0.07900000000000001,
          0.133,
          0.02400000000000002,
          0.002999999999999947,
          0.006000000000000005,
          0.14800000000000002,
          0.13900000000000007,
          0.12,
          -0.10799999999999998,
          0.051000000000000045,
          -0.027000000000000024,
          0.061,
          0.05299999999999999,
          0.11900000000000005,
          0.031000000000000028,
          0.045999999999999985,
          0.04199999999999998,
          0.03799999999999998,
          0.0030000000000000027,
          0.03199999999999997,
          0.10100000000000003,
          0.01100000000000001,
          0.030999999999999972,
          0.17800000000000005,
          0.05499999999999999,
          0.05400000000000005,
          0.14,
          0.09300000000000003,
          0.15300000000000002,
          0.06,
          -0.0020000000000000018,
          0,
          0.05299999999999999,
          0.09700000000000003,
          -0.03699999999999998,
          0.08100000000000002,
          0.09599999999999997,
          0.07500000000000007,
          -0.007000000000000006,
          0.11499999999999999,
          0.07699999999999996,
          0.06800000000000006,
          0.02300000000000002,
          -0.020000000000000018,
          0.09800000000000003,
          0.04099999999999998,
          0.135,
          0.006000000000000005,
          0.026000000000000023,
          0.14800000000000002,
          0.039999999999999925,
          0.006000000000000005,
          0.04800000000000004,
          0.014999999999999958,
          0.10999999999999999,
          0.068,
          0.11100000000000004,
          0.061000000000000054,
          0.129,
          -0.030000000000000027,
          0.0040000000000000036,
          0.041000000000000036,
          0.023999999999999966,
          0.13600000000000007,
          0.11299999999999999,
          -0.0040000000000000036,
          -0.121,
          -0.009000000000000008,
          -0.01100000000000001,
          0.07400000000000001,
          0.11800000000000005,
          0.09700000000000003,
          0.0040000000000000036,
          -0.0050000000000000044,
          -0.040000000000000036,
          0.06499999999999995,
          0.024999999999999967,
          -0.04600000000000004,
          -0.0010000000000000009,
          0.06600000000000006,
          0.10000000000000003,
          -0.019000000000000017,
          0.067,
          0.09799999999999998,
          0.04899999999999999,
          0.02899999999999997,
          0.09899999999999998,
          -0.016000000000000014,
          0.052999999999999936,
          0.198,
          0.027000000000000024,
          0.064,
          0.033999999999999975,
          0.12600000000000006,
          0.018000000000000016,
          0.0020000000000000018,
          0.07200000000000001,
          0.08100000000000007,
          0.17699999999999994,
          0.04500000000000004,
          -0.04799999999999999,
          0.01799999999999996,
          0.063,
          -0.03999999999999998,
          -0.057999999999999996,
          0.065,
          0.10799999999999998,
          0.09400000000000003,
          0.0010000000000000009,
          0.02300000000000002,
          0.050000000000000044,
          -0.01799999999999996,
          0.10100000000000003,
          0.18700000000000006,
          0.06600000000000006,
          0.09500000000000003,
          0.043999999999999984,
          0.06999999999999995,
          0.030999999999999917,
          0.02400000000000002,
          0.017000000000000015,
          0.040000000000000036,
          0.03999999999999998,
          -0.030999999999999972,
          0.06699999999999995,
          0.09599999999999997,
          -0.03899999999999998,
          0.013000000000000012,
          0.035999999999999976,
          0.06400000000000006,
          0.03699999999999998,
          0.009999999999999953,
          0.017000000000000015,
          0.04099999999999998,
          -0.02400000000000002,
          0.09300000000000003,
          0.044999999999999984,
          0.09999999999999998,
          0.039000000000000035,
          0.08600000000000002,
          -0.03699999999999998,
          0.01200000000000001,
          0.030999999999999972,
          0.05399999999999999,
          0.043999999999999984,
          -0.05399999999999999,
          0.034999999999999976,
          0.129,
          -0.013999999999999957,
          0.08999999999999997,
          0.10999999999999993,
          0.05099999999999999,
          0.20099999999999996,
          0.09599999999999997,
          0.10999999999999999,
          0.11800000000000005,
          0.11899999999999994,
          0.01100000000000001,
          0.03700000000000003,
          0.049000000000000044,
          -0.03899999999999998,
          0.063,
          0.08200000000000002,
          0.04199999999999998,
          0.138,
          0.051000000000000045,
          0.030999999999999972,
          0.09899999999999998,
          0.11699999999999999,
          0.04300000000000004,
          0.18000000000000005,
          0.13,
          0.02100000000000002,
          0.15899999999999992,
          0.010000000000000009,
          0.01200000000000001,
          0.04700000000000004,
          -0.02300000000000002,
          0.15499999999999997,
          0.045999999999999985,
          0.03500000000000003,
          0.04200000000000004,
          0.10600000000000004,
          0.04899999999999999,
          0.04199999999999998,
          0.07,
          0.09400000000000003,
          0.069,
          0.01799999999999996,
          0.17700000000000005,
          0.025999999999999968,
          0.04300000000000004,
          -0.016000000000000014,
          0.09099999999999997,
          0.07600000000000001,
          0.026000000000000023,
          0.15200000000000002,
          0.13699999999999996,
          0.056999999999999995,
          0.08600000000000002,
          0.21300000000000002,
          0.06000000000000005,
          -0.008000000000000007,
          0.08899999999999997,
          -0.03699999999999998,
          -0.0040000000000000036,
          0.056999999999999995,
          0.032999999999999974,
          0.11299999999999993,
          0.031000000000000028,
          -0.017000000000000015,
          -0.025000000000000022,
          -0.062,
          -0.045999999999999985,
          -0.05600000000000005,
          0.05499999999999999,
          0.10700000000000004,
          0.10600000000000004,
          -0.02300000000000002,
          -0.03699999999999998,
          -0.031000000000000028,
          0.03699999999999998,
          0.063,
          -0.05199999999999999,
          0.11899999999999994,
          0.124,
          0.182,
          0.06599999999999995,
          0.16399999999999998,
          0.10100000000000003,
          0.08599999999999997,
          0.051000000000000045,
          0.025999999999999968,
          -0.009000000000000008,
          0.02300000000000002,
          0.16000000000000003,
          0.12700000000000006,
          -0.008000000000000007,
          0.135,
          -0.01100000000000001,
          0.08299999999999996,
          -0.01200000000000001,
          0.09399999999999997,
          -0.04300000000000004,
          -0.029000000000000026,
          0.17699999999999994,
          0.08399999999999996,
          0.025999999999999968,
          0.15799999999999997,
          0.01599999999999996,
          0.131,
          -0.02300000000000002,
          0.01799999999999996,
          0.01200000000000001,
          0.027999999999999914,
          0.041999999999999926,
          0.049000000000000044,
          0.02999999999999997,
          0.11499999999999994,
          0.10499999999999993,
          0.052000000000000046,
          0.031000000000000028,
          0.05800000000000005,
          0.11000000000000004,
          0.07500000000000001,
          0.006000000000000005,
          0.10799999999999998,
          -0.01699999999999996,
          0.17500000000000004,
          0.06500000000000006,
          0.16100000000000003,
          0.08300000000000002,
          0.02300000000000002,
          0.129,
          -0.01100000000000001,
          0.03700000000000003,
          0.11099999999999999,
          0.09300000000000003,
          0.0030000000000000027,
          0.12600000000000006,
          0.05800000000000005,
          0.02899999999999997,
          0.06799999999999995,
          0.07200000000000001,
          -0.0010000000000000009,
          0.033999999999999975,
          -0.019999999999999962,
          -0.031000000000000028,
          0.19000000000000006,
          0.016000000000000014,
          -0.09700000000000003,
          0.030000000000000027,
          0.0030000000000000027,
          0.0020000000000000018,
          0.05400000000000005,
          0.123,
          0.04199999999999998,
          0.09199999999999997,
          0.020999999999999963,
          0.08200000000000002,
          0.14800000000000002,
          0.067,
          0.08400000000000002,
          -0.006000000000000005,
          0.14300000000000002,
          0.07900000000000001,
          0.01899999999999996,
          0.177,
          0.07700000000000001,
          0.045999999999999985,
          0.10099999999999998,
          0.066,
          0.10900000000000004,
          0.038000000000000034,
          -0.01100000000000001,
          0.10399999999999998,
          0.017000000000000015,
          -0.016000000000000014,
          -0.0030000000000000027,
          0.02300000000000002,
          0.039000000000000035,
          0.057999999999999996,
          0.015000000000000013,
          0.07800000000000001,
          -0.013000000000000012,
          0.040000000000000036,
          0.03899999999999998,
          -0.032999999999999974,
          0.07,
          0.043999999999999984,
          0.016000000000000014,
          -0.04999999999999999,
          0.02100000000000002,
          -0.029000000000000026,
          0.10299999999999998,
          0.009000000000000008,
          0.14500000000000002,
          0.10999999999999999,
          0.313,
          0.15300000000000002,
          0.010999999999999954,
          -0.007000000000000006,
          0.07,
          0.064,
          -0.009000000000000008,
          0.06399999999999995,
          0.06800000000000006,
          0.026000000000000023,
          -0.066,
          -0.014000000000000012,
          0.13799999999999996,
          0.05600000000000005,
          0.04799999999999993,
          0.08400000000000002,
          0.028000000000000025,
          0.065,
          0.14599999999999996,
          0.10000000000000003,
          0.10400000000000004,
          0.03799999999999998,
          0.10999999999999999,
          0.061,
          -0.009000000000000008,
          0.04799999999999999,
          0.03199999999999997,
          0.0050000000000000044,
          0.18500000000000005,
          0.02999999999999997,
          0.015000000000000013,
          0.07499999999999996,
          0,
          0.04099999999999998,
          0.08000000000000002,
          0.11900000000000005,
          -0.0010000000000000009,
          0.026000000000000023,
          0.20600000000000002,
          0.09800000000000003,
          -0.029000000000000026,
          -0.0010000000000000009,
          0.066,
          -0.03199999999999997,
          -0.004999999999999949,
          0.056999999999999995,
          0.0050000000000000044,
          0.05199999999999999,
          0.019000000000000017,
          0.031000000000000028,
          0.09900000000000003,
          -0.029000000000000026,
          0.14699999999999996,
          0.05600000000000005,
          0.04500000000000004,
          0.07600000000000001,
          0.08399999999999996,
          0.02300000000000002,
          -0.017000000000000015,
          0.04999999999999999,
          0.023999999999999966,
          0.04799999999999999,
          0.068,
          0.07100000000000001,
          0.0010000000000000009,
          0.02100000000000002,
          0.0050000000000000044,
          0.028000000000000025,
          0.10000000000000003,
          -0.009999999999999953,
          0.04300000000000004,
          0.02799999999999997,
          0.11699999999999999,
          0.065,
          0.182,
          0.137,
          0.025000000000000022,
          0.08000000000000002,
          0.011999999999999955,
          0,
          0.11000000000000004,
          -0.07700000000000001,
          0.015000000000000013,
          0.068,
          0.04700000000000004,
          0.10700000000000004,
          -0.040000000000000036,
          0.025000000000000022,
          -0.03600000000000003,
          0.0010000000000000009,
          0.007000000000000006,
          0.08500000000000002,
          -0.027000000000000024,
          0.04999999999999999,
          -0.0010000000000000009,
          -0.03200000000000003,
          0.20699999999999996,
          0.13399999999999995,
          0.029000000000000026,
          -0.04600000000000004,
          0.067,
          0.07600000000000001,
          0.07100000000000001,
          0.03199999999999997,
          0.12899999999999995,
          0.13299999999999995,
          0.07800000000000001,
          -0.01200000000000001,
          0.118,
          0,
          0.065,
          0.14800000000000002,
          0.06799999999999995,
          0.07500000000000001,
          0.08699999999999997,
          0.02300000000000002,
          0.010000000000000009,
          0.133,
          0.12,
          0.03700000000000003,
          -0.07300000000000001,
          0.08200000000000002,
          0.05199999999999999,
          0.01100000000000001,
          -0.01200000000000001,
          0.033999999999999975,
          0.07100000000000001,
          -0.04099999999999998,
          0.015000000000000013,
          0.056999999999999995,
          0.08000000000000002,
          0.028000000000000025,
          0.017000000000000015,
          0.066,
          0.0040000000000000036,
          0.17399999999999993,
          0.03500000000000003,
          0.09500000000000003,
          0.069,
          0.006999999999999951,
          -0.012999999999999956,
          0.03199999999999997,
          0.137,
          0.046999999999999986,
          0.025999999999999968,
          0.02899999999999997,
          -0.08200000000000007,
          -0.07000000000000006,
          -0.019000000000000017,
          -0.0020000000000000018,
          -0.029000000000000026,
          0.0010000000000000009,
          -0.0040000000000000036,
          0.04600000000000004,
          0.028000000000000025,
          0.0030000000000000027,
          0.03500000000000003,
          0.08100000000000002,
          -0.057999999999999996,
          -0.030999999999999972,
          -0.021999999999999964,
          -0.09100000000000003,
          0.0050000000000000044,
          0.01699999999999996,
          -0.04899999999999999,
          -0.03500000000000003,
          0.009000000000000008,
          0.03300000000000003,
          0.12500000000000006,
          0.04299999999999998,
          -0.003999999999999948,
          -0.055999999999999994,
          0.04799999999999999,
          0.138,
          0.019000000000000017,
          0.05399999999999999,
          0.13600000000000007,
          -0.05299999999999999,
          0.05199999999999999,
          0.051999999999999935,
          0.045999999999999985,
          0.05500000000000005,
          0.07300000000000001,
          0.08499999999999996,
          -0.006000000000000005,
          0.11700000000000005,
          0.028000000000000025,
          -0.04799999999999999,
          0.07500000000000001,
          0.07299999999999995,
          -0.03500000000000003,
          0.07500000000000001,
          0.019999999999999962,
          0.0040000000000000036,
          0.08099999999999996,
          0.06300000000000006,
          0.07200000000000001,
          0.034999999999999976,
          0.07500000000000007,
          -0.01100000000000001,
          -0.05400000000000005,
          0.03500000000000003,
          -0.03899999999999998,
          0.09599999999999997,
          0.029000000000000026,
          0.0020000000000000018,
          -0.035999999999999976,
          0.008000000000000007,
          0.10199999999999998,
          0.10599999999999998,
          0.066,
          0.06300000000000006,
          0.04300000000000004,
          0.10900000000000004,
          0.028000000000000025,
          -0.013000000000000012,
          0.09599999999999997,
          0.08600000000000002,
          0.07600000000000001,
          0.03699999999999998,
          0.026000000000000023,
          0.09600000000000003,
          -0.035999999999999976,
          -0.007000000000000006,
          -0.009000000000000008,
          0.017000000000000015,
          0.13200000000000006,
          0.07600000000000001,
          0.10000000000000003,
          0.031000000000000028,
          -0.0020000000000000018,
          -0.064,
          -0.032999999999999974,
          -0.04199999999999998,
          0.011999999999999955,
          -0.01100000000000001,
          0.10700000000000004,
          0.057999999999999996,
          0.064,
          0.057999999999999996,
          -0.03199999999999997,
          0.06399999999999995,
          0.02400000000000002,
          -0.035999999999999976,
          0.08000000000000002,
          -0.049000000000000044,
          0.08000000000000002,
          0.009999999999999953,
          0.006000000000000005,
          0.04999999999999999,
          0.068,
          0.04300000000000004,
          -0.01599999999999996,
          0.038000000000000034,
          0.08300000000000002,
          -0.033999999999999975,
          0.07200000000000001,
          0.056999999999999995,
          -0.034999999999999976,
          0.11000000000000004,
          0.03699999999999998,
          -0.066,
          0.044999999999999984,
          0.039000000000000035,
          0.16299999999999998,
          0.07400000000000001,
          0.20500000000000002,
          0.08800000000000002,
          0.020000000000000018,
          0.10599999999999998,
          -0.056999999999999995,
          0.08899999999999997,
          0.02300000000000002,
          0.07500000000000001,
          0.12000000000000005,
          0.017000000000000015,
          0.020999999999999963,
          0.05399999999999999,
          0.008999999999999952,
          0.03500000000000003,
          0.122,
          -0.018000000000000016,
          -0.02799999999999997,
          0.014000000000000012,
          0.045999999999999985,
          0.009999999999999953,
          0.0010000000000000009,
          0.09000000000000002,
          -0.03500000000000003,
          0.15500000000000003,
          0.032999999999999974,
          0.02699999999999997,
          0.15700000000000003,
          0.10200000000000004,
          0.14299999999999996,
          0.09299999999999997,
          0.03199999999999997,
          -0.021999999999999964,
          0.056999999999999995,
          0.18600000000000005,
          -0.014999999999999958,
          -0.040000000000000036,
          0.11400000000000005,
          0.09799999999999998,
          0.0050000000000000044,
          0.09000000000000002,
          0.08299999999999996,
          -0.022999999999999965,
          -0.015000000000000013,
          0.11499999999999999,
          0.07100000000000001,
          0.07099999999999995,
          0.068,
          -0.013000000000000012,
          0.02300000000000002,
          0.052000000000000046,
          0.067,
          0.033999999999999975,
          0.014999999999999958,
          0.09000000000000002,
          0.15699999999999997,
          0.04400000000000004,
          0.007000000000000006,
          0,
          -0.03199999999999997,
          0.02699999999999997,
          0.006000000000000005,
          0.05299999999999999,
          0.11299999999999999,
          0.05400000000000005,
          0.11099999999999999,
          0.09399999999999997,
          0.055999999999999994,
          0.13200000000000006,
          0.07300000000000001,
          0.034999999999999976,
          0.05499999999999999,
          0.05499999999999999,
          0.062,
          0.15299999999999997,
          0.05199999999999999,
          0.064,
          0.015000000000000013,
          0.029000000000000026,
          0.09100000000000003,
          0.052000000000000046,
          0.11900000000000005,
          0.05400000000000005,
          0.05199999999999999,
          0.09300000000000003,
          0.01100000000000001,
          0.07800000000000001,
          -0.0050000000000000044,
          0.11500000000000005,
          0.021999999999999964,
          -0.02200000000000002,
          0.04500000000000004,
          -0.007000000000000006,
          0.10499999999999998,
          -0.01100000000000001,
          0.255,
          0.138,
          0.04800000000000004,
          0.056999999999999995,
          0.03200000000000003,
          -0.049000000000000044,
          0.14300000000000007,
          0.09000000000000008,
          0.03899999999999998,
          -0.006000000000000005,
          0.03899999999999998,
          0.062,
          -0.009999999999999953,
          0.07100000000000001,
          0.019000000000000017,
          0.08999999999999997,
          -0.0030000000000000027,
          -0.035999999999999976,
          -0.01200000000000001,
          0.11699999999999999,
          0.08500000000000002,
          0.08400000000000002,
          -0.030000000000000027,
          0.09700000000000003,
          0.021999999999999964,
          0.07100000000000001,
          0.09200000000000003,
          0.056999999999999995,
          0.06,
          0.040000000000000036,
          0.01699999999999996,
          0.10299999999999998,
          0.08300000000000007,
          0.09599999999999997,
          0.08900000000000002,
          -0.008000000000000007,
          0.017000000000000015,
          0.04199999999999998,
          0.019000000000000017,
          0.14700000000000002,
          -0.010000000000000009,
          0.049000000000000044,
          0.04200000000000004,
          -0.0050000000000000044,
          -0.017000000000000015,
          -0.04899999999999993,
          0.07400000000000001,
          -0.08100000000000002,
          0.07400000000000007,
          0.10300000000000004,
          0.08799999999999997,
          0,
          0.019999999999999962,
          0.08200000000000002,
          0.09300000000000003,
          0.008000000000000007,
          0.10000000000000003,
          -0.008000000000000007,
          0.07700000000000001,
          0.08500000000000002,
          0.09100000000000003,
          0.09200000000000003,
          -0.009000000000000008,
          0.06000000000000005,
          0.051000000000000045,
          0.07400000000000001,
          0.027000000000000024,
          -0.040000000000000036,
          -0.061,
          0.07600000000000001,
          -0.050000000000000044,
          0.09799999999999998,
          0.119,
          -0.08700000000000002,
          0.07399999999999995,
          0.034999999999999976,
          0.008000000000000007,
          -0.010000000000000009,
          0.05700000000000005,
          0.033999999999999975,
          0.129,
          -0.04200000000000004,
          -0.07900000000000007,
          0.09599999999999997,
          -0.046999999999999986,
          0.11399999999999999,
          -0.0010000000000000009,
          -0.017000000000000015,
          0.057999999999999996,
          0.033999999999999975,
          0.08200000000000002,
          0.045999999999999985,
          -0.019999999999999962,
          -0.010000000000000009,
          0.02300000000000002,
          0.02899999999999997,
          0.09599999999999997,
          0.137,
          -0.02300000000000002,
          0.0010000000000000009,
          0.121,
          0.02100000000000002
         ],
         "yaxis": "y"
        }
       ],
       "layout": {
        "autosize": true,
        "legend": {
         "tracegroupgap": 0
        },
        "margin": {
         "t": 60
        },
        "template": {
         "data": {
          "bar": [
           {
            "error_x": {
             "color": "#2a3f5f"
            },
            "error_y": {
             "color": "#2a3f5f"
            },
            "marker": {
             "line": {
              "color": "#E5ECF6",
              "width": 0.5
             },
             "pattern": {
              "fillmode": "overlay",
              "size": 10,
              "solidity": 0.2
             }
            },
            "type": "bar"
           }
          ],
          "barpolar": [
           {
            "marker": {
             "line": {
              "color": "#E5ECF6",
              "width": 0.5
             },
             "pattern": {
              "fillmode": "overlay",
              "size": 10,
              "solidity": 0.2
             }
            },
            "type": "barpolar"
           }
          ],
          "carpet": [
           {
            "aaxis": {
             "endlinecolor": "#2a3f5f",
             "gridcolor": "white",
             "linecolor": "white",
             "minorgridcolor": "white",
             "startlinecolor": "#2a3f5f"
            },
            "baxis": {
             "endlinecolor": "#2a3f5f",
             "gridcolor": "white",
             "linecolor": "white",
             "minorgridcolor": "white",
             "startlinecolor": "#2a3f5f"
            },
            "type": "carpet"
           }
          ],
          "choropleth": [
           {
            "colorbar": {
             "outlinewidth": 0,
             "ticks": ""
            },
            "type": "choropleth"
           }
          ],
          "contour": [
           {
            "colorbar": {
             "outlinewidth": 0,
             "ticks": ""
            },
            "colorscale": [
             [
              0,
              "#0d0887"
             ],
             [
              0.1111111111111111,
              "#46039f"
             ],
             [
              0.2222222222222222,
              "#7201a8"
             ],
             [
              0.3333333333333333,
              "#9c179e"
             ],
             [
              0.4444444444444444,
              "#bd3786"
             ],
             [
              0.5555555555555556,
              "#d8576b"
             ],
             [
              0.6666666666666666,
              "#ed7953"
             ],
             [
              0.7777777777777778,
              "#fb9f3a"
             ],
             [
              0.8888888888888888,
              "#fdca26"
             ],
             [
              1,
              "#f0f921"
             ]
            ],
            "type": "contour"
           }
          ],
          "contourcarpet": [
           {
            "colorbar": {
             "outlinewidth": 0,
             "ticks": ""
            },
            "type": "contourcarpet"
           }
          ],
          "heatmap": [
           {
            "colorbar": {
             "outlinewidth": 0,
             "ticks": ""
            },
            "colorscale": [
             [
              0,
              "#0d0887"
             ],
             [
              0.1111111111111111,
              "#46039f"
             ],
             [
              0.2222222222222222,
              "#7201a8"
             ],
             [
              0.3333333333333333,
              "#9c179e"
             ],
             [
              0.4444444444444444,
              "#bd3786"
             ],
             [
              0.5555555555555556,
              "#d8576b"
             ],
             [
              0.6666666666666666,
              "#ed7953"
             ],
             [
              0.7777777777777778,
              "#fb9f3a"
             ],
             [
              0.8888888888888888,
              "#fdca26"
             ],
             [
              1,
              "#f0f921"
             ]
            ],
            "type": "heatmap"
           }
          ],
          "heatmapgl": [
           {
            "colorbar": {
             "outlinewidth": 0,
             "ticks": ""
            },
            "colorscale": [
             [
              0,
              "#0d0887"
             ],
             [
              0.1111111111111111,
              "#46039f"
             ],
             [
              0.2222222222222222,
              "#7201a8"
             ],
             [
              0.3333333333333333,
              "#9c179e"
             ],
             [
              0.4444444444444444,
              "#bd3786"
             ],
             [
              0.5555555555555556,
              "#d8576b"
             ],
             [
              0.6666666666666666,
              "#ed7953"
             ],
             [
              0.7777777777777778,
              "#fb9f3a"
             ],
             [
              0.8888888888888888,
              "#fdca26"
             ],
             [
              1,
              "#f0f921"
             ]
            ],
            "type": "heatmapgl"
           }
          ],
          "histogram": [
           {
            "marker": {
             "pattern": {
              "fillmode": "overlay",
              "size": 10,
              "solidity": 0.2
             }
            },
            "type": "histogram"
           }
          ],
          "histogram2d": [
           {
            "colorbar": {
             "outlinewidth": 0,
             "ticks": ""
            },
            "colorscale": [
             [
              0,
              "#0d0887"
             ],
             [
              0.1111111111111111,
              "#46039f"
             ],
             [
              0.2222222222222222,
              "#7201a8"
             ],
             [
              0.3333333333333333,
              "#9c179e"
             ],
             [
              0.4444444444444444,
              "#bd3786"
             ],
             [
              0.5555555555555556,
              "#d8576b"
             ],
             [
              0.6666666666666666,
              "#ed7953"
             ],
             [
              0.7777777777777778,
              "#fb9f3a"
             ],
             [
              0.8888888888888888,
              "#fdca26"
             ],
             [
              1,
              "#f0f921"
             ]
            ],
            "type": "histogram2d"
           }
          ],
          "histogram2dcontour": [
           {
            "colorbar": {
             "outlinewidth": 0,
             "ticks": ""
            },
            "colorscale": [
             [
              0,
              "#0d0887"
             ],
             [
              0.1111111111111111,
              "#46039f"
             ],
             [
              0.2222222222222222,
              "#7201a8"
             ],
             [
              0.3333333333333333,
              "#9c179e"
             ],
             [
              0.4444444444444444,
              "#bd3786"
             ],
             [
              0.5555555555555556,
              "#d8576b"
             ],
             [
              0.6666666666666666,
              "#ed7953"
             ],
             [
              0.7777777777777778,
              "#fb9f3a"
             ],
             [
              0.8888888888888888,
              "#fdca26"
             ],
             [
              1,
              "#f0f921"
             ]
            ],
            "type": "histogram2dcontour"
           }
          ],
          "mesh3d": [
           {
            "colorbar": {
             "outlinewidth": 0,
             "ticks": ""
            },
            "type": "mesh3d"
           }
          ],
          "parcoords": [
           {
            "line": {
             "colorbar": {
              "outlinewidth": 0,
              "ticks": ""
             }
            },
            "type": "parcoords"
           }
          ],
          "pie": [
           {
            "automargin": true,
            "type": "pie"
           }
          ],
          "scatter": [
           {
            "marker": {
             "colorbar": {
              "outlinewidth": 0,
              "ticks": ""
             }
            },
            "type": "scatter"
           }
          ],
          "scatter3d": [
           {
            "line": {
             "colorbar": {
              "outlinewidth": 0,
              "ticks": ""
             }
            },
            "marker": {
             "colorbar": {
              "outlinewidth": 0,
              "ticks": ""
             }
            },
            "type": "scatter3d"
           }
          ],
          "scattercarpet": [
           {
            "marker": {
             "colorbar": {
              "outlinewidth": 0,
              "ticks": ""
             }
            },
            "type": "scattercarpet"
           }
          ],
          "scattergeo": [
           {
            "marker": {
             "colorbar": {
              "outlinewidth": 0,
              "ticks": ""
             }
            },
            "type": "scattergeo"
           }
          ],
          "scattergl": [
           {
            "marker": {
             "colorbar": {
              "outlinewidth": 0,
              "ticks": ""
             }
            },
            "type": "scattergl"
           }
          ],
          "scattermapbox": [
           {
            "marker": {
             "colorbar": {
              "outlinewidth": 0,
              "ticks": ""
             }
            },
            "type": "scattermapbox"
           }
          ],
          "scatterpolar": [
           {
            "marker": {
             "colorbar": {
              "outlinewidth": 0,
              "ticks": ""
             }
            },
            "type": "scatterpolar"
           }
          ],
          "scatterpolargl": [
           {
            "marker": {
             "colorbar": {
              "outlinewidth": 0,
              "ticks": ""
             }
            },
            "type": "scatterpolargl"
           }
          ],
          "scatterternary": [
           {
            "marker": {
             "colorbar": {
              "outlinewidth": 0,
              "ticks": ""
             }
            },
            "type": "scatterternary"
           }
          ],
          "surface": [
           {
            "colorbar": {
             "outlinewidth": 0,
             "ticks": ""
            },
            "colorscale": [
             [
              0,
              "#0d0887"
             ],
             [
              0.1111111111111111,
              "#46039f"
             ],
             [
              0.2222222222222222,
              "#7201a8"
             ],
             [
              0.3333333333333333,
              "#9c179e"
             ],
             [
              0.4444444444444444,
              "#bd3786"
             ],
             [
              0.5555555555555556,
              "#d8576b"
             ],
             [
              0.6666666666666666,
              "#ed7953"
             ],
             [
              0.7777777777777778,
              "#fb9f3a"
             ],
             [
              0.8888888888888888,
              "#fdca26"
             ],
             [
              1,
              "#f0f921"
             ]
            ],
            "type": "surface"
           }
          ],
          "table": [
           {
            "cells": {
             "fill": {
              "color": "#EBF0F8"
             },
             "line": {
              "color": "white"
             }
            },
            "header": {
             "fill": {
              "color": "#C8D4E3"
             },
             "line": {
              "color": "white"
             }
            },
            "type": "table"
           }
          ]
         },
         "layout": {
          "annotationdefaults": {
           "arrowcolor": "#2a3f5f",
           "arrowhead": 0,
           "arrowwidth": 1
          },
          "autotypenumbers": "strict",
          "coloraxis": {
           "colorbar": {
            "outlinewidth": 0,
            "ticks": ""
           }
          },
          "colorscale": {
           "diverging": [
            [
             0,
             "#8e0152"
            ],
            [
             0.1,
             "#c51b7d"
            ],
            [
             0.2,
             "#de77ae"
            ],
            [
             0.3,
             "#f1b6da"
            ],
            [
             0.4,
             "#fde0ef"
            ],
            [
             0.5,
             "#f7f7f7"
            ],
            [
             0.6,
             "#e6f5d0"
            ],
            [
             0.7,
             "#b8e186"
            ],
            [
             0.8,
             "#7fbc41"
            ],
            [
             0.9,
             "#4d9221"
            ],
            [
             1,
             "#276419"
            ]
           ],
           "sequential": [
            [
             0,
             "#0d0887"
            ],
            [
             0.1111111111111111,
             "#46039f"
            ],
            [
             0.2222222222222222,
             "#7201a8"
            ],
            [
             0.3333333333333333,
             "#9c179e"
            ],
            [
             0.4444444444444444,
             "#bd3786"
            ],
            [
             0.5555555555555556,
             "#d8576b"
            ],
            [
             0.6666666666666666,
             "#ed7953"
            ],
            [
             0.7777777777777778,
             "#fb9f3a"
            ],
            [
             0.8888888888888888,
             "#fdca26"
            ],
            [
             1,
             "#f0f921"
            ]
           ],
           "sequentialminus": [
            [
             0,
             "#0d0887"
            ],
            [
             0.1111111111111111,
             "#46039f"
            ],
            [
             0.2222222222222222,
             "#7201a8"
            ],
            [
             0.3333333333333333,
             "#9c179e"
            ],
            [
             0.4444444444444444,
             "#bd3786"
            ],
            [
             0.5555555555555556,
             "#d8576b"
            ],
            [
             0.6666666666666666,
             "#ed7953"
            ],
            [
             0.7777777777777778,
             "#fb9f3a"
            ],
            [
             0.8888888888888888,
             "#fdca26"
            ],
            [
             1,
             "#f0f921"
            ]
           ]
          },
          "colorway": [
           "#636efa",
           "#EF553B",
           "#00cc96",
           "#ab63fa",
           "#FFA15A",
           "#19d3f3",
           "#FF6692",
           "#B6E880",
           "#FF97FF",
           "#FECB52"
          ],
          "font": {
           "color": "#2a3f5f"
          },
          "geo": {
           "bgcolor": "white",
           "lakecolor": "white",
           "landcolor": "#E5ECF6",
           "showlakes": true,
           "showland": true,
           "subunitcolor": "white"
          },
          "hoverlabel": {
           "align": "left"
          },
          "hovermode": "closest",
          "mapbox": {
           "style": "light"
          },
          "paper_bgcolor": "white",
          "plot_bgcolor": "#E5ECF6",
          "polar": {
           "angularaxis": {
            "gridcolor": "white",
            "linecolor": "white",
            "ticks": ""
           },
           "bgcolor": "#E5ECF6",
           "radialaxis": {
            "gridcolor": "white",
            "linecolor": "white",
            "ticks": ""
           }
          },
          "scene": {
           "xaxis": {
            "backgroundcolor": "#E5ECF6",
            "gridcolor": "white",
            "gridwidth": 2,
            "linecolor": "white",
            "showbackground": true,
            "ticks": "",
            "zerolinecolor": "white"
           },
           "yaxis": {
            "backgroundcolor": "#E5ECF6",
            "gridcolor": "white",
            "gridwidth": 2,
            "linecolor": "white",
            "showbackground": true,
            "ticks": "",
            "zerolinecolor": "white"
           },
           "zaxis": {
            "backgroundcolor": "#E5ECF6",
            "gridcolor": "white",
            "gridwidth": 2,
            "linecolor": "white",
            "showbackground": true,
            "ticks": "",
            "zerolinecolor": "white"
           }
          },
          "shapedefaults": {
           "line": {
            "color": "#2a3f5f"
           }
          },
          "ternary": {
           "aaxis": {
            "gridcolor": "white",
            "linecolor": "white",
            "ticks": ""
           },
           "baxis": {
            "gridcolor": "white",
            "linecolor": "white",
            "ticks": ""
           },
           "bgcolor": "#E5ECF6",
           "caxis": {
            "gridcolor": "white",
            "linecolor": "white",
            "ticks": ""
           }
          },
          "title": {
           "x": 0.05
          },
          "xaxis": {
           "automargin": true,
           "gridcolor": "white",
           "linecolor": "white",
           "ticks": "",
           "title": {
            "standoff": 15
           },
           "zerolinecolor": "white",
           "zerolinewidth": 2
          },
          "yaxis": {
           "automargin": true,
           "gridcolor": "white",
           "linecolor": "white",
           "ticks": "",
           "title": {
            "standoff": 15
           },
           "zerolinecolor": "white",
           "zerolinewidth": 2
          }
         }
        },
        "xaxis": {
         "anchor": "y",
         "autorange": true,
         "domain": [
          0,
          1
         ],
         "range": [
          -2.4035087719298245,
          60.40350877192982
         ],
         "title": {
          "text": "PTS_diff"
         },
         "type": "linear"
        },
        "yaxis": {
         "anchor": "x",
         "autorange": true,
         "domain": [
          0,
          1
         ],
         "range": [
          -0.1546036745406824,
          0.3466036745406824
         ],
         "title": {
          "text": "FG_PCT_diff"
         },
         "type": "linear"
        }
       }
      },
      "image/png": "[encoded data removed]",
      "text/html": [
       "<div>                            <div id=\"fa7b4ac4-232a-49ef-ac2e-fbd2eb2906db\" class=\"plotly-graph-div\" style=\"height:525px; width:100%;\"></div>            <script type=\"text/javascript\">                require([\"plotly\"], function(Plotly) {                    window.PLOTLYENV=window.PLOTLYENV || {};                                    if (document.getElementById(\"fa7b4ac4-232a-49ef-ac2e-fbd2eb2906db\")) {                    Plotly.newPlot(                        \"fa7b4ac4-232a-49ef-ac2e-fbd2eb2906db\",                        [{\"hovertemplate\":\"PTS_diff=%{x}<br>FG_PCT_diff=%{y}<extra></extra>\",\"legendgroup\":\"\",\"marker\":{\"color\":\"#636efa\",\"opacity\":0.2,\"symbol\":\"circle\"},\"mode\":\"markers\",\"name\":\"\",\"showlegend\":false,\"type\":\"scattergl\",\"x\":[29,23,4,1,32,9,11,7,15,16,12,5,4,12,16,6,23,5,16,5,23,12,18,15,1,3,14,15,8,8,11,16,9,18,8,11,18,18,8,10,20,16,36,3,9,13,5,8,1,18,9,2,30,16,17,8,16,27,7,5,1,6,12,13,14,4,4,16,38,27,9,2,12,2,19,5,1,8,16,13,27,24,9,11,7,11,3,16,1,2,15,12,12,3,4,5,24,9,7,2,5,4,14,17,35,7,7,7,7,6,9,17,5,20,34,5,10,5,31,29,9,1,22,5,18,5,4,33,3,14,6,12,12,22,21,8,17,6,10,9,16,8,14,21,23,4,7,20,8,3,8,13,26,8,13,5,16,3,10,3,8,4,18,27,20,4,14,1,10,30,15,5,10,1,15,8,22,13,5,21,20,40,16,13,11,9,6,17,3,10,13,1,5,2,6,5,12,11,14,7,13,10,51,13,11,5,16,6,10,2,24,13,1,2,29,17,2,10,15,10,7,9,24,5,11,4,25,15,1,10,31,6,30,5,17,17,2,38,11,27,4,8,4,18,10,25,12,7,15,13,12,3,6,3,39,21,15,26,4,21,11,18,38,9,16,1,14,13,14,12,9,4,8,8,31,6,23,31,27,12,22,22,2,1,10,31,15,10,1,7,7,4,9,22,18,12,30,14,3,19,25,1,4,42,8,3,23,19,24,5,5,12,1,19,2,11,7,17,10,17,18,24,10,13,33,9,27,10,26,20,19,4,7,17,19,7,22,14,26,4,8,14,19,33,38,5,3,7,5,23,23,13,7,12,7,2,2,13,4,11,12,8,25,9,21,3,14,11,16,31,5,26,9,8,10,1,7,6,21,8,1,7,11,7,17,29,17,18,2,2,14,6,14,36,23,13,12,8,6,9,10,17,5,5,20,22,2,9,6,14,7,5,10,15,5,11,8,10,10,8,8,14,2,8,7,2,6,27,1,9,6,4,28,11,13,14,9,12,8,1,6,3,10,10,38,7,11,25,37,1,18,15,2,27,7,4,11,6,33,1,5,4,27,13,13,13,25,18,20,28,7,14,3,9,22,10,15,10,30,47,39,15,19,32,12,7,1,5,14,8,4,10,1,6,4,2,30,4,3,5,10,8,5,10,14,14,12,8,6,17,13,9,5,5,15,30,28,2,22,12,5,2,4,7,9,5,5,12,18,11,37,9,4,11,4,11,17,10,4,22,4,13,4,2,7,7,6,13,34,4,28,26,4,9,4,6,14,25,19,17,10,12,10,8,10,15,6,4,44,6,4,18,1,22,10,19,3,19,4,11,22,18,11,4,21,15,7,30,12,5,4,9,20,7,1,5,9,5,7,1,8,9,4,18,11,4,9,1,11,20,11,7,10,6,12,9,9,7,57,19,6,6,8,7,5,4,6,15,5,3,27,11,3,6,12,16,18,10,15,2,24,9,7,2,20,1,19,14,11,25,14,2,20,12,2,22,44,31,3,6,18,24,10,9,20,8,10,1,24,3,35,26,22,8,16,14,7,7,5,8,16,7,9,24,1,4,12,8,17,3,5,17,15,24,7,20,6,2,37,1,23,16,3,21,8,8,3,1,8,20,6,28,4,3,37,5,7,4,4,10,17,12,23,6,22,10,19,9,32,31,18,19,9,1,6,9,17,1,6,21,6,8,8,3,11,25,16,4,16,7,11,22,5,36,10,19,21,21,1,15,48,23,5,7,3,6,8,1,4,4,2,12,2,11,3,19,4,9,16,11,1,3,6,6,1,26,18,25,8,2,16,28,11,4,12,4,7,3,14,17,2,22,2,14,11,2,20,3,3,3,5,5,9,2,14,9,5,4,10,3,2,21,9,3,2,15,15,26,23,2,14,16,6,7,10,27,26,3,12,11,5,5,3,10,4,20,21,12,10,3,9,3,5,12,5,4,10,9,2,6,8,5,9,3,16,5,2,17,5,3,2,13,12,1,9,2,7,16,11,6,11,5,20,2,53,24,11,7,5,14,11,22,15,6,15,13,5,20,23,3,3,21,17,22,16,8,7,32,11,4,49,23,14,8,10,16,19,46,7,4,39,16,3,30,25,3,8,15,15,25,22,18,11,18,14,14,8,17,21,12,19,12,14,19,11,16,4,24,30,10,13,21,6,1,20,1,6,29,5,10,4,17,7,2,13,11,11,18,12,16,12,10,9,6,8,4,15,14,49,28,14,9,14,16,31,17,4,2,11,10,5,15,5,5,15,1,2,13,29,9,9,20,4,12,21,2,12,4,3,15,8,14,9,2,16,2,3,7,2,12,13,4,3,3,21,1,21,14,14,4,6,12,24,29,14,13,4,24,12,11,6,11,15,15,20,5,3,10,3,13,21,6,8,8,11,17,10,5,25,3,6,10,3,33,1,3,2,6,25,22,8,12,3,3,21,8,8,8,19,2],\"xaxis\":\"x\",\"y\":[0.20700000000000002,0.05299999999999999,0.066,-0.031000000000000028,0.21300000000000002,0.07100000000000001,0.029000000000000026,-0.025999999999999968,0.05700000000000005,0.019999999999999962,0.0,-0.0010000000000000009,-0.01100000000000001,0.08300000000000007,0.09300000000000003,-0.03500000000000003,0.13099999999999995,0.05499999999999999,0.05400000000000005,-0.021999999999999964,0.17400000000000004,0.03500000000000003,0.068,0.07300000000000001,-0.0050000000000000044,0.018000000000000016,0.10599999999999998,0.08700000000000002,0.007000000000000006,0.10599999999999993,0.14499999999999996,0.08300000000000002,0.059,0.028000000000000025,-0.014000000000000012,0.07200000000000001,-0.028000000000000025,0.05500000000000005,0.04899999999999999,0.02899999999999997,0.12400000000000005,0.07300000000000001,0.14300000000000002,-0.066,0.05299999999999999,0.020000000000000018,-0.044999999999999984,0.11599999999999994,-0.010999999999999954,0.08400000000000002,0.050000000000000044,0.0020000000000000018,0.056999999999999995,0.09300000000000003,0.04800000000000004,0.044999999999999984,0.07400000000000001,0.16900000000000004,0.11299999999999999,-0.006000000000000005,0.019999999999999962,0.119,0.13400000000000006,0.02899999999999997,-0.04099999999999998,-0.041000000000000036,0.006000000000000005,0.03999999999999998,0.15900000000000003,0.10699999999999998,0.010999999999999954,-0.008000000000000007,0.08799999999999997,0.08599999999999997,0.10800000000000004,-0.01200000000000001,-0.03600000000000003,0.09400000000000003,0.017000000000000015,0.08199999999999996,0.062,0.10100000000000003,0.01100000000000001,0.11699999999999999,0.08600000000000002,0.08500000000000002,-0.03500000000000003,0.10599999999999998,0.07700000000000001,0.024999999999999967,0.08900000000000002,0.03400000000000003,0.061,-0.03199999999999997,0.02200000000000002,0.006000000000000005,0.10900000000000004,0.07700000000000001,0.029000000000000026,0.02699999999999997,-0.01699999999999996,0.057999999999999996,0.064,0.137,0.18900000000000006,0.11200000000000004,0.030000000000000027,0.015000000000000013,0.0010000000000000009,0.07,0.07300000000000001,0.09800000000000003,-0.018000000000000016,0.197,0.124,0.10999999999999993,0.028000000000000025,0.04899999999999999,0.138,0.09300000000000003,0.07300000000000001,0.09800000000000003,0.04799999999999999,-0.031000000000000028,0.11499999999999999,0.013000000000000012,0.0040000000000000036,0.10899999999999999,-0.043999999999999984,0.09800000000000003,0.09500000000000003,0.09800000000000003,0.055999999999999994,0.027000000000000024,0.08300000000000002,0.10300000000000004,0.067,-0.017000000000000015,0.056999999999999995,0.10700000000000004,0.03600000000000003,0.06700000000000006,0.07300000000000001,0.043999999999999984,0.07600000000000001,-0.04300000000000004,0.13899999999999996,0.15300000000000002,0.14899999999999997,0.030999999999999972,0.007000000000000006,0.08699999999999997,0.127,0.05199999999999999,0.016000000000000014,-0.055999999999999994,0.065,0.025000000000000022,0.02100000000000002,0.04300000000000004,-0.0030000000000000027,-0.061,0.07600000000000001,0.15400000000000003,0.10799999999999998,0.017000000000000015,0.065,0.02400000000000002,-0.057999999999999996,0.11699999999999999,0.10299999999999998,0.010000000000000009,-0.006000000000000005,0.032999999999999974,0.063,0.031000000000000028,0.03700000000000003,0.10600000000000004,0.07900000000000001,0.062000000000000055,0.04299999999999998,0.17600000000000005,0.08600000000000002,0.07700000000000001,0.06,0.05299999999999999,0.027000000000000024,0.11600000000000005,-0.0050000000000000044,0.043999999999999984,0.04699999999999993,0.056999999999999995,0.05499999999999999,-0.07700000000000001,-0.03799999999999998,0.022999999999999965,0.08000000000000002,0.03699999999999998,0.067,0.03999999999999998,0.08599999999999997,0.03799999999999998,0.15199999999999997,0.07800000000000001,0.05399999999999999,0.03199999999999997,-0.0030000000000000027,0.05399999999999999,-0.009000000000000008,0.01200000000000001,0.059,0.09499999999999997,-0.017000000000000015,0.02300000000000002,0.046999999999999986,0.04500000000000004,0.08200000000000002,0.02200000000000002,0.052999999999999936,0.017000000000000015,0.069,0.05399999999999999,0.06900000000000006,0.0050000000000000044,0.05199999999999999,0.0050000000000000044,0.12799999999999995,0.031000000000000028,-0.014000000000000012,0.12799999999999995,0.15300000000000002,0.08200000000000002,0.13100000000000006,-0.044999999999999984,0.10499999999999998,-0.0010000000000000009,0.06,0.21699999999999997,0.11300000000000004,0.08200000000000002,0.018000000000000016,0.009999999999999953,0.015000000000000013,0.019000000000000017,-0.012999999999999956,0.10400000000000004,0.08300000000000002,0.056999999999999995,-0.029000000000000026,0.07600000000000001,0.059,0.01799999999999996,-0.02400000000000002,0.015000000000000013,0.17599999999999993,0.07900000000000001,0.10100000000000003,0.10400000000000004,0.007000000000000006,0.15000000000000002,0.05399999999999999,0.07900000000000001,0.06900000000000006,0.01100000000000001,0.07200000000000001,-0.03300000000000003,-0.02400000000000002,0.019999999999999962,0.04300000000000004,0.12100000000000005,0.14699999999999996,0.012999999999999956,0.056999999999999995,-0.0010000000000000009,0.134,0.07400000000000001,0.09000000000000002,0.15999999999999998,0.15100000000000002,0.10400000000000004,0.07900000000000001,0.133,0.02400000000000002,0.002999999999999947,0.006000000000000005,0.14800000000000002,0.13900000000000007,0.12,-0.10799999999999998,0.051000000000000045,-0.027000000000000024,0.061,0.05299999999999999,0.11900000000000005,0.031000000000000028,0.045999999999999985,0.04199999999999998,0.03799999999999998,0.0030000000000000027,0.03199999999999997,0.10100000000000003,0.01100000000000001,0.030999999999999972,0.17800000000000005,0.05499999999999999,0.05400000000000005,0.14,0.09300000000000003,0.15300000000000002,0.06,-0.0020000000000000018,0.0,0.05299999999999999,0.09700000000000003,-0.03699999999999998,0.08100000000000002,0.09599999999999997,0.07500000000000007,-0.007000000000000006,0.11499999999999999,0.07699999999999996,0.06800000000000006,0.02300000000000002,-0.020000000000000018,0.09800000000000003,0.04099999999999998,0.135,0.006000000000000005,0.026000000000000023,0.14800000000000002,0.039999999999999925,0.006000000000000005,0.04800000000000004,0.014999999999999958,0.10999999999999999,0.068,0.11100000000000004,0.061000000000000054,0.129,-0.030000000000000027,0.0040000000000000036,0.041000000000000036,0.023999999999999966,0.13600000000000007,0.11299999999999999,-0.0040000000000000036,-0.121,-0.009000000000000008,-0.01100000000000001,0.07400000000000001,0.11800000000000005,0.09700000000000003,0.0040000000000000036,-0.0050000000000000044,-0.040000000000000036,0.06499999999999995,0.024999999999999967,-0.04600000000000004,-0.0010000000000000009,0.06600000000000006,0.10000000000000003,-0.019000000000000017,0.067,0.09799999999999998,0.04899999999999999,0.02899999999999997,0.09899999999999998,-0.016000000000000014,0.052999999999999936,0.198,0.027000000000000024,0.064,0.033999999999999975,0.12600000000000006,0.018000000000000016,0.0020000000000000018,0.07200000000000001,0.08100000000000007,0.17699999999999994,0.04500000000000004,-0.04799999999999999,0.01799999999999996,0.063,-0.03999999999999998,-0.057999999999999996,0.065,0.10799999999999998,0.09400000000000003,0.0010000000000000009,0.02300000000000002,0.050000000000000044,-0.01799999999999996,0.10100000000000003,0.18700000000000006,0.06600000000000006,0.09500000000000003,0.043999999999999984,0.06999999999999995,0.030999999999999917,0.02400000000000002,0.017000000000000015,0.040000000000000036,0.03999999999999998,-0.030999999999999972,0.06699999999999995,0.09599999999999997,-0.03899999999999998,0.013000000000000012,0.035999999999999976,0.06400000000000006,0.03699999999999998,0.009999999999999953,0.017000000000000015,0.04099999999999998,-0.02400000000000002,0.09300000000000003,0.044999999999999984,0.09999999999999998,0.039000000000000035,0.08600000000000002,-0.03699999999999998,0.01200000000000001,0.030999999999999972,0.05399999999999999,0.043999999999999984,-0.05399999999999999,0.034999999999999976,0.129,-0.013999999999999957,0.08999999999999997,0.10999999999999993,0.05099999999999999,0.20099999999999996,0.09599999999999997,0.10999999999999999,0.11800000000000005,0.11899999999999994,0.01100000000000001,0.03700000000000003,0.049000000000000044,-0.03899999999999998,0.063,0.08200000000000002,0.04199999999999998,0.138,0.051000000000000045,0.030999999999999972,0.09899999999999998,0.11699999999999999,0.04300000000000004,0.18000000000000005,0.13,0.02100000000000002,0.15899999999999992,0.010000000000000009,0.01200000000000001,0.04700000000000004,-0.02300000000000002,0.15499999999999997,0.045999999999999985,0.03500000000000003,0.04200000000000004,0.10600000000000004,0.04899999999999999,0.04199999999999998,0.07,0.09400000000000003,0.069,0.01799999999999996,0.17700000000000005,0.025999999999999968,0.04300000000000004,-0.016000000000000014,0.09099999999999997,0.07600000000000001,0.026000000000000023,0.15200000000000002,0.13699999999999996,0.056999999999999995,0.08600000000000002,0.21300000000000002,0.06000000000000005,-0.008000000000000007,0.08899999999999997,-0.03699999999999998,-0.0040000000000000036,0.056999999999999995,0.032999999999999974,0.11299999999999993,0.031000000000000028,-0.017000000000000015,-0.025000000000000022,-0.062,-0.045999999999999985,-0.05600000000000005,0.05499999999999999,0.10700000000000004,0.10600000000000004,-0.02300000000000002,-0.03699999999999998,-0.031000000000000028,0.03699999999999998,0.063,-0.05199999999999999,0.11899999999999994,0.124,0.182,0.06599999999999995,0.16399999999999998,0.10100000000000003,0.08599999999999997,0.051000000000000045,0.025999999999999968,-0.009000000000000008,0.02300000000000002,0.16000000000000003,0.12700000000000006,-0.008000000000000007,0.135,-0.01100000000000001,0.08299999999999996,-0.01200000000000001,0.09399999999999997,-0.04300000000000004,-0.029000000000000026,0.17699999999999994,0.08399999999999996,0.025999999999999968,0.15799999999999997,0.01599999999999996,0.131,-0.02300000000000002,0.01799999999999996,0.01200000000000001,0.027999999999999914,0.041999999999999926,0.049000000000000044,0.02999999999999997,0.11499999999999994,0.10499999999999993,0.052000000000000046,0.031000000000000028,0.05800000000000005,0.11000000000000004,0.07500000000000001,0.006000000000000005,0.10799999999999998,-0.01699999999999996,0.17500000000000004,0.06500000000000006,0.16100000000000003,0.08300000000000002,0.02300000000000002,0.129,-0.01100000000000001,0.03700000000000003,0.11099999999999999,0.09300000000000003,0.0030000000000000027,0.12600000000000006,0.05800000000000005,0.02899999999999997,0.06799999999999995,0.07200000000000001,-0.0010000000000000009,0.033999999999999975,-0.019999999999999962,-0.031000000000000028,0.19000000000000006,0.016000000000000014,-0.09700000000000003,0.030000000000000027,0.0030000000000000027,0.0020000000000000018,0.05400000000000005,0.123,0.04199999999999998,0.09199999999999997,0.020999999999999963,0.08200000000000002,0.14800000000000002,0.067,0.08400000000000002,-0.006000000000000005,0.14300000000000002,0.07900000000000001,0.01899999999999996,0.177,0.07700000000000001,0.045999999999999985,0.10099999999999998,0.066,0.10900000000000004,0.038000000000000034,-0.01100000000000001,0.10399999999999998,0.017000000000000015,-0.016000000000000014,-0.0030000000000000027,0.02300000000000002,0.039000000000000035,0.057999999999999996,0.015000000000000013,0.07800000000000001,-0.013000000000000012,0.040000000000000036,0.03899999999999998,-0.032999999999999974,0.07,0.043999999999999984,0.016000000000000014,-0.04999999999999999,0.02100000000000002,-0.029000000000000026,0.10299999999999998,0.009000000000000008,0.14500000000000002,0.10999999999999999,0.313,0.15300000000000002,0.010999999999999954,-0.007000000000000006,0.07,0.064,-0.009000000000000008,0.06399999999999995,0.06800000000000006,0.026000000000000023,-0.066,-0.014000000000000012,0.13799999999999996,0.05600000000000005,0.04799999999999993,0.08400000000000002,0.028000000000000025,0.065,0.14599999999999996,0.10000000000000003,0.10400000000000004,0.03799999999999998,0.10999999999999999,0.061,-0.009000000000000008,0.04799999999999999,0.03199999999999997,0.0050000000000000044,0.18500000000000005,0.02999999999999997,0.015000000000000013,0.07499999999999996,0.0,0.04099999999999998,0.08000000000000002,0.11900000000000005,-0.0010000000000000009,0.026000000000000023,0.20600000000000002,0.09800000000000003,-0.029000000000000026,-0.0010000000000000009,0.066,-0.03199999999999997,-0.004999999999999949,0.056999999999999995,0.0050000000000000044,0.05199999999999999,0.019000000000000017,0.031000000000000028,0.09900000000000003,-0.029000000000000026,0.14699999999999996,0.05600000000000005,0.04500000000000004,0.07600000000000001,0.08399999999999996,0.02300000000000002,-0.017000000000000015,0.04999999999999999,0.023999999999999966,0.04799999999999999,0.068,0.07100000000000001,0.0010000000000000009,0.02100000000000002,0.0050000000000000044,0.028000000000000025,0.10000000000000003,-0.009999999999999953,0.04300000000000004,0.02799999999999997,0.11699999999999999,0.065,0.182,0.137,0.025000000000000022,0.08000000000000002,0.011999999999999955,0.0,0.11000000000000004,-0.07700000000000001,0.015000000000000013,0.068,0.04700000000000004,0.10700000000000004,-0.040000000000000036,0.025000000000000022,-0.03600000000000003,0.0010000000000000009,0.007000000000000006,0.08500000000000002,-0.027000000000000024,0.04999999999999999,-0.0010000000000000009,-0.03200000000000003,0.20699999999999996,0.13399999999999995,0.029000000000000026,-0.04600000000000004,0.067,0.07600000000000001,0.07100000000000001,0.03199999999999997,0.12899999999999995,0.13299999999999995,0.07800000000000001,-0.01200000000000001,0.118,0.0,0.065,0.14800000000000002,0.06799999999999995,0.07500000000000001,0.08699999999999997,0.02300000000000002,0.010000000000000009,0.133,0.12,0.03700000000000003,-0.07300000000000001,0.08200000000000002,0.05199999999999999,0.01100000000000001,-0.01200000000000001,0.033999999999999975,0.07100000000000001,-0.04099999999999998,0.015000000000000013,0.056999999999999995,0.08000000000000002,0.028000000000000025,0.017000000000000015,0.066,0.0040000000000000036,0.17399999999999993,0.03500000000000003,0.09500000000000003,0.069,0.006999999999999951,-0.012999999999999956,0.03199999999999997,0.137,0.046999999999999986,0.025999999999999968,0.02899999999999997,-0.08200000000000007,-0.07000000000000006,-0.019000000000000017,-0.0020000000000000018,-0.029000000000000026,0.0010000000000000009,-0.0040000000000000036,0.04600000000000004,0.028000000000000025,0.0030000000000000027,0.03500000000000003,0.08100000000000002,-0.057999999999999996,-0.030999999999999972,-0.021999999999999964,-0.09100000000000003,0.0050000000000000044,0.01699999999999996,-0.04899999999999999,-0.03500000000000003,0.009000000000000008,0.03300000000000003,0.12500000000000006,0.04299999999999998,-0.003999999999999948,-0.055999999999999994,0.04799999999999999,0.138,0.019000000000000017,0.05399999999999999,0.13600000000000007,-0.05299999999999999,0.05199999999999999,0.051999999999999935,0.045999999999999985,0.05500000000000005,0.07300000000000001,0.08499999999999996,-0.006000000000000005,0.11700000000000005,0.028000000000000025,-0.04799999999999999,0.07500000000000001,0.07299999999999995,-0.03500000000000003,0.07500000000000001,0.019999999999999962,0.0040000000000000036,0.08099999999999996,0.06300000000000006,0.07200000000000001,0.034999999999999976,0.07500000000000007,-0.01100000000000001,-0.05400000000000005,0.03500000000000003,-0.03899999999999998,0.09599999999999997,0.029000000000000026,0.0020000000000000018,-0.035999999999999976,0.008000000000000007,0.10199999999999998,0.10599999999999998,0.066,0.06300000000000006,0.04300000000000004,0.10900000000000004,0.028000000000000025,-0.013000000000000012,0.09599999999999997,0.08600000000000002,0.07600000000000001,0.03699999999999998,0.026000000000000023,0.09600000000000003,-0.035999999999999976,-0.007000000000000006,-0.009000000000000008,0.017000000000000015,0.13200000000000006,0.07600000000000001,0.10000000000000003,0.031000000000000028,-0.0020000000000000018,-0.064,-0.032999999999999974,-0.04199999999999998,0.011999999999999955,-0.01100000000000001,0.10700000000000004,0.057999999999999996,0.064,0.057999999999999996,-0.03199999999999997,0.06399999999999995,0.02400000000000002,-0.035999999999999976,0.08000000000000002,-0.049000000000000044,0.08000000000000002,0.009999999999999953,0.006000000000000005,0.04999999999999999,0.068,0.04300000000000004,-0.01599999999999996,0.038000000000000034,0.08300000000000002,-0.033999999999999975,0.07200000000000001,0.056999999999999995,-0.034999999999999976,0.11000000000000004,0.03699999999999998,-0.066,0.044999999999999984,0.039000000000000035,0.16299999999999998,0.07400000000000001,0.20500000000000002,0.08800000000000002,0.020000000000000018,0.10599999999999998,-0.056999999999999995,0.08899999999999997,0.02300000000000002,0.07500000000000001,0.12000000000000005,0.017000000000000015,0.020999999999999963,0.05399999999999999,0.008999999999999952,0.03500000000000003,0.122,-0.018000000000000016,-0.02799999999999997,0.014000000000000012,0.045999999999999985,0.009999999999999953,0.0010000000000000009,0.09000000000000002,-0.03500000000000003,0.15500000000000003,0.032999999999999974,0.02699999999999997,0.15700000000000003,0.10200000000000004,0.14299999999999996,0.09299999999999997,0.03199999999999997,-0.021999999999999964,0.056999999999999995,0.18600000000000005,-0.014999999999999958,-0.040000000000000036,0.11400000000000005,0.09799999999999998,0.0050000000000000044,0.09000000000000002,0.08299999999999996,-0.022999999999999965,-0.015000000000000013,0.11499999999999999,0.07100000000000001,0.07099999999999995,0.068,-0.013000000000000012,0.02300000000000002,0.052000000000000046,0.067,0.033999999999999975,0.014999999999999958,0.09000000000000002,0.15699999999999997,0.04400000000000004,0.007000000000000006,0.0,-0.03199999999999997,0.02699999999999997,0.006000000000000005,0.05299999999999999,0.11299999999999999,0.05400000000000005,0.11099999999999999,0.09399999999999997,0.055999999999999994,0.13200000000000006,0.07300000000000001,0.034999999999999976,0.05499999999999999,0.05499999999999999,0.062,0.15299999999999997,0.05199999999999999,0.064,0.015000000000000013,0.029000000000000026,0.09100000000000003,0.052000000000000046,0.11900000000000005,0.05400000000000005,0.05199999999999999,0.09300000000000003,0.01100000000000001,0.07800000000000001,-0.0050000000000000044,0.11500000000000005,0.021999999999999964,-0.02200000000000002,0.04500000000000004,-0.007000000000000006,0.10499999999999998,-0.01100000000000001,0.255,0.138,0.04800000000000004,0.056999999999999995,0.03200000000000003,-0.049000000000000044,0.14300000000000007,0.09000000000000008,0.03899999999999998,-0.006000000000000005,0.03899999999999998,0.062,-0.009999999999999953,0.07100000000000001,0.019000000000000017,0.08999999999999997,-0.0030000000000000027,-0.035999999999999976,-0.01200000000000001,0.11699999999999999,0.08500000000000002,0.08400000000000002,-0.030000000000000027,0.09700000000000003,0.021999999999999964,0.07100000000000001,0.09200000000000003,0.056999999999999995,0.06,0.040000000000000036,0.01699999999999996,0.10299999999999998,0.08300000000000007,0.09599999999999997,0.08900000000000002,-0.008000000000000007,0.017000000000000015,0.04199999999999998,0.019000000000000017,0.14700000000000002,-0.010000000000000009,0.049000000000000044,0.04200000000000004,-0.0050000000000000044,-0.017000000000000015,-0.04899999999999993,0.07400000000000001,-0.08100000000000002,0.07400000000000007,0.10300000000000004,0.08799999999999997,0.0,0.019999999999999962,0.08200000000000002,0.09300000000000003,0.008000000000000007,0.10000000000000003,-0.008000000000000007,0.07700000000000001,0.08500000000000002,0.09100000000000003,0.09200000000000003,-0.009000000000000008,0.06000000000000005,0.051000000000000045,0.07400000000000001,0.027000000000000024,-0.040000000000000036,-0.061,0.07600000000000001,-0.050000000000000044,0.09799999999999998,0.119,-0.08700000000000002,0.07399999999999995,0.034999999999999976,0.008000000000000007,-0.010000000000000009,0.05700000000000005,0.033999999999999975,0.129,-0.04200000000000004,-0.07900000000000007,0.09599999999999997,-0.046999999999999986,0.11399999999999999,-0.0010000000000000009,-0.017000000000000015,0.057999999999999996,0.033999999999999975,0.08200000000000002,0.045999999999999985,-0.019999999999999962,-0.010000000000000009,0.02300000000000002,0.02899999999999997,0.09599999999999997,0.137,-0.02300000000000002,0.0010000000000000009,0.121,0.02100000000000002],\"yaxis\":\"y\"}],                        {\"legend\":{\"tracegroupgap\":0},\"margin\":{\"t\":60},\"template\":{\"data\":{\"bar\":[{\"error_x\":{\"color\":\"#2a3f5f\"},\"error_y\":{\"color\":\"#2a3f5f\"},\"marker\":{\"line\":{\"color\":\"#E5ECF6\",\"width\":0.5},\"pattern\":{\"fillmode\":\"overlay\",\"size\":10,\"solidity\":0.2}},\"type\":\"bar\"}],\"barpolar\":[{\"marker\":{\"line\":{\"color\":\"#E5ECF6\",\"width\":0.5},\"pattern\":{\"fillmode\":\"overlay\",\"size\":10,\"solidity\":0.2}},\"type\":\"barpolar\"}],\"carpet\":[{\"aaxis\":{\"endlinecolor\":\"#2a3f5f\",\"gridcolor\":\"white\",\"linecolor\":\"white\",\"minorgridcolor\":\"white\",\"startlinecolor\":\"#2a3f5f\"},\"baxis\":{\"endlinecolor\":\"#2a3f5f\",\"gridcolor\":\"white\",\"linecolor\":\"white\",\"minorgridcolor\":\"white\",\"startlinecolor\":\"#2a3f5f\"},\"type\":\"carpet\"}],\"choropleth\":[{\"colorbar\":{\"outlinewidth\":0,\"ticks\":\"\"},\"type\":\"choropleth\"}],\"contour\":[{\"colorbar\":{\"outlinewidth\":0,\"ticks\":\"\"},\"colorscale\":[[0.0,\"#0d0887\"],[0.1111111111111111,\"#46039f\"],[0.2222222222222222,\"#7201a8\"],[0.3333333333333333,\"#9c179e\"],[0.4444444444444444,\"#bd3786\"],[0.5555555555555556,\"#d8576b\"],[0.6666666666666666,\"#ed7953\"],[0.7777777777777778,\"#fb9f3a\"],[0.8888888888888888,\"#fdca26\"],[1.0,\"#f0f921\"]],\"type\":\"contour\"}],\"contourcarpet\":[{\"colorbar\":{\"outlinewidth\":0,\"ticks\":\"\"},\"type\":\"contourcarpet\"}],\"heatmap\":[{\"colorbar\":{\"outlinewidth\":0,\"ticks\":\"\"},\"colorscale\":[[0.0,\"#0d0887\"],[0.1111111111111111,\"#46039f\"],[0.2222222222222222,\"#7201a8\"],[0.3333333333333333,\"#9c179e\"],[0.4444444444444444,\"#bd3786\"],[0.5555555555555556,\"#d8576b\"],[0.6666666666666666,\"#ed7953\"],[0.7777777777777778,\"#fb9f3a\"],[0.8888888888888888,\"#fdca26\"],[1.0,\"#f0f921\"]],\"type\":\"heatmap\"}],\"heatmapgl\":[{\"colorbar\":{\"outlinewidth\":0,\"ticks\":\"\"},\"colorscale\":[[0.0,\"#0d0887\"],[0.1111111111111111,\"#46039f\"],[0.2222222222222222,\"#7201a8\"],[0.3333333333333333,\"#9c179e\"],[0.4444444444444444,\"#bd3786\"],[0.5555555555555556,\"#d8576b\"],[0.6666666666666666,\"#ed7953\"],[0.7777777777777778,\"#fb9f3a\"],[0.8888888888888888,\"#fdca26\"],[1.0,\"#f0f921\"]],\"type\":\"heatmapgl\"}],\"histogram\":[{\"marker\":{\"pattern\":{\"fillmode\":\"overlay\",\"size\":10,\"solidity\":0.2}},\"type\":\"histogram\"}],\"histogram2d\":[{\"colorbar\":{\"outlinewidth\":0,\"ticks\":\"\"},\"colorscale\":[[0.0,\"#0d0887\"],[0.1111111111111111,\"#46039f\"],[0.2222222222222222,\"#7201a8\"],[0.3333333333333333,\"#9c179e\"],[0.4444444444444444,\"#bd3786\"],[0.5555555555555556,\"#d8576b\"],[0.6666666666666666,\"#ed7953\"],[0.7777777777777778,\"#fb9f3a\"],[0.8888888888888888,\"#fdca26\"],[1.0,\"#f0f921\"]],\"type\":\"histogram2d\"}],\"histogram2dcontour\":[{\"colorbar\":{\"outlinewidth\":0,\"ticks\":\"\"},\"colorscale\":[[0.0,\"#0d0887\"],[0.1111111111111111,\"#46039f\"],[0.2222222222222222,\"#7201a8\"],[0.3333333333333333,\"#9c179e\"],[0.4444444444444444,\"#bd3786\"],[0.5555555555555556,\"#d8576b\"],[0.6666666666666666,\"#ed7953\"],[0.7777777777777778,\"#fb9f3a\"],[0.8888888888888888,\"#fdca26\"],[1.0,\"#f0f921\"]],\"type\":\"histogram2dcontour\"}],\"mesh3d\":[{\"colorbar\":{\"outlinewidth\":0,\"ticks\":\"\"},\"type\":\"mesh3d\"}],\"parcoords\":[{\"line\":{\"colorbar\":{\"outlinewidth\":0,\"ticks\":\"\"}},\"type\":\"parcoords\"}],\"pie\":[{\"automargin\":true,\"type\":\"pie\"}],\"scatter\":[{\"marker\":{\"colorbar\":{\"outlinewidth\":0,\"ticks\":\"\"}},\"type\":\"scatter\"}],\"scatter3d\":[{\"line\":{\"colorbar\":{\"outlinewidth\":0,\"ticks\":\"\"}},\"marker\":{\"colorbar\":{\"outlinewidth\":0,\"ticks\":\"\"}},\"type\":\"scatter3d\"}],\"scattercarpet\":[{\"marker\":{\"colorbar\":{\"outlinewidth\":0,\"ticks\":\"\"}},\"type\":\"scattercarpet\"}],\"scattergeo\":[{\"marker\":{\"colorbar\":{\"outlinewidth\":0,\"ticks\":\"\"}},\"type\":\"scattergeo\"}],\"scattergl\":[{\"marker\":{\"colorbar\":{\"outlinewidth\":0,\"ticks\":\"\"}},\"type\":\"scattergl\"}],\"scattermapbox\":[{\"marker\":{\"colorbar\":{\"outlinewidth\":0,\"ticks\":\"\"}},\"type\":\"scattermapbox\"}],\"scatterpolar\":[{\"marker\":{\"colorbar\":{\"outlinewidth\":0,\"ticks\":\"\"}},\"type\":\"scatterpolar\"}],\"scatterpolargl\":[{\"marker\":{\"colorbar\":{\"outlinewidth\":0,\"ticks\":\"\"}},\"type\":\"scatterpolargl\"}],\"scatterternary\":[{\"marker\":{\"colorbar\":{\"outlinewidth\":0,\"ticks\":\"\"}},\"type\":\"scatterternary\"}],\"surface\":[{\"colorbar\":{\"outlinewidth\":0,\"ticks\":\"\"},\"colorscale\":[[0.0,\"#0d0887\"],[0.1111111111111111,\"#46039f\"],[0.2222222222222222,\"#7201a8\"],[0.3333333333333333,\"#9c179e\"],[0.4444444444444444,\"#bd3786\"],[0.5555555555555556,\"#d8576b\"],[0.6666666666666666,\"#ed7953\"],[0.7777777777777778,\"#fb9f3a\"],[0.8888888888888888,\"#fdca26\"],[1.0,\"#f0f921\"]],\"type\":\"surface\"}],\"table\":[{\"cells\":{\"fill\":{\"color\":\"#EBF0F8\"},\"line\":{\"color\":\"white\"}},\"header\":{\"fill\":{\"color\":\"#C8D4E3\"},\"line\":{\"color\":\"white\"}},\"type\":\"table\"}]},\"layout\":{\"annotationdefaults\":{\"arrowcolor\":\"#2a3f5f\",\"arrowhead\":0,\"arrowwidth\":1},\"autotypenumbers\":\"strict\",\"coloraxis\":{\"colorbar\":{\"outlinewidth\":0,\"ticks\":\"\"}},\"colorscale\":{\"diverging\":[[0,\"#8e0152\"],[0.1,\"#c51b7d\"],[0.2,\"#de77ae\"],[0.3,\"#f1b6da\"],[0.4,\"#fde0ef\"],[0.5,\"#f7f7f7\"],[0.6,\"#e6f5d0\"],[0.7,\"#b8e186\"],[0.8,\"#7fbc41\"],[0.9,\"#4d9221\"],[1,\"#276419\"]],\"sequential\":[[0.0,\"#0d0887\"],[0.1111111111111111,\"#46039f\"],[0.2222222222222222,\"#7201a8\"],[0.3333333333333333,\"#9c179e\"],[0.4444444444444444,\"#bd3786\"],[0.5555555555555556,\"#d8576b\"],[0.6666666666666666,\"#ed7953\"],[0.7777777777777778,\"#fb9f3a\"],[0.8888888888888888,\"#fdca26\"],[1.0,\"#f0f921\"]],\"sequentialminus\":[[0.0,\"#0d0887\"],[0.1111111111111111,\"#46039f\"],[0.2222222222222222,\"#7201a8\"],[0.3333333333333333,\"#9c179e\"],[0.4444444444444444,\"#bd3786\"],[0.5555555555555556,\"#d8576b\"],[0.6666666666666666,\"#ed7953\"],[0.7777777777777778,\"#fb9f3a\"],[0.8888888888888888,\"#fdca26\"],[1.0,\"#f0f921\"]]},\"colorway\":[\"#636efa\",\"#EF553B\",\"#00cc96\",\"#ab63fa\",\"#FFA15A\",\"#19d3f3\",\"#FF6692\",\"#B6E880\",\"#FF97FF\",\"#FECB52\"],\"font\":{\"color\":\"#2a3f5f\"},\"geo\":{\"bgcolor\":\"white\",\"lakecolor\":\"white\",\"landcolor\":\"#E5ECF6\",\"showlakes\":true,\"showland\":true,\"subunitcolor\":\"white\"},\"hoverlabel\":{\"align\":\"left\"},\"hovermode\":\"closest\",\"mapbox\":{\"style\":\"light\"},\"paper_bgcolor\":\"white\",\"plot_bgcolor\":\"#E5ECF6\",\"polar\":{\"angularaxis\":{\"gridcolor\":\"white\",\"linecolor\":\"white\",\"ticks\":\"\"},\"bgcolor\":\"#E5ECF6\",\"radialaxis\":{\"gridcolor\":\"white\",\"linecolor\":\"white\",\"ticks\":\"\"}},\"scene\":{\"xaxis\":{\"backgroundcolor\":\"#E5ECF6\",\"gridcolor\":\"white\",\"gridwidth\":2,\"linecolor\":\"white\",\"showbackground\":true,\"ticks\":\"\",\"zerolinecolor\":\"white\"},\"yaxis\":{\"backgroundcolor\":\"#E5ECF6\",\"gridcolor\":\"white\",\"gridwidth\":2,\"linecolor\":\"white\",\"showbackground\":true,\"ticks\":\"\",\"zerolinecolor\":\"white\"},\"zaxis\":{\"backgroundcolor\":\"#E5ECF6\",\"gridcolor\":\"white\",\"gridwidth\":2,\"linecolor\":\"white\",\"showbackground\":true,\"ticks\":\"\",\"zerolinecolor\":\"white\"}},\"shapedefaults\":{\"line\":{\"color\":\"#2a3f5f\"}},\"ternary\":{\"aaxis\":{\"gridcolor\":\"white\",\"linecolor\":\"white\",\"ticks\":\"\"},\"baxis\":{\"gridcolor\":\"white\",\"linecolor\":\"white\",\"ticks\":\"\"},\"bgcolor\":\"#E5ECF6\",\"caxis\":{\"gridcolor\":\"white\",\"linecolor\":\"white\",\"ticks\":\"\"}},\"title\":{\"x\":0.05},\"xaxis\":{\"automargin\":true,\"gridcolor\":\"white\",\"linecolor\":\"white\",\"ticks\":\"\",\"title\":{\"standoff\":15},\"zerolinecolor\":\"white\",\"zerolinewidth\":2},\"yaxis\":{\"automargin\":true,\"gridcolor\":\"white\",\"linecolor\":\"white\",\"ticks\":\"\",\"title\":{\"standoff\":15},\"zerolinecolor\":\"white\",\"zerolinewidth\":2}}},\"xaxis\":{\"anchor\":\"y\",\"domain\":[0.0,1.0],\"title\":{\"text\":\"PTS_diff\"}},\"yaxis\":{\"anchor\":\"x\",\"domain\":[0.0,1.0],\"title\":{\"text\":\"FG_PCT_diff\"}}},                        {\"responsive\": true}                    ).then(function(){\n",
       "                            \n",
       "var gd = document.getElementById('fa7b4ac4-232a-49ef-ac2e-fbd2eb2906db');\n",
       "var x = new MutationObserver(function (mutations, observer) {{\n",
       "        var display = window.getComputedStyle(gd).display;\n",
       "        if (!display || display === 'none') {{\n",
       "            console.log([gd, 'removed!']);\n",
       "            Plotly.purge(gd);\n",
       "            observer.disconnect();\n",
       "        }}\n",
       "}});\n",
       "\n",
       "// Listen for the removal of the full notebook cells\n",
       "var notebookContainer = gd.closest('#notebook-container');\n",
       "if (notebookContainer) {{\n",
       "    x.observe(notebookContainer, {childList: true});\n",
       "}}\n",
       "\n",
       "// Listen for the clearing of the current output cell\n",
       "var outputEl = gd.closest('.output');\n",
       "if (outputEl) {{\n",
       "    x.observe(outputEl, {childList: true});\n",
       "}}\n",
       "\n",
       "                        })                };                });            </script>        </div>"
      ]
     },
     "metadata": {},
     "output_type": "display_data"
    }
   ],
   "source": [
    "stats_col = 'FG_PCT'\n",
    "px.scatter(winners, x='PTS_diff', y=stats_col+'_diff', opacity=0.2)"
   ]
  },
  {
   "cell_type": "code",
   "execution_count": 53,
   "id": "3cfd658f-4756-4eb0-a21c-59ee6b672a73",
   "metadata": {},
   "outputs": [
    {
     "data": {
      "application/vnd.plotly.v1+json": {
       "config": {
        "plotlyServerURL": "https://plot.ly"
       },
       "data": [
        {
         "alignmentgroup": "True",
         "bingroup": "x",
         "hovertemplate": "PTS_diff=%{x}<br>count=%{y}<extra></extra>",
         "legendgroup": "",
         "marker": {
          "color": "#636efa",
          "pattern": {
           "shape": ""
          }
         },
         "name": "",
         "offsetgroup": "",
         "orientation": "v",
         "showlegend": false,
         "type": "histogram",
         "x": [
          29,
          23,
          4,
          1,
          32,
          9,
          11,
          7,
          15,
          16,
          12,
          5,
          4,
          12,
          16,
          6,
          23,
          5,
          16,
          5,
          23,
          12,
          18,
          15,
          1,
          3,
          14,
          15,
          8,
          8,
          11,
          16,
          9,
          18,
          8,
          11,
          18,
          18,
          8,
          10,
          20,
          16,
          36,
          3,
          9,
          13,
          5,
          8,
          1,
          18,
          9,
          2,
          30,
          16,
          17,
          8,
          16,
          27,
          7,
          5,
          1,
          6,
          12,
          13,
          14,
          4,
          4,
          16,
          38,
          27,
          9,
          2,
          12,
          2,
          19,
          5,
          1,
          8,
          16,
          13,
          27,
          24,
          9,
          11,
          7,
          11,
          3,
          16,
          1,
          2,
          15,
          12,
          12,
          3,
          4,
          5,
          24,
          9,
          7,
          2,
          5,
          4,
          14,
          17,
          35,
          7,
          7,
          7,
          7,
          6,
          9,
          17,
          5,
          20,
          34,
          5,
          10,
          5,
          31,
          29,
          9,
          1,
          22,
          5,
          18,
          5,
          4,
          33,
          3,
          14,
          6,
          12,
          12,
          22,
          21,
          8,
          17,
          6,
          10,
          9,
          16,
          8,
          14,
          21,
          23,
          4,
          7,
          20,
          8,
          3,
          8,
          13,
          26,
          8,
          13,
          5,
          16,
          3,
          10,
          3,
          8,
          4,
          18,
          27,
          20,
          4,
          14,
          1,
          10,
          30,
          15,
          5,
          10,
          1,
          15,
          8,
          22,
          13,
          5,
          21,
          20,
          40,
          16,
          13,
          11,
          9,
          6,
          17,
          3,
          10,
          13,
          1,
          5,
          2,
          6,
          5,
          12,
          11,
          14,
          7,
          13,
          10,
          51,
          13,
          11,
          5,
          16,
          6,
          10,
          2,
          24,
          13,
          1,
          2,
          29,
          17,
          2,
          10,
          15,
          10,
          7,
          9,
          24,
          5,
          11,
          4,
          25,
          15,
          1,
          10,
          31,
          6,
          30,
          5,
          17,
          17,
          2,
          38,
          11,
          27,
          4,
          8,
          4,
          18,
          10,
          25,
          12,
          7,
          15,
          13,
          12,
          3,
          6,
          3,
          39,
          21,
          15,
          26,
          4,
          21,
          11,
          18,
          38,
          9,
          16,
          1,
          14,
          13,
          14,
          12,
          9,
          4,
          8,
          8,
          31,
          6,
          23,
          31,
          27,
          12,
          22,
          22,
          2,
          1,
          10,
          31,
          15,
          10,
          1,
          7,
          7,
          4,
          9,
          22,
          18,
          12,
          30,
          14,
          3,
          19,
          25,
          1,
          4,
          42,
          8,
          3,
          23,
          19,
          24,
          5,
          5,
          12,
          1,
          19,
          2,
          11,
          7,
          17,
          10,
          17,
          18,
          24,
          10,
          13,
          33,
          9,
          27,
          10,
          26,
          20,
          19,
          4,
          7,
          17,
          19,
          7,
          22,
          14,
          26,
          4,
          8,
          14,
          19,
          33,
          38,
          5,
          3,
          7,
          5,
          23,
          23,
          13,
          7,
          12,
          7,
          2,
          2,
          13,
          4,
          11,
          12,
          8,
          25,
          9,
          21,
          3,
          14,
          11,
          16,
          31,
          5,
          26,
          9,
          8,
          10,
          1,
          7,
          6,
          21,
          8,
          1,
          7,
          11,
          7,
          17,
          29,
          17,
          18,
          2,
          2,
          14,
          6,
          14,
          36,
          23,
          13,
          12,
          8,
          6,
          9,
          10,
          17,
          5,
          5,
          20,
          22,
          2,
          9,
          6,
          14,
          7,
          5,
          10,
          15,
          5,
          11,
          8,
          10,
          10,
          8,
          8,
          14,
          2,
          8,
          7,
          2,
          6,
          27,
          1,
          9,
          6,
          4,
          28,
          11,
          13,
          14,
          9,
          12,
          8,
          1,
          6,
          3,
          10,
          10,
          38,
          7,
          11,
          25,
          37,
          1,
          18,
          15,
          2,
          27,
          7,
          4,
          11,
          6,
          33,
          1,
          5,
          4,
          27,
          13,
          13,
          13,
          25,
          18,
          20,
          28,
          7,
          14,
          3,
          9,
          22,
          10,
          15,
          10,
          30,
          47,
          39,
          15,
          19,
          32,
          12,
          7,
          1,
          5,
          14,
          8,
          4,
          10,
          1,
          6,
          4,
          2,
          30,
          4,
          3,
          5,
          10,
          8,
          5,
          10,
          14,
          14,
          12,
          8,
          6,
          17,
          13,
          9,
          5,
          5,
          15,
          30,
          28,
          2,
          22,
          12,
          5,
          2,
          4,
          7,
          9,
          5,
          5,
          12,
          18,
          11,
          37,
          9,
          4,
          11,
          4,
          11,
          17,
          10,
          4,
          22,
          4,
          13,
          4,
          2,
          7,
          7,
          6,
          13,
          34,
          4,
          28,
          26,
          4,
          9,
          4,
          6,
          14,
          25,
          19,
          17,
          10,
          12,
          10,
          8,
          10,
          15,
          6,
          4,
          44,
          6,
          4,
          18,
          1,
          22,
          10,
          19,
          3,
          19,
          4,
          11,
          22,
          18,
          11,
          4,
          21,
          15,
          7,
          30,
          12,
          5,
          4,
          9,
          20,
          7,
          1,
          5,
          9,
          5,
          7,
          1,
          8,
          9,
          4,
          18,
          11,
          4,
          9,
          1,
          11,
          20,
          11,
          7,
          10,
          6,
          12,
          9,
          9,
          7,
          57,
          19,
          6,
          6,
          8,
          7,
          5,
          4,
          6,
          15,
          5,
          3,
          27,
          11,
          3,
          6,
          12,
          16,
          18,
          10,
          15,
          2,
          24,
          9,
          7,
          2,
          20,
          1,
          19,
          14,
          11,
          25,
          14,
          2,
          20,
          12,
          2,
          22,
          44,
          31,
          3,
          6,
          18,
          24,
          10,
          9,
          20,
          8,
          10,
          1,
          24,
          3,
          35,
          26,
          22,
          8,
          16,
          14,
          7,
          7,
          5,
          8,
          16,
          7,
          9,
          24,
          1,
          4,
          12,
          8,
          17,
          3,
          5,
          17,
          15,
          24,
          7,
          20,
          6,
          2,
          37,
          1,
          23,
          16,
          3,
          21,
          8,
          8,
          3,
          1,
          8,
          20,
          6,
          28,
          4,
          3,
          37,
          5,
          7,
          4,
          4,
          10,
          17,
          12,
          23,
          6,
          22,
          10,
          19,
          9,
          32,
          31,
          18,
          19,
          9,
          1,
          6,
          9,
          17,
          1,
          6,
          21,
          6,
          8,
          8,
          3,
          11,
          25,
          16,
          4,
          16,
          7,
          11,
          22,
          5,
          36,
          10,
          19,
          21,
          21,
          1,
          15,
          48,
          23,
          5,
          7,
          3,
          6,
          8,
          1,
          4,
          4,
          2,
          12,
          2,
          11,
          3,
          19,
          4,
          9,
          16,
          11,
          1,
          3,
          6,
          6,
          1,
          26,
          18,
          25,
          8,
          2,
          16,
          28,
          11,
          4,
          12,
          4,
          7,
          3,
          14,
          17,
          2,
          22,
          2,
          14,
          11,
          2,
          20,
          3,
          3,
          3,
          5,
          5,
          9,
          2,
          14,
          9,
          5,
          4,
          10,
          3,
          2,
          21,
          9,
          3,
          2,
          15,
          15,
          26,
          23,
          2,
          14,
          16,
          6,
          7,
          10,
          27,
          26,
          3,
          12,
          11,
          5,
          5,
          3,
          10,
          4,
          20,
          21,
          12,
          10,
          3,
          9,
          3,
          5,
          12,
          5,
          4,
          10,
          9,
          2,
          6,
          8,
          5,
          9,
          3,
          16,
          5,
          2,
          17,
          5,
          3,
          2,
          13,
          12,
          1,
          9,
          2,
          7,
          16,
          11,
          6,
          11,
          5,
          20,
          2,
          53,
          24,
          11,
          7,
          5,
          14,
          11,
          22,
          15,
          6,
          15,
          13,
          5,
          20,
          23,
          3,
          3,
          21,
          17,
          22,
          16,
          8,
          7,
          32,
          11,
          4,
          49,
          23,
          14,
          8,
          10,
          16,
          19,
          46,
          7,
          4,
          39,
          16,
          3,
          30,
          25,
          3,
          8,
          15,
          15,
          25,
          22,
          18,
          11,
          18,
          14,
          14,
          8,
          17,
          21,
          12,
          19,
          12,
          14,
          19,
          11,
          16,
          4,
          24,
          30,
          10,
          13,
          21,
          6,
          1,
          20,
          1,
          6,
          29,
          5,
          10,
          4,
          17,
          7,
          2,
          13,
          11,
          11,
          18,
          12,
          16,
          12,
          10,
          9,
          6,
          8,
          4,
          15,
          14,
          49,
          28,
          14,
          9,
          14,
          16,
          31,
          17,
          4,
          2,
          11,
          10,
          5,
          15,
          5,
          5,
          15,
          1,
          2,
          13,
          29,
          9,
          9,
          20,
          4,
          12,
          21,
          2,
          12,
          4,
          3,
          15,
          8,
          14,
          9,
          2,
          16,
          2,
          3,
          7,
          2,
          12,
          13,
          4,
          3,
          3,
          21,
          1,
          21,
          14,
          14,
          4,
          6,
          12,
          24,
          29,
          14,
          13,
          4,
          24,
          12,
          11,
          6,
          11,
          15,
          15,
          20,
          5,
          3,
          10,
          3,
          13,
          21,
          6,
          8,
          8,
          11,
          17,
          10,
          5,
          25,
          3,
          6,
          10,
          3,
          33,
          1,
          3,
          2,
          6,
          25,
          22,
          8,
          12,
          3,
          3,
          21,
          8,
          8,
          8,
          19,
          2
         ],
         "xaxis": "x",
         "yaxis": "y"
        }
       ],
       "layout": {
        "autosize": true,
        "barmode": "relative",
        "legend": {
         "tracegroupgap": 0
        },
        "margin": {
         "t": 60
        },
        "template": {
         "data": {
          "bar": [
           {
            "error_x": {
             "color": "#2a3f5f"
            },
            "error_y": {
             "color": "#2a3f5f"
            },
            "marker": {
             "line": {
              "color": "#E5ECF6",
              "width": 0.5
             },
             "pattern": {
              "fillmode": "overlay",
              "size": 10,
              "solidity": 0.2
             }
            },
            "type": "bar"
           }
          ],
          "barpolar": [
           {
            "marker": {
             "line": {
              "color": "#E5ECF6",
              "width": 0.5
             },
             "pattern": {
              "fillmode": "overlay",
              "size": 10,
              "solidity": 0.2
             }
            },
            "type": "barpolar"
           }
          ],
          "carpet": [
           {
            "aaxis": {
             "endlinecolor": "#2a3f5f",
             "gridcolor": "white",
             "linecolor": "white",
             "minorgridcolor": "white",
             "startlinecolor": "#2a3f5f"
            },
            "baxis": {
             "endlinecolor": "#2a3f5f",
             "gridcolor": "white",
             "linecolor": "white",
             "minorgridcolor": "white",
             "startlinecolor": "#2a3f5f"
            },
            "type": "carpet"
           }
          ],
          "choropleth": [
           {
            "colorbar": {
             "outlinewidth": 0,
             "ticks": ""
            },
            "type": "choropleth"
           }
          ],
          "contour": [
           {
            "colorbar": {
             "outlinewidth": 0,
             "ticks": ""
            },
            "colorscale": [
             [
              0,
              "#0d0887"
             ],
             [
              0.1111111111111111,
              "#46039f"
             ],
             [
              0.2222222222222222,
              "#7201a8"
             ],
             [
              0.3333333333333333,
              "#9c179e"
             ],
             [
              0.4444444444444444,
              "#bd3786"
             ],
             [
              0.5555555555555556,
              "#d8576b"
             ],
             [
              0.6666666666666666,
              "#ed7953"
             ],
             [
              0.7777777777777778,
              "#fb9f3a"
             ],
             [
              0.8888888888888888,
              "#fdca26"
             ],
             [
              1,
              "#f0f921"
             ]
            ],
            "type": "contour"
           }
          ],
          "contourcarpet": [
           {
            "colorbar": {
             "outlinewidth": 0,
             "ticks": ""
            },
            "type": "contourcarpet"
           }
          ],
          "heatmap": [
           {
            "colorbar": {
             "outlinewidth": 0,
             "ticks": ""
            },
            "colorscale": [
             [
              0,
              "#0d0887"
             ],
             [
              0.1111111111111111,
              "#46039f"
             ],
             [
              0.2222222222222222,
              "#7201a8"
             ],
             [
              0.3333333333333333,
              "#9c179e"
             ],
             [
              0.4444444444444444,
              "#bd3786"
             ],
             [
              0.5555555555555556,
              "#d8576b"
             ],
             [
              0.6666666666666666,
              "#ed7953"
             ],
             [
              0.7777777777777778,
              "#fb9f3a"
             ],
             [
              0.8888888888888888,
              "#fdca26"
             ],
             [
              1,
              "#f0f921"
             ]
            ],
            "type": "heatmap"
           }
          ],
          "heatmapgl": [
           {
            "colorbar": {
             "outlinewidth": 0,
             "ticks": ""
            },
            "colorscale": [
             [
              0,
              "#0d0887"
             ],
             [
              0.1111111111111111,
              "#46039f"
             ],
             [
              0.2222222222222222,
              "#7201a8"
             ],
             [
              0.3333333333333333,
              "#9c179e"
             ],
             [
              0.4444444444444444,
              "#bd3786"
             ],
             [
              0.5555555555555556,
              "#d8576b"
             ],
             [
              0.6666666666666666,
              "#ed7953"
             ],
             [
              0.7777777777777778,
              "#fb9f3a"
             ],
             [
              0.8888888888888888,
              "#fdca26"
             ],
             [
              1,
              "#f0f921"
             ]
            ],
            "type": "heatmapgl"
           }
          ],
          "histogram": [
           {
            "marker": {
             "pattern": {
              "fillmode": "overlay",
              "size": 10,
              "solidity": 0.2
             }
            },
            "type": "histogram"
           }
          ],
          "histogram2d": [
           {
            "colorbar": {
             "outlinewidth": 0,
             "ticks": ""
            },
            "colorscale": [
             [
              0,
              "#0d0887"
             ],
             [
              0.1111111111111111,
              "#46039f"
             ],
             [
              0.2222222222222222,
              "#7201a8"
             ],
             [
              0.3333333333333333,
              "#9c179e"
             ],
             [
              0.4444444444444444,
              "#bd3786"
             ],
             [
              0.5555555555555556,
              "#d8576b"
             ],
             [
              0.6666666666666666,
              "#ed7953"
             ],
             [
              0.7777777777777778,
              "#fb9f3a"
             ],
             [
              0.8888888888888888,
              "#fdca26"
             ],
             [
              1,
              "#f0f921"
             ]
            ],
            "type": "histogram2d"
           }
          ],
          "histogram2dcontour": [
           {
            "colorbar": {
             "outlinewidth": 0,
             "ticks": ""
            },
            "colorscale": [
             [
              0,
              "#0d0887"
             ],
             [
              0.1111111111111111,
              "#46039f"
             ],
             [
              0.2222222222222222,
              "#7201a8"
             ],
             [
              0.3333333333333333,
              "#9c179e"
             ],
             [
              0.4444444444444444,
              "#bd3786"
             ],
             [
              0.5555555555555556,
              "#d8576b"
             ],
             [
              0.6666666666666666,
              "#ed7953"
             ],
             [
              0.7777777777777778,
              "#fb9f3a"
             ],
             [
              0.8888888888888888,
              "#fdca26"
             ],
             [
              1,
              "#f0f921"
             ]
            ],
            "type": "histogram2dcontour"
           }
          ],
          "mesh3d": [
           {
            "colorbar": {
             "outlinewidth": 0,
             "ticks": ""
            },
            "type": "mesh3d"
           }
          ],
          "parcoords": [
           {
            "line": {
             "colorbar": {
              "outlinewidth": 0,
              "ticks": ""
             }
            },
            "type": "parcoords"
           }
          ],
          "pie": [
           {
            "automargin": true,
            "type": "pie"
           }
          ],
          "scatter": [
           {
            "marker": {
             "colorbar": {
              "outlinewidth": 0,
              "ticks": ""
             }
            },
            "type": "scatter"
           }
          ],
          "scatter3d": [
           {
            "line": {
             "colorbar": {
              "outlinewidth": 0,
              "ticks": ""
             }
            },
            "marker": {
             "colorbar": {
              "outlinewidth": 0,
              "ticks": ""
             }
            },
            "type": "scatter3d"
           }
          ],
          "scattercarpet": [
           {
            "marker": {
             "colorbar": {
              "outlinewidth": 0,
              "ticks": ""
             }
            },
            "type": "scattercarpet"
           }
          ],
          "scattergeo": [
           {
            "marker": {
             "colorbar": {
              "outlinewidth": 0,
              "ticks": ""
             }
            },
            "type": "scattergeo"
           }
          ],
          "scattergl": [
           {
            "marker": {
             "colorbar": {
              "outlinewidth": 0,
              "ticks": ""
             }
            },
            "type": "scattergl"
           }
          ],
          "scattermapbox": [
           {
            "marker": {
             "colorbar": {
              "outlinewidth": 0,
              "ticks": ""
             }
            },
            "type": "scattermapbox"
           }
          ],
          "scatterpolar": [
           {
            "marker": {
             "colorbar": {
              "outlinewidth": 0,
              "ticks": ""
             }
            },
            "type": "scatterpolar"
           }
          ],
          "scatterpolargl": [
           {
            "marker": {
             "colorbar": {
              "outlinewidth": 0,
              "ticks": ""
             }
            },
            "type": "scatterpolargl"
           }
          ],
          "scatterternary": [
           {
            "marker": {
             "colorbar": {
              "outlinewidth": 0,
              "ticks": ""
             }
            },
            "type": "scatterternary"
           }
          ],
          "surface": [
           {
            "colorbar": {
             "outlinewidth": 0,
             "ticks": ""
            },
            "colorscale": [
             [
              0,
              "#0d0887"
             ],
             [
              0.1111111111111111,
              "#46039f"
             ],
             [
              0.2222222222222222,
              "#7201a8"
             ],
             [
              0.3333333333333333,
              "#9c179e"
             ],
             [
              0.4444444444444444,
              "#bd3786"
             ],
             [
              0.5555555555555556,
              "#d8576b"
             ],
             [
              0.6666666666666666,
              "#ed7953"
             ],
             [
              0.7777777777777778,
              "#fb9f3a"
             ],
             [
              0.8888888888888888,
              "#fdca26"
             ],
             [
              1,
              "#f0f921"
             ]
            ],
            "type": "surface"
           }
          ],
          "table": [
           {
            "cells": {
             "fill": {
              "color": "#EBF0F8"
             },
             "line": {
              "color": "white"
             }
            },
            "header": {
             "fill": {
              "color": "#C8D4E3"
             },
             "line": {
              "color": "white"
             }
            },
            "type": "table"
           }
          ]
         },
         "layout": {
          "annotationdefaults": {
           "arrowcolor": "#2a3f5f",
           "arrowhead": 0,
           "arrowwidth": 1
          },
          "autotypenumbers": "strict",
          "coloraxis": {
           "colorbar": {
            "outlinewidth": 0,
            "ticks": ""
           }
          },
          "colorscale": {
           "diverging": [
            [
             0,
             "#8e0152"
            ],
            [
             0.1,
             "#c51b7d"
            ],
            [
             0.2,
             "#de77ae"
            ],
            [
             0.3,
             "#f1b6da"
            ],
            [
             0.4,
             "#fde0ef"
            ],
            [
             0.5,
             "#f7f7f7"
            ],
            [
             0.6,
             "#e6f5d0"
            ],
            [
             0.7,
             "#b8e186"
            ],
            [
             0.8,
             "#7fbc41"
            ],
            [
             0.9,
             "#4d9221"
            ],
            [
             1,
             "#276419"
            ]
           ],
           "sequential": [
            [
             0,
             "#0d0887"
            ],
            [
             0.1111111111111111,
             "#46039f"
            ],
            [
             0.2222222222222222,
             "#7201a8"
            ],
            [
             0.3333333333333333,
             "#9c179e"
            ],
            [
             0.4444444444444444,
             "#bd3786"
            ],
            [
             0.5555555555555556,
             "#d8576b"
            ],
            [
             0.6666666666666666,
             "#ed7953"
            ],
            [
             0.7777777777777778,
             "#fb9f3a"
            ],
            [
             0.8888888888888888,
             "#fdca26"
            ],
            [
             1,
             "#f0f921"
            ]
           ],
           "sequentialminus": [
            [
             0,
             "#0d0887"
            ],
            [
             0.1111111111111111,
             "#46039f"
            ],
            [
             0.2222222222222222,
             "#7201a8"
            ],
            [
             0.3333333333333333,
             "#9c179e"
            ],
            [
             0.4444444444444444,
             "#bd3786"
            ],
            [
             0.5555555555555556,
             "#d8576b"
            ],
            [
             0.6666666666666666,
             "#ed7953"
            ],
            [
             0.7777777777777778,
             "#fb9f3a"
            ],
            [
             0.8888888888888888,
             "#fdca26"
            ],
            [
             1,
             "#f0f921"
            ]
           ]
          },
          "colorway": [
           "#636efa",
           "#EF553B",
           "#00cc96",
           "#ab63fa",
           "#FFA15A",
           "#19d3f3",
           "#FF6692",
           "#B6E880",
           "#FF97FF",
           "#FECB52"
          ],
          "font": {
           "color": "#2a3f5f"
          },
          "geo": {
           "bgcolor": "white",
           "lakecolor": "white",
           "landcolor": "#E5ECF6",
           "showlakes": true,
           "showland": true,
           "subunitcolor": "white"
          },
          "hoverlabel": {
           "align": "left"
          },
          "hovermode": "closest",
          "mapbox": {
           "style": "light"
          },
          "paper_bgcolor": "white",
          "plot_bgcolor": "#E5ECF6",
          "polar": {
           "angularaxis": {
            "gridcolor": "white",
            "linecolor": "white",
            "ticks": ""
           },
           "bgcolor": "#E5ECF6",
           "radialaxis": {
            "gridcolor": "white",
            "linecolor": "white",
            "ticks": ""
           }
          },
          "scene": {
           "xaxis": {
            "backgroundcolor": "#E5ECF6",
            "gridcolor": "white",
            "gridwidth": 2,
            "linecolor": "white",
            "showbackground": true,
            "ticks": "",
            "zerolinecolor": "white"
           },
           "yaxis": {
            "backgroundcolor": "#E5ECF6",
            "gridcolor": "white",
            "gridwidth": 2,
            "linecolor": "white",
            "showbackground": true,
            "ticks": "",
            "zerolinecolor": "white"
           },
           "zaxis": {
            "backgroundcolor": "#E5ECF6",
            "gridcolor": "white",
            "gridwidth": 2,
            "linecolor": "white",
            "showbackground": true,
            "ticks": "",
            "zerolinecolor": "white"
           }
          },
          "shapedefaults": {
           "line": {
            "color": "#2a3f5f"
           }
          },
          "ternary": {
           "aaxis": {
            "gridcolor": "white",
            "linecolor": "white",
            "ticks": ""
           },
           "baxis": {
            "gridcolor": "white",
            "linecolor": "white",
            "ticks": ""
           },
           "bgcolor": "#E5ECF6",
           "caxis": {
            "gridcolor": "white",
            "linecolor": "white",
            "ticks": ""
           }
          },
          "title": {
           "x": 0.05
          },
          "xaxis": {
           "automargin": true,
           "gridcolor": "white",
           "linecolor": "white",
           "ticks": "",
           "title": {
            "standoff": 15
           },
           "zerolinecolor": "white",
           "zerolinewidth": 2
          },
          "yaxis": {
           "automargin": true,
           "gridcolor": "white",
           "linecolor": "white",
           "ticks": "",
           "title": {
            "standoff": 15
           },
           "zerolinecolor": "white",
           "zerolinewidth": 2
          }
         }
        },
        "xaxis": {
         "anchor": "y",
         "autorange": true,
         "domain": [
          0,
          1
         ],
         "range": [
          -0.5,
          57.5
         ],
         "title": {
          "text": "PTS_diff"
         },
         "type": "linear"
        },
        "yaxis": {
         "anchor": "x",
         "autorange": true,
         "domain": [
          0,
          1
         ],
         "range": [
          0,
          142.10526315789474
         ],
         "title": {
          "text": "count"
         }
        }
       }
      },
      "image/png": "[encoded data removed]",
      "text/html": [
       "<div>                            <div id=\"4fb9ff9e-20a6-4aac-b458-82406c73c369\" class=\"plotly-graph-div\" style=\"height:525px; width:100%;\"></div>            <script type=\"text/javascript\">                require([\"plotly\"], function(Plotly) {                    window.PLOTLYENV=window.PLOTLYENV || {};                                    if (document.getElementById(\"4fb9ff9e-20a6-4aac-b458-82406c73c369\")) {                    Plotly.newPlot(                        \"4fb9ff9e-20a6-4aac-b458-82406c73c369\",                        [{\"alignmentgroup\":\"True\",\"bingroup\":\"x\",\"hovertemplate\":\"PTS_diff=%{x}<br>count=%{y}<extra></extra>\",\"legendgroup\":\"\",\"marker\":{\"color\":\"#636efa\",\"pattern\":{\"shape\":\"\"}},\"name\":\"\",\"offsetgroup\":\"\",\"orientation\":\"v\",\"showlegend\":false,\"type\":\"histogram\",\"x\":[29,23,4,1,32,9,11,7,15,16,12,5,4,12,16,6,23,5,16,5,23,12,18,15,1,3,14,15,8,8,11,16,9,18,8,11,18,18,8,10,20,16,36,3,9,13,5,8,1,18,9,2,30,16,17,8,16,27,7,5,1,6,12,13,14,4,4,16,38,27,9,2,12,2,19,5,1,8,16,13,27,24,9,11,7,11,3,16,1,2,15,12,12,3,4,5,24,9,7,2,5,4,14,17,35,7,7,7,7,6,9,17,5,20,34,5,10,5,31,29,9,1,22,5,18,5,4,33,3,14,6,12,12,22,21,8,17,6,10,9,16,8,14,21,23,4,7,20,8,3,8,13,26,8,13,5,16,3,10,3,8,4,18,27,20,4,14,1,10,30,15,5,10,1,15,8,22,13,5,21,20,40,16,13,11,9,6,17,3,10,13,1,5,2,6,5,12,11,14,7,13,10,51,13,11,5,16,6,10,2,24,13,1,2,29,17,2,10,15,10,7,9,24,5,11,4,25,15,1,10,31,6,30,5,17,17,2,38,11,27,4,8,4,18,10,25,12,7,15,13,12,3,6,3,39,21,15,26,4,21,11,18,38,9,16,1,14,13,14,12,9,4,8,8,31,6,23,31,27,12,22,22,2,1,10,31,15,10,1,7,7,4,9,22,18,12,30,14,3,19,25,1,4,42,8,3,23,19,24,5,5,12,1,19,2,11,7,17,10,17,18,24,10,13,33,9,27,10,26,20,19,4,7,17,19,7,22,14,26,4,8,14,19,33,38,5,3,7,5,23,23,13,7,12,7,2,2,13,4,11,12,8,25,9,21,3,14,11,16,31,5,26,9,8,10,1,7,6,21,8,1,7,11,7,17,29,17,18,2,2,14,6,14,36,23,13,12,8,6,9,10,17,5,5,20,22,2,9,6,14,7,5,10,15,5,11,8,10,10,8,8,14,2,8,7,2,6,27,1,9,6,4,28,11,13,14,9,12,8,1,6,3,10,10,38,7,11,25,37,1,18,15,2,27,7,4,11,6,33,1,5,4,27,13,13,13,25,18,20,28,7,14,3,9,22,10,15,10,30,47,39,15,19,32,12,7,1,5,14,8,4,10,1,6,4,2,30,4,3,5,10,8,5,10,14,14,12,8,6,17,13,9,5,5,15,30,28,2,22,12,5,2,4,7,9,5,5,12,18,11,37,9,4,11,4,11,17,10,4,22,4,13,4,2,7,7,6,13,34,4,28,26,4,9,4,6,14,25,19,17,10,12,10,8,10,15,6,4,44,6,4,18,1,22,10,19,3,19,4,11,22,18,11,4,21,15,7,30,12,5,4,9,20,7,1,5,9,5,7,1,8,9,4,18,11,4,9,1,11,20,11,7,10,6,12,9,9,7,57,19,6,6,8,7,5,4,6,15,5,3,27,11,3,6,12,16,18,10,15,2,24,9,7,2,20,1,19,14,11,25,14,2,20,12,2,22,44,31,3,6,18,24,10,9,20,8,10,1,24,3,35,26,22,8,16,14,7,7,5,8,16,7,9,24,1,4,12,8,17,3,5,17,15,24,7,20,6,2,37,1,23,16,3,21,8,8,3,1,8,20,6,28,4,3,37,5,7,4,4,10,17,12,23,6,22,10,19,9,32,31,18,19,9,1,6,9,17,1,6,21,6,8,8,3,11,25,16,4,16,7,11,22,5,36,10,19,21,21,1,15,48,23,5,7,3,6,8,1,4,4,2,12,2,11,3,19,4,9,16,11,1,3,6,6,1,26,18,25,8,2,16,28,11,4,12,4,7,3,14,17,2,22,2,14,11,2,20,3,3,3,5,5,9,2,14,9,5,4,10,3,2,21,9,3,2,15,15,26,23,2,14,16,6,7,10,27,26,3,12,11,5,5,3,10,4,20,21,12,10,3,9,3,5,12,5,4,10,9,2,6,8,5,9,3,16,5,2,17,5,3,2,13,12,1,9,2,7,16,11,6,11,5,20,2,53,24,11,7,5,14,11,22,15,6,15,13,5,20,23,3,3,21,17,22,16,8,7,32,11,4,49,23,14,8,10,16,19,46,7,4,39,16,3,30,25,3,8,15,15,25,22,18,11,18,14,14,8,17,21,12,19,12,14,19,11,16,4,24,30,10,13,21,6,1,20,1,6,29,5,10,4,17,7,2,13,11,11,18,12,16,12,10,9,6,8,4,15,14,49,28,14,9,14,16,31,17,4,2,11,10,5,15,5,5,15,1,2,13,29,9,9,20,4,12,21,2,12,4,3,15,8,14,9,2,16,2,3,7,2,12,13,4,3,3,21,1,21,14,14,4,6,12,24,29,14,13,4,24,12,11,6,11,15,15,20,5,3,10,3,13,21,6,8,8,11,17,10,5,25,3,6,10,3,33,1,3,2,6,25,22,8,12,3,3,21,8,8,8,19,2],\"xaxis\":\"x\",\"yaxis\":\"y\"}],                        {\"barmode\":\"relative\",\"legend\":{\"tracegroupgap\":0},\"margin\":{\"t\":60},\"template\":{\"data\":{\"bar\":[{\"error_x\":{\"color\":\"#2a3f5f\"},\"error_y\":{\"color\":\"#2a3f5f\"},\"marker\":{\"line\":{\"color\":\"#E5ECF6\",\"width\":0.5},\"pattern\":{\"fillmode\":\"overlay\",\"size\":10,\"solidity\":0.2}},\"type\":\"bar\"}],\"barpolar\":[{\"marker\":{\"line\":{\"color\":\"#E5ECF6\",\"width\":0.5},\"pattern\":{\"fillmode\":\"overlay\",\"size\":10,\"solidity\":0.2}},\"type\":\"barpolar\"}],\"carpet\":[{\"aaxis\":{\"endlinecolor\":\"#2a3f5f\",\"gridcolor\":\"white\",\"linecolor\":\"white\",\"minorgridcolor\":\"white\",\"startlinecolor\":\"#2a3f5f\"},\"baxis\":{\"endlinecolor\":\"#2a3f5f\",\"gridcolor\":\"white\",\"linecolor\":\"white\",\"minorgridcolor\":\"white\",\"startlinecolor\":\"#2a3f5f\"},\"type\":\"carpet\"}],\"choropleth\":[{\"colorbar\":{\"outlinewidth\":0,\"ticks\":\"\"},\"type\":\"choropleth\"}],\"contour\":[{\"colorbar\":{\"outlinewidth\":0,\"ticks\":\"\"},\"colorscale\":[[0.0,\"#0d0887\"],[0.1111111111111111,\"#46039f\"],[0.2222222222222222,\"#7201a8\"],[0.3333333333333333,\"#9c179e\"],[0.4444444444444444,\"#bd3786\"],[0.5555555555555556,\"#d8576b\"],[0.6666666666666666,\"#ed7953\"],[0.7777777777777778,\"#fb9f3a\"],[0.8888888888888888,\"#fdca26\"],[1.0,\"#f0f921\"]],\"type\":\"contour\"}],\"contourcarpet\":[{\"colorbar\":{\"outlinewidth\":0,\"ticks\":\"\"},\"type\":\"contourcarpet\"}],\"heatmap\":[{\"colorbar\":{\"outlinewidth\":0,\"ticks\":\"\"},\"colorscale\":[[0.0,\"#0d0887\"],[0.1111111111111111,\"#46039f\"],[0.2222222222222222,\"#7201a8\"],[0.3333333333333333,\"#9c179e\"],[0.4444444444444444,\"#bd3786\"],[0.5555555555555556,\"#d8576b\"],[0.6666666666666666,\"#ed7953\"],[0.7777777777777778,\"#fb9f3a\"],[0.8888888888888888,\"#fdca26\"],[1.0,\"#f0f921\"]],\"type\":\"heatmap\"}],\"heatmapgl\":[{\"colorbar\":{\"outlinewidth\":0,\"ticks\":\"\"},\"colorscale\":[[0.0,\"#0d0887\"],[0.1111111111111111,\"#46039f\"],[0.2222222222222222,\"#7201a8\"],[0.3333333333333333,\"#9c179e\"],[0.4444444444444444,\"#bd3786\"],[0.5555555555555556,\"#d8576b\"],[0.6666666666666666,\"#ed7953\"],[0.7777777777777778,\"#fb9f3a\"],[0.8888888888888888,\"#fdca26\"],[1.0,\"#f0f921\"]],\"type\":\"heatmapgl\"}],\"histogram\":[{\"marker\":{\"pattern\":{\"fillmode\":\"overlay\",\"size\":10,\"solidity\":0.2}},\"type\":\"histogram\"}],\"histogram2d\":[{\"colorbar\":{\"outlinewidth\":0,\"ticks\":\"\"},\"colorscale\":[[0.0,\"#0d0887\"],[0.1111111111111111,\"#46039f\"],[0.2222222222222222,\"#7201a8\"],[0.3333333333333333,\"#9c179e\"],[0.4444444444444444,\"#bd3786\"],[0.5555555555555556,\"#d8576b\"],[0.6666666666666666,\"#ed7953\"],[0.7777777777777778,\"#fb9f3a\"],[0.8888888888888888,\"#fdca26\"],[1.0,\"#f0f921\"]],\"type\":\"histogram2d\"}],\"histogram2dcontour\":[{\"colorbar\":{\"outlinewidth\":0,\"ticks\":\"\"},\"colorscale\":[[0.0,\"#0d0887\"],[0.1111111111111111,\"#46039f\"],[0.2222222222222222,\"#7201a8\"],[0.3333333333333333,\"#9c179e\"],[0.4444444444444444,\"#bd3786\"],[0.5555555555555556,\"#d8576b\"],[0.6666666666666666,\"#ed7953\"],[0.7777777777777778,\"#fb9f3a\"],[0.8888888888888888,\"#fdca26\"],[1.0,\"#f0f921\"]],\"type\":\"histogram2dcontour\"}],\"mesh3d\":[{\"colorbar\":{\"outlinewidth\":0,\"ticks\":\"\"},\"type\":\"mesh3d\"}],\"parcoords\":[{\"line\":{\"colorbar\":{\"outlinewidth\":0,\"ticks\":\"\"}},\"type\":\"parcoords\"}],\"pie\":[{\"automargin\":true,\"type\":\"pie\"}],\"scatter\":[{\"marker\":{\"colorbar\":{\"outlinewidth\":0,\"ticks\":\"\"}},\"type\":\"scatter\"}],\"scatter3d\":[{\"line\":{\"colorbar\":{\"outlinewidth\":0,\"ticks\":\"\"}},\"marker\":{\"colorbar\":{\"outlinewidth\":0,\"ticks\":\"\"}},\"type\":\"scatter3d\"}],\"scattercarpet\":[{\"marker\":{\"colorbar\":{\"outlinewidth\":0,\"ticks\":\"\"}},\"type\":\"scattercarpet\"}],\"scattergeo\":[{\"marker\":{\"colorbar\":{\"outlinewidth\":0,\"ticks\":\"\"}},\"type\":\"scattergeo\"}],\"scattergl\":[{\"marker\":{\"colorbar\":{\"outlinewidth\":0,\"ticks\":\"\"}},\"type\":\"scattergl\"}],\"scattermapbox\":[{\"marker\":{\"colorbar\":{\"outlinewidth\":0,\"ticks\":\"\"}},\"type\":\"scattermapbox\"}],\"scatterpolar\":[{\"marker\":{\"colorbar\":{\"outlinewidth\":0,\"ticks\":\"\"}},\"type\":\"scatterpolar\"}],\"scatterpolargl\":[{\"marker\":{\"colorbar\":{\"outlinewidth\":0,\"ticks\":\"\"}},\"type\":\"scatterpolargl\"}],\"scatterternary\":[{\"marker\":{\"colorbar\":{\"outlinewidth\":0,\"ticks\":\"\"}},\"type\":\"scatterternary\"}],\"surface\":[{\"colorbar\":{\"outlinewidth\":0,\"ticks\":\"\"},\"colorscale\":[[0.0,\"#0d0887\"],[0.1111111111111111,\"#46039f\"],[0.2222222222222222,\"#7201a8\"],[0.3333333333333333,\"#9c179e\"],[0.4444444444444444,\"#bd3786\"],[0.5555555555555556,\"#d8576b\"],[0.6666666666666666,\"#ed7953\"],[0.7777777777777778,\"#fb9f3a\"],[0.8888888888888888,\"#fdca26\"],[1.0,\"#f0f921\"]],\"type\":\"surface\"}],\"table\":[{\"cells\":{\"fill\":{\"color\":\"#EBF0F8\"},\"line\":{\"color\":\"white\"}},\"header\":{\"fill\":{\"color\":\"#C8D4E3\"},\"line\":{\"color\":\"white\"}},\"type\":\"table\"}]},\"layout\":{\"annotationdefaults\":{\"arrowcolor\":\"#2a3f5f\",\"arrowhead\":0,\"arrowwidth\":1},\"autotypenumbers\":\"strict\",\"coloraxis\":{\"colorbar\":{\"outlinewidth\":0,\"ticks\":\"\"}},\"colorscale\":{\"diverging\":[[0,\"#8e0152\"],[0.1,\"#c51b7d\"],[0.2,\"#de77ae\"],[0.3,\"#f1b6da\"],[0.4,\"#fde0ef\"],[0.5,\"#f7f7f7\"],[0.6,\"#e6f5d0\"],[0.7,\"#b8e186\"],[0.8,\"#7fbc41\"],[0.9,\"#4d9221\"],[1,\"#276419\"]],\"sequential\":[[0.0,\"#0d0887\"],[0.1111111111111111,\"#46039f\"],[0.2222222222222222,\"#7201a8\"],[0.3333333333333333,\"#9c179e\"],[0.4444444444444444,\"#bd3786\"],[0.5555555555555556,\"#d8576b\"],[0.6666666666666666,\"#ed7953\"],[0.7777777777777778,\"#fb9f3a\"],[0.8888888888888888,\"#fdca26\"],[1.0,\"#f0f921\"]],\"sequentialminus\":[[0.0,\"#0d0887\"],[0.1111111111111111,\"#46039f\"],[0.2222222222222222,\"#7201a8\"],[0.3333333333333333,\"#9c179e\"],[0.4444444444444444,\"#bd3786\"],[0.5555555555555556,\"#d8576b\"],[0.6666666666666666,\"#ed7953\"],[0.7777777777777778,\"#fb9f3a\"],[0.8888888888888888,\"#fdca26\"],[1.0,\"#f0f921\"]]},\"colorway\":[\"#636efa\",\"#EF553B\",\"#00cc96\",\"#ab63fa\",\"#FFA15A\",\"#19d3f3\",\"#FF6692\",\"#B6E880\",\"#FF97FF\",\"#FECB52\"],\"font\":{\"color\":\"#2a3f5f\"},\"geo\":{\"bgcolor\":\"white\",\"lakecolor\":\"white\",\"landcolor\":\"#E5ECF6\",\"showlakes\":true,\"showland\":true,\"subunitcolor\":\"white\"},\"hoverlabel\":{\"align\":\"left\"},\"hovermode\":\"closest\",\"mapbox\":{\"style\":\"light\"},\"paper_bgcolor\":\"white\",\"plot_bgcolor\":\"#E5ECF6\",\"polar\":{\"angularaxis\":{\"gridcolor\":\"white\",\"linecolor\":\"white\",\"ticks\":\"\"},\"bgcolor\":\"#E5ECF6\",\"radialaxis\":{\"gridcolor\":\"white\",\"linecolor\":\"white\",\"ticks\":\"\"}},\"scene\":{\"xaxis\":{\"backgroundcolor\":\"#E5ECF6\",\"gridcolor\":\"white\",\"gridwidth\":2,\"linecolor\":\"white\",\"showbackground\":true,\"ticks\":\"\",\"zerolinecolor\":\"white\"},\"yaxis\":{\"backgroundcolor\":\"#E5ECF6\",\"gridcolor\":\"white\",\"gridwidth\":2,\"linecolor\":\"white\",\"showbackground\":true,\"ticks\":\"\",\"zerolinecolor\":\"white\"},\"zaxis\":{\"backgroundcolor\":\"#E5ECF6\",\"gridcolor\":\"white\",\"gridwidth\":2,\"linecolor\":\"white\",\"showbackground\":true,\"ticks\":\"\",\"zerolinecolor\":\"white\"}},\"shapedefaults\":{\"line\":{\"color\":\"#2a3f5f\"}},\"ternary\":{\"aaxis\":{\"gridcolor\":\"white\",\"linecolor\":\"white\",\"ticks\":\"\"},\"baxis\":{\"gridcolor\":\"white\",\"linecolor\":\"white\",\"ticks\":\"\"},\"bgcolor\":\"#E5ECF6\",\"caxis\":{\"gridcolor\":\"white\",\"linecolor\":\"white\",\"ticks\":\"\"}},\"title\":{\"x\":0.05},\"xaxis\":{\"automargin\":true,\"gridcolor\":\"white\",\"linecolor\":\"white\",\"ticks\":\"\",\"title\":{\"standoff\":15},\"zerolinecolor\":\"white\",\"zerolinewidth\":2},\"yaxis\":{\"automargin\":true,\"gridcolor\":\"white\",\"linecolor\":\"white\",\"ticks\":\"\",\"title\":{\"standoff\":15},\"zerolinecolor\":\"white\",\"zerolinewidth\":2}}},\"xaxis\":{\"anchor\":\"y\",\"domain\":[0.0,1.0],\"title\":{\"text\":\"PTS_diff\"}},\"yaxis\":{\"anchor\":\"x\",\"domain\":[0.0,1.0],\"title\":{\"text\":\"count\"}}},                        {\"responsive\": true}                    ).then(function(){\n",
       "                            \n",
       "var gd = document.getElementById('4fb9ff9e-20a6-4aac-b458-82406c73c369');\n",
       "var x = new MutationObserver(function (mutations, observer) {{\n",
       "        var display = window.getComputedStyle(gd).display;\n",
       "        if (!display || display === 'none') {{\n",
       "            console.log([gd, 'removed!']);\n",
       "            Plotly.purge(gd);\n",
       "            observer.disconnect();\n",
       "        }}\n",
       "}});\n",
       "\n",
       "// Listen for the removal of the full notebook cells\n",
       "var notebookContainer = gd.closest('#notebook-container');\n",
       "if (notebookContainer) {{\n",
       "    x.observe(notebookContainer, {childList: true});\n",
       "}}\n",
       "\n",
       "// Listen for the clearing of the current output cell\n",
       "var outputEl = gd.closest('.output');\n",
       "if (outputEl) {{\n",
       "    x.observe(outputEl, {childList: true});\n",
       "}}\n",
       "\n",
       "                        })                };                });            </script>        </div>"
      ]
     },
     "metadata": {},
     "output_type": "display_data"
    }
   ],
   "source": [
    "px.histogram(winners, x='PTS_diff')"
   ]
  },
  {
   "cell_type": "code",
   "execution_count": 42,
   "id": "08cd9ed6-5b04-4c0f-92be-16dbf492fa45",
   "metadata": {},
   "outputs": [
    {
     "data": {
      "application/vnd.plotly.v1+json": {
       "config": {
        "plotlyServerURL": "https://plot.ly"
       },
       "data": [
        {
         "alignmentgroup": "True",
         "bingroup": "x",
         "hovertemplate": "PTS_diff=%{x}<br>count=%{y}<extra></extra>",
         "legendgroup": "",
         "marker": {
          "color": "#636efa",
          "pattern": {
           "shape": ""
          }
         },
         "name": "",
         "nbinsx": 20,
         "offsetgroup": "",
         "orientation": "v",
         "showlegend": false,
         "type": "histogram",
         "x": [
          29,
          23,
          4,
          1,
          32,
          9,
          11,
          7,
          15,
          16,
          12,
          5,
          4,
          12,
          16,
          6,
          23,
          5,
          16,
          5,
          23,
          12,
          18,
          15,
          1,
          3,
          14,
          15,
          8,
          8,
          11,
          16,
          9,
          18,
          8,
          11,
          18,
          18,
          8,
          10,
          20,
          16,
          36,
          3,
          9,
          13,
          5,
          8,
          1,
          18,
          9,
          2,
          30,
          16,
          17,
          8,
          16,
          27,
          7,
          5,
          1,
          6,
          12,
          13,
          14,
          4,
          4,
          16,
          38,
          27,
          9,
          2,
          12,
          2,
          19,
          5,
          1,
          8,
          16,
          13,
          27,
          24,
          9,
          11,
          7,
          11,
          3,
          16,
          1,
          2,
          15,
          12,
          12,
          3,
          4,
          5,
          24,
          9,
          7,
          2,
          5,
          4,
          14,
          17,
          35,
          7,
          7,
          7,
          7,
          6,
          9,
          17,
          5,
          20,
          34,
          5,
          10,
          5,
          31,
          29,
          9,
          1,
          22,
          5,
          18,
          5,
          4,
          33,
          3,
          14,
          6,
          12,
          12,
          22,
          21,
          8,
          17,
          6,
          10,
          9,
          16,
          8,
          14,
          21,
          23,
          4,
          7,
          20,
          8,
          3,
          8,
          13,
          26,
          8,
          13,
          5,
          16,
          3,
          10,
          3,
          8,
          4,
          18,
          27,
          20,
          4,
          14,
          1,
          10,
          30,
          15,
          5,
          10,
          1,
          15,
          8,
          22,
          13,
          5,
          21,
          20,
          40,
          16,
          13,
          11,
          9,
          6,
          17,
          3,
          10,
          13,
          1,
          5,
          2,
          6,
          5,
          12,
          11,
          14,
          7,
          13,
          10,
          51,
          13,
          11,
          5,
          16,
          6,
          10,
          2,
          24,
          13,
          1,
          2,
          29,
          17,
          2,
          10,
          15,
          10,
          7,
          9,
          24,
          5,
          11,
          4,
          25,
          15,
          1,
          10,
          31,
          6,
          30,
          5,
          17,
          17,
          2,
          38,
          11,
          27,
          4,
          8,
          4,
          18,
          10,
          25,
          12,
          7,
          15,
          13,
          12,
          3,
          6,
          3,
          39,
          21,
          15,
          26,
          4,
          21,
          11,
          18,
          38,
          9,
          16,
          1,
          14,
          13,
          14,
          12,
          9,
          4,
          8,
          8,
          31,
          6,
          23,
          31,
          27,
          12,
          22,
          22,
          2,
          1,
          10,
          31,
          15,
          10,
          1,
          7,
          7,
          4,
          9,
          22,
          18,
          12,
          30,
          14,
          3,
          19,
          25,
          1,
          4,
          42,
          8,
          3,
          23,
          19,
          24,
          5,
          5,
          12,
          1,
          19,
          2,
          11,
          7,
          17,
          10,
          17,
          18,
          24,
          10,
          13,
          33,
          9,
          27,
          10,
          26,
          20,
          19,
          4,
          7,
          17,
          19,
          7,
          22,
          14,
          26,
          4,
          8,
          14,
          19,
          33,
          38,
          5,
          3,
          7,
          5,
          23,
          23,
          13,
          7,
          12,
          7,
          2,
          2,
          13,
          4,
          11,
          12,
          8,
          25,
          9,
          21,
          3,
          14,
          11,
          16,
          31,
          5,
          26,
          9,
          8,
          10,
          1,
          7,
          6,
          21,
          8,
          1,
          7,
          11,
          7,
          17,
          29,
          17,
          18,
          2,
          2,
          14,
          6,
          14,
          36,
          23,
          13,
          12,
          8,
          6,
          9,
          10,
          17,
          5,
          5,
          20,
          22,
          2,
          9,
          6,
          14,
          7,
          5,
          10,
          15,
          5,
          11,
          8,
          10,
          10,
          8,
          8,
          14,
          2,
          8,
          7,
          2,
          6,
          27,
          1,
          9,
          6,
          4,
          28,
          11,
          13,
          14,
          9,
          12,
          8,
          1,
          6,
          3,
          10,
          10,
          38,
          7,
          11,
          25,
          37,
          1,
          18,
          15,
          2,
          27,
          7,
          4,
          11,
          6,
          33,
          1,
          5,
          4,
          27,
          13,
          13,
          13,
          25,
          18,
          20,
          28,
          7,
          14,
          3,
          9,
          22,
          10,
          15,
          10,
          30,
          47,
          39,
          15,
          19,
          32,
          12,
          7,
          1,
          5,
          14,
          8,
          4,
          10,
          1,
          6,
          4,
          2,
          30,
          4,
          3,
          5,
          10,
          8,
          5,
          10,
          14,
          14,
          12,
          8,
          6,
          17,
          13,
          9,
          5,
          5,
          15,
          30,
          28,
          2,
          22,
          12,
          5,
          2,
          4,
          7,
          9,
          5,
          5,
          12,
          18,
          11,
          37,
          9,
          4,
          11,
          4,
          11,
          17,
          10,
          4,
          22,
          4,
          13,
          4,
          2,
          7,
          7,
          6,
          13,
          34,
          4,
          28,
          26,
          4,
          9,
          4,
          6,
          14,
          25,
          19,
          17,
          10,
          12,
          10,
          8,
          10,
          15,
          6,
          4,
          44,
          6,
          4,
          18,
          1,
          22,
          10,
          19,
          3,
          19,
          4,
          11,
          22,
          18,
          11,
          4,
          21,
          15,
          7,
          30,
          12,
          5,
          4,
          9,
          20,
          7,
          1,
          5,
          9,
          5,
          7,
          1,
          8,
          9,
          4,
          18,
          11,
          4,
          9,
          1,
          11,
          20,
          11,
          7,
          10,
          6,
          12,
          9,
          9,
          7,
          57,
          19,
          6,
          6,
          8,
          7,
          5,
          4,
          6,
          15,
          5,
          3,
          27,
          11,
          3,
          6,
          12,
          16,
          18,
          10,
          15,
          2,
          24,
          9,
          7,
          2,
          20,
          1,
          19,
          14,
          11,
          25,
          14,
          2,
          20,
          12,
          2,
          22,
          44,
          31,
          3,
          6,
          18,
          24,
          10,
          9,
          20,
          8,
          10,
          1,
          24,
          3,
          35,
          26,
          22,
          8,
          16,
          14,
          7,
          7,
          5,
          8,
          16,
          7,
          9,
          24,
          1,
          4,
          12,
          8,
          17,
          3,
          5,
          17,
          15,
          24,
          7,
          20,
          6,
          2,
          37,
          1,
          23,
          16,
          3,
          21,
          8,
          8,
          3,
          1,
          8,
          20,
          6,
          28,
          4,
          3,
          37,
          5,
          7,
          4,
          4,
          10,
          17,
          12,
          23,
          6,
          22,
          10,
          19,
          9,
          32,
          31,
          18,
          19,
          9,
          1,
          6,
          9,
          17,
          1,
          6,
          21,
          6,
          8,
          8,
          3,
          11,
          25,
          16,
          4,
          16,
          7,
          11,
          22,
          5,
          36,
          10,
          19,
          21,
          21,
          1,
          15,
          48,
          23,
          5,
          7,
          3,
          6,
          8,
          1,
          4,
          4,
          2,
          12,
          2,
          11,
          3,
          19,
          4,
          9,
          16,
          11,
          1,
          3,
          6,
          6,
          1,
          26,
          18,
          25,
          8,
          2,
          16,
          28,
          11,
          4,
          12,
          4,
          7,
          3,
          14,
          17,
          2,
          22,
          2,
          14,
          11,
          2,
          20,
          3,
          3,
          3,
          5,
          5,
          9,
          2,
          14,
          9,
          5,
          4,
          10,
          3,
          2,
          21,
          9,
          3,
          2,
          15,
          15,
          26,
          23,
          2,
          14,
          16,
          6,
          7,
          10,
          27,
          26,
          3,
          12,
          11,
          5,
          5,
          3,
          10,
          4,
          20,
          21,
          12,
          10,
          3,
          9,
          3,
          5,
          12,
          5,
          4,
          10,
          9,
          2,
          6,
          8,
          5,
          9,
          3,
          16,
          5,
          2,
          17,
          5,
          3,
          2,
          13,
          12,
          1,
          9,
          2,
          7,
          16,
          11,
          6,
          11,
          5,
          20,
          2,
          53,
          24,
          11,
          7,
          5,
          14,
          11,
          22,
          15,
          6,
          15,
          13,
          5,
          20,
          23,
          3,
          3,
          21,
          17,
          22,
          16,
          8,
          7,
          32,
          11,
          4,
          49,
          23,
          14,
          8,
          10,
          16,
          19,
          46,
          7,
          4,
          39,
          16,
          3,
          30,
          25,
          3,
          8,
          15,
          15,
          25,
          22,
          18,
          11,
          18,
          14,
          14,
          8,
          17,
          21,
          12,
          19,
          12,
          14,
          19,
          11,
          16,
          4,
          24,
          30,
          10,
          13,
          21,
          6,
          1,
          20,
          1,
          6,
          29,
          5,
          10,
          4,
          17,
          7,
          2,
          13,
          11,
          11,
          18,
          12,
          16,
          12,
          10,
          9,
          6,
          8,
          4,
          15,
          14,
          49,
          28,
          14,
          9,
          14,
          16,
          31,
          17,
          4,
          2,
          11,
          10,
          5,
          15,
          5,
          5,
          15,
          1,
          2,
          13,
          29,
          9,
          9,
          20,
          4,
          12,
          21,
          2,
          12,
          4,
          3,
          15,
          8,
          14,
          9,
          2,
          16,
          2,
          3,
          7,
          2,
          12,
          13,
          4,
          3,
          3,
          21,
          1,
          21,
          14,
          14,
          4,
          6,
          12,
          24,
          29,
          14,
          13,
          4,
          24,
          12,
          11,
          6,
          11,
          15,
          15,
          20,
          5,
          3,
          10,
          3,
          13,
          21,
          6,
          8,
          8,
          11,
          17,
          10,
          5,
          25,
          3,
          6,
          10,
          3,
          33,
          1,
          3,
          2,
          6,
          25,
          22,
          8,
          12,
          3,
          3,
          21,
          8,
          8,
          8,
          19,
          2
         ],
         "xaxis": "x",
         "yaxis": "y"
        }
       ],
       "layout": {
        "autosize": true,
        "barmode": "relative",
        "legend": {
         "tracegroupgap": 0
        },
        "margin": {
         "t": 60
        },
        "template": {
         "data": {
          "bar": [
           {
            "error_x": {
             "color": "#2a3f5f"
            },
            "error_y": {
             "color": "#2a3f5f"
            },
            "marker": {
             "line": {
              "color": "#E5ECF6",
              "width": 0.5
             },
             "pattern": {
              "fillmode": "overlay",
              "size": 10,
              "solidity": 0.2
             }
            },
            "type": "bar"
           }
          ],
          "barpolar": [
           {
            "marker": {
             "line": {
              "color": "#E5ECF6",
              "width": 0.5
             },
             "pattern": {
              "fillmode": "overlay",
              "size": 10,
              "solidity": 0.2
             }
            },
            "type": "barpolar"
           }
          ],
          "carpet": [
           {
            "aaxis": {
             "endlinecolor": "#2a3f5f",
             "gridcolor": "white",
             "linecolor": "white",
             "minorgridcolor": "white",
             "startlinecolor": "#2a3f5f"
            },
            "baxis": {
             "endlinecolor": "#2a3f5f",
             "gridcolor": "white",
             "linecolor": "white",
             "minorgridcolor": "white",
             "startlinecolor": "#2a3f5f"
            },
            "type": "carpet"
           }
          ],
          "choropleth": [
           {
            "colorbar": {
             "outlinewidth": 0,
             "ticks": ""
            },
            "type": "choropleth"
           }
          ],
          "contour": [
           {
            "colorbar": {
             "outlinewidth": 0,
             "ticks": ""
            },
            "colorscale": [
             [
              0,
              "#0d0887"
             ],
             [
              0.1111111111111111,
              "#46039f"
             ],
             [
              0.2222222222222222,
              "#7201a8"
             ],
             [
              0.3333333333333333,
              "#9c179e"
             ],
             [
              0.4444444444444444,
              "#bd3786"
             ],
             [
              0.5555555555555556,
              "#d8576b"
             ],
             [
              0.6666666666666666,
              "#ed7953"
             ],
             [
              0.7777777777777778,
              "#fb9f3a"
             ],
             [
              0.8888888888888888,
              "#fdca26"
             ],
             [
              1,
              "#f0f921"
             ]
            ],
            "type": "contour"
           }
          ],
          "contourcarpet": [
           {
            "colorbar": {
             "outlinewidth": 0,
             "ticks": ""
            },
            "type": "contourcarpet"
           }
          ],
          "heatmap": [
           {
            "colorbar": {
             "outlinewidth": 0,
             "ticks": ""
            },
            "colorscale": [
             [
              0,
              "#0d0887"
             ],
             [
              0.1111111111111111,
              "#46039f"
             ],
             [
              0.2222222222222222,
              "#7201a8"
             ],
             [
              0.3333333333333333,
              "#9c179e"
             ],
             [
              0.4444444444444444,
              "#bd3786"
             ],
             [
              0.5555555555555556,
              "#d8576b"
             ],
             [
              0.6666666666666666,
              "#ed7953"
             ],
             [
              0.7777777777777778,
              "#fb9f3a"
             ],
             [
              0.8888888888888888,
              "#fdca26"
             ],
             [
              1,
              "#f0f921"
             ]
            ],
            "type": "heatmap"
           }
          ],
          "heatmapgl": [
           {
            "colorbar": {
             "outlinewidth": 0,
             "ticks": ""
            },
            "colorscale": [
             [
              0,
              "#0d0887"
             ],
             [
              0.1111111111111111,
              "#46039f"
             ],
             [
              0.2222222222222222,
              "#7201a8"
             ],
             [
              0.3333333333333333,
              "#9c179e"
             ],
             [
              0.4444444444444444,
              "#bd3786"
             ],
             [
              0.5555555555555556,
              "#d8576b"
             ],
             [
              0.6666666666666666,
              "#ed7953"
             ],
             [
              0.7777777777777778,
              "#fb9f3a"
             ],
             [
              0.8888888888888888,
              "#fdca26"
             ],
             [
              1,
              "#f0f921"
             ]
            ],
            "type": "heatmapgl"
           }
          ],
          "histogram": [
           {
            "marker": {
             "pattern": {
              "fillmode": "overlay",
              "size": 10,
              "solidity": 0.2
             }
            },
            "type": "histogram"
           }
          ],
          "histogram2d": [
           {
            "colorbar": {
             "outlinewidth": 0,
             "ticks": ""
            },
            "colorscale": [
             [
              0,
              "#0d0887"
             ],
             [
              0.1111111111111111,
              "#46039f"
             ],
             [
              0.2222222222222222,
              "#7201a8"
             ],
             [
              0.3333333333333333,
              "#9c179e"
             ],
             [
              0.4444444444444444,
              "#bd3786"
             ],
             [
              0.5555555555555556,
              "#d8576b"
             ],
             [
              0.6666666666666666,
              "#ed7953"
             ],
             [
              0.7777777777777778,
              "#fb9f3a"
             ],
             [
              0.8888888888888888,
              "#fdca26"
             ],
             [
              1,
              "#f0f921"
             ]
            ],
            "type": "histogram2d"
           }
          ],
          "histogram2dcontour": [
           {
            "colorbar": {
             "outlinewidth": 0,
             "ticks": ""
            },
            "colorscale": [
             [
              0,
              "#0d0887"
             ],
             [
              0.1111111111111111,
              "#46039f"
             ],
             [
              0.2222222222222222,
              "#7201a8"
             ],
             [
              0.3333333333333333,
              "#9c179e"
             ],
             [
              0.4444444444444444,
              "#bd3786"
             ],
             [
              0.5555555555555556,
              "#d8576b"
             ],
             [
              0.6666666666666666,
              "#ed7953"
             ],
             [
              0.7777777777777778,
              "#fb9f3a"
             ],
             [
              0.8888888888888888,
              "#fdca26"
             ],
             [
              1,
              "#f0f921"
             ]
            ],
            "type": "histogram2dcontour"
           }
          ],
          "mesh3d": [
           {
            "colorbar": {
             "outlinewidth": 0,
             "ticks": ""
            },
            "type": "mesh3d"
           }
          ],
          "parcoords": [
           {
            "line": {
             "colorbar": {
              "outlinewidth": 0,
              "ticks": ""
             }
            },
            "type": "parcoords"
           }
          ],
          "pie": [
           {
            "automargin": true,
            "type": "pie"
           }
          ],
          "scatter": [
           {
            "marker": {
             "colorbar": {
              "outlinewidth": 0,
              "ticks": ""
             }
            },
            "type": "scatter"
           }
          ],
          "scatter3d": [
           {
            "line": {
             "colorbar": {
              "outlinewidth": 0,
              "ticks": ""
             }
            },
            "marker": {
             "colorbar": {
              "outlinewidth": 0,
              "ticks": ""
             }
            },
            "type": "scatter3d"
           }
          ],
          "scattercarpet": [
           {
            "marker": {
             "colorbar": {
              "outlinewidth": 0,
              "ticks": ""
             }
            },
            "type": "scattercarpet"
           }
          ],
          "scattergeo": [
           {
            "marker": {
             "colorbar": {
              "outlinewidth": 0,
              "ticks": ""
             }
            },
            "type": "scattergeo"
           }
          ],
          "scattergl": [
           {
            "marker": {
             "colorbar": {
              "outlinewidth": 0,
              "ticks": ""
             }
            },
            "type": "scattergl"
           }
          ],
          "scattermapbox": [
           {
            "marker": {
             "colorbar": {
              "outlinewidth": 0,
              "ticks": ""
             }
            },
            "type": "scattermapbox"
           }
          ],
          "scatterpolar": [
           {
            "marker": {
             "colorbar": {
              "outlinewidth": 0,
              "ticks": ""
             }
            },
            "type": "scatterpolar"
           }
          ],
          "scatterpolargl": [
           {
            "marker": {
             "colorbar": {
              "outlinewidth": 0,
              "ticks": ""
             }
            },
            "type": "scatterpolargl"
           }
          ],
          "scatterternary": [
           {
            "marker": {
             "colorbar": {
              "outlinewidth": 0,
              "ticks": ""
             }
            },
            "type": "scatterternary"
           }
          ],
          "surface": [
           {
            "colorbar": {
             "outlinewidth": 0,
             "ticks": ""
            },
            "colorscale": [
             [
              0,
              "#0d0887"
             ],
             [
              0.1111111111111111,
              "#46039f"
             ],
             [
              0.2222222222222222,
              "#7201a8"
             ],
             [
              0.3333333333333333,
              "#9c179e"
             ],
             [
              0.4444444444444444,
              "#bd3786"
             ],
             [
              0.5555555555555556,
              "#d8576b"
             ],
             [
              0.6666666666666666,
              "#ed7953"
             ],
             [
              0.7777777777777778,
              "#fb9f3a"
             ],
             [
              0.8888888888888888,
              "#fdca26"
             ],
             [
              1,
              "#f0f921"
             ]
            ],
            "type": "surface"
           }
          ],
          "table": [
           {
            "cells": {
             "fill": {
              "color": "#EBF0F8"
             },
             "line": {
              "color": "white"
             }
            },
            "header": {
             "fill": {
              "color": "#C8D4E3"
             },
             "line": {
              "color": "white"
             }
            },
            "type": "table"
           }
          ]
         },
         "layout": {
          "annotationdefaults": {
           "arrowcolor": "#2a3f5f",
           "arrowhead": 0,
           "arrowwidth": 1
          },
          "autotypenumbers": "strict",
          "coloraxis": {
           "colorbar": {
            "outlinewidth": 0,
            "ticks": ""
           }
          },
          "colorscale": {
           "diverging": [
            [
             0,
             "#8e0152"
            ],
            [
             0.1,
             "#c51b7d"
            ],
            [
             0.2,
             "#de77ae"
            ],
            [
             0.3,
             "#f1b6da"
            ],
            [
             0.4,
             "#fde0ef"
            ],
            [
             0.5,
             "#f7f7f7"
            ],
            [
             0.6,
             "#e6f5d0"
            ],
            [
             0.7,
             "#b8e186"
            ],
            [
             0.8,
             "#7fbc41"
            ],
            [
             0.9,
             "#4d9221"
            ],
            [
             1,
             "#276419"
            ]
           ],
           "sequential": [
            [
             0,
             "#0d0887"
            ],
            [
             0.1111111111111111,
             "#46039f"
            ],
            [
             0.2222222222222222,
             "#7201a8"
            ],
            [
             0.3333333333333333,
             "#9c179e"
            ],
            [
             0.4444444444444444,
             "#bd3786"
            ],
            [
             0.5555555555555556,
             "#d8576b"
            ],
            [
             0.6666666666666666,
             "#ed7953"
            ],
            [
             0.7777777777777778,
             "#fb9f3a"
            ],
            [
             0.8888888888888888,
             "#fdca26"
            ],
            [
             1,
             "#f0f921"
            ]
           ],
           "sequentialminus": [
            [
             0,
             "#0d0887"
            ],
            [
             0.1111111111111111,
             "#46039f"
            ],
            [
             0.2222222222222222,
             "#7201a8"
            ],
            [
             0.3333333333333333,
             "#9c179e"
            ],
            [
             0.4444444444444444,
             "#bd3786"
            ],
            [
             0.5555555555555556,
             "#d8576b"
            ],
            [
             0.6666666666666666,
             "#ed7953"
            ],
            [
             0.7777777777777778,
             "#fb9f3a"
            ],
            [
             0.8888888888888888,
             "#fdca26"
            ],
            [
             1,
             "#f0f921"
            ]
           ]
          },
          "colorway": [
           "#636efa",
           "#EF553B",
           "#00cc96",
           "#ab63fa",
           "#FFA15A",
           "#19d3f3",
           "#FF6692",
           "#B6E880",
           "#FF97FF",
           "#FECB52"
          ],
          "font": {
           "color": "#2a3f5f"
          },
          "geo": {
           "bgcolor": "white",
           "lakecolor": "white",
           "landcolor": "#E5ECF6",
           "showlakes": true,
           "showland": true,
           "subunitcolor": "white"
          },
          "hoverlabel": {
           "align": "left"
          },
          "hovermode": "closest",
          "mapbox": {
           "style": "light"
          },
          "paper_bgcolor": "white",
          "plot_bgcolor": "#E5ECF6",
          "polar": {
           "angularaxis": {
            "gridcolor": "white",
            "linecolor": "white",
            "ticks": ""
           },
           "bgcolor": "#E5ECF6",
           "radialaxis": {
            "gridcolor": "white",
            "linecolor": "white",
            "ticks": ""
           }
          },
          "scene": {
           "xaxis": {
            "backgroundcolor": "#E5ECF6",
            "gridcolor": "white",
            "gridwidth": 2,
            "linecolor": "white",
            "showbackground": true,
            "ticks": "",
            "zerolinecolor": "white"
           },
           "yaxis": {
            "backgroundcolor": "#E5ECF6",
            "gridcolor": "white",
            "gridwidth": 2,
            "linecolor": "white",
            "showbackground": true,
            "ticks": "",
            "zerolinecolor": "white"
           },
           "zaxis": {
            "backgroundcolor": "#E5ECF6",
            "gridcolor": "white",
            "gridwidth": 2,
            "linecolor": "white",
            "showbackground": true,
            "ticks": "",
            "zerolinecolor": "white"
           }
          },
          "shapedefaults": {
           "line": {
            "color": "#2a3f5f"
           }
          },
          "ternary": {
           "aaxis": {
            "gridcolor": "white",
            "linecolor": "white",
            "ticks": ""
           },
           "baxis": {
            "gridcolor": "white",
            "linecolor": "white",
            "ticks": ""
           },
           "bgcolor": "#E5ECF6",
           "caxis": {
            "gridcolor": "white",
            "linecolor": "white",
            "ticks": ""
           }
          },
          "title": {
           "x": 0.05
          },
          "xaxis": {
           "automargin": true,
           "gridcolor": "white",
           "linecolor": "white",
           "ticks": "",
           "title": {
            "standoff": 15
           },
           "zerolinecolor": "white",
           "zerolinewidth": 2
          },
          "yaxis": {
           "automargin": true,
           "gridcolor": "white",
           "linecolor": "white",
           "ticks": "",
           "title": {
            "standoff": 15
           },
           "zerolinecolor": "white",
           "zerolinewidth": 2
          }
         }
        },
        "xaxis": {
         "anchor": "y",
         "autorange": true,
         "domain": [
          0,
          1
         ],
         "range": [
          -0.5,
          59.5
         ],
         "title": {
          "text": "PTS_diff"
         },
         "type": "linear"
        },
        "yaxis": {
         "anchor": "x",
         "autorange": true,
         "domain": [
          0,
          1
         ],
         "range": [
          0,
          298.94736842105266
         ],
         "title": {
          "text": "count"
         }
        }
       }
      },
      "image/png": "[encoded data removed]",
      "text/html": [
       "<div>                            <div id=\"906510c1-78e6-4150-93e5-b311e685c1b7\" class=\"plotly-graph-div\" style=\"height:525px; width:100%;\"></div>            <script type=\"text/javascript\">                require([\"plotly\"], function(Plotly) {                    window.PLOTLYENV=window.PLOTLYENV || {};                                    if (document.getElementById(\"906510c1-78e6-4150-93e5-b311e685c1b7\")) {                    Plotly.newPlot(                        \"906510c1-78e6-4150-93e5-b311e685c1b7\",                        [{\"alignmentgroup\":\"True\",\"bingroup\":\"x\",\"hovertemplate\":\"PTS_diff=%{x}<br>count=%{y}<extra></extra>\",\"legendgroup\":\"\",\"marker\":{\"color\":\"#636efa\",\"pattern\":{\"shape\":\"\"}},\"name\":\"\",\"nbinsx\":20,\"offsetgroup\":\"\",\"orientation\":\"v\",\"showlegend\":false,\"type\":\"histogram\",\"x\":[29,23,4,1,32,9,11,7,15,16,12,5,4,12,16,6,23,5,16,5,23,12,18,15,1,3,14,15,8,8,11,16,9,18,8,11,18,18,8,10,20,16,36,3,9,13,5,8,1,18,9,2,30,16,17,8,16,27,7,5,1,6,12,13,14,4,4,16,38,27,9,2,12,2,19,5,1,8,16,13,27,24,9,11,7,11,3,16,1,2,15,12,12,3,4,5,24,9,7,2,5,4,14,17,35,7,7,7,7,6,9,17,5,20,34,5,10,5,31,29,9,1,22,5,18,5,4,33,3,14,6,12,12,22,21,8,17,6,10,9,16,8,14,21,23,4,7,20,8,3,8,13,26,8,13,5,16,3,10,3,8,4,18,27,20,4,14,1,10,30,15,5,10,1,15,8,22,13,5,21,20,40,16,13,11,9,6,17,3,10,13,1,5,2,6,5,12,11,14,7,13,10,51,13,11,5,16,6,10,2,24,13,1,2,29,17,2,10,15,10,7,9,24,5,11,4,25,15,1,10,31,6,30,5,17,17,2,38,11,27,4,8,4,18,10,25,12,7,15,13,12,3,6,3,39,21,15,26,4,21,11,18,38,9,16,1,14,13,14,12,9,4,8,8,31,6,23,31,27,12,22,22,2,1,10,31,15,10,1,7,7,4,9,22,18,12,30,14,3,19,25,1,4,42,8,3,23,19,24,5,5,12,1,19,2,11,7,17,10,17,18,24,10,13,33,9,27,10,26,20,19,4,7,17,19,7,22,14,26,4,8,14,19,33,38,5,3,7,5,23,23,13,7,12,7,2,2,13,4,11,12,8,25,9,21,3,14,11,16,31,5,26,9,8,10,1,7,6,21,8,1,7,11,7,17,29,17,18,2,2,14,6,14,36,23,13,12,8,6,9,10,17,5,5,20,22,2,9,6,14,7,5,10,15,5,11,8,10,10,8,8,14,2,8,7,2,6,27,1,9,6,4,28,11,13,14,9,12,8,1,6,3,10,10,38,7,11,25,37,1,18,15,2,27,7,4,11,6,33,1,5,4,27,13,13,13,25,18,20,28,7,14,3,9,22,10,15,10,30,47,39,15,19,32,12,7,1,5,14,8,4,10,1,6,4,2,30,4,3,5,10,8,5,10,14,14,12,8,6,17,13,9,5,5,15,30,28,2,22,12,5,2,4,7,9,5,5,12,18,11,37,9,4,11,4,11,17,10,4,22,4,13,4,2,7,7,6,13,34,4,28,26,4,9,4,6,14,25,19,17,10,12,10,8,10,15,6,4,44,6,4,18,1,22,10,19,3,19,4,11,22,18,11,4,21,15,7,30,12,5,4,9,20,7,1,5,9,5,7,1,8,9,4,18,11,4,9,1,11,20,11,7,10,6,12,9,9,7,57,19,6,6,8,7,5,4,6,15,5,3,27,11,3,6,12,16,18,10,15,2,24,9,7,2,20,1,19,14,11,25,14,2,20,12,2,22,44,31,3,6,18,24,10,9,20,8,10,1,24,3,35,26,22,8,16,14,7,7,5,8,16,7,9,24,1,4,12,8,17,3,5,17,15,24,7,20,6,2,37,1,23,16,3,21,8,8,3,1,8,20,6,28,4,3,37,5,7,4,4,10,17,12,23,6,22,10,19,9,32,31,18,19,9,1,6,9,17,1,6,21,6,8,8,3,11,25,16,4,16,7,11,22,5,36,10,19,21,21,1,15,48,23,5,7,3,6,8,1,4,4,2,12,2,11,3,19,4,9,16,11,1,3,6,6,1,26,18,25,8,2,16,28,11,4,12,4,7,3,14,17,2,22,2,14,11,2,20,3,3,3,5,5,9,2,14,9,5,4,10,3,2,21,9,3,2,15,15,26,23,2,14,16,6,7,10,27,26,3,12,11,5,5,3,10,4,20,21,12,10,3,9,3,5,12,5,4,10,9,2,6,8,5,9,3,16,5,2,17,5,3,2,13,12,1,9,2,7,16,11,6,11,5,20,2,53,24,11,7,5,14,11,22,15,6,15,13,5,20,23,3,3,21,17,22,16,8,7,32,11,4,49,23,14,8,10,16,19,46,7,4,39,16,3,30,25,3,8,15,15,25,22,18,11,18,14,14,8,17,21,12,19,12,14,19,11,16,4,24,30,10,13,21,6,1,20,1,6,29,5,10,4,17,7,2,13,11,11,18,12,16,12,10,9,6,8,4,15,14,49,28,14,9,14,16,31,17,4,2,11,10,5,15,5,5,15,1,2,13,29,9,9,20,4,12,21,2,12,4,3,15,8,14,9,2,16,2,3,7,2,12,13,4,3,3,21,1,21,14,14,4,6,12,24,29,14,13,4,24,12,11,6,11,15,15,20,5,3,10,3,13,21,6,8,8,11,17,10,5,25,3,6,10,3,33,1,3,2,6,25,22,8,12,3,3,21,8,8,8,19,2],\"xaxis\":\"x\",\"yaxis\":\"y\"}],                        {\"barmode\":\"relative\",\"legend\":{\"tracegroupgap\":0},\"margin\":{\"t\":60},\"template\":{\"data\":{\"bar\":[{\"error_x\":{\"color\":\"#2a3f5f\"},\"error_y\":{\"color\":\"#2a3f5f\"},\"marker\":{\"line\":{\"color\":\"#E5ECF6\",\"width\":0.5},\"pattern\":{\"fillmode\":\"overlay\",\"size\":10,\"solidity\":0.2}},\"type\":\"bar\"}],\"barpolar\":[{\"marker\":{\"line\":{\"color\":\"#E5ECF6\",\"width\":0.5},\"pattern\":{\"fillmode\":\"overlay\",\"size\":10,\"solidity\":0.2}},\"type\":\"barpolar\"}],\"carpet\":[{\"aaxis\":{\"endlinecolor\":\"#2a3f5f\",\"gridcolor\":\"white\",\"linecolor\":\"white\",\"minorgridcolor\":\"white\",\"startlinecolor\":\"#2a3f5f\"},\"baxis\":{\"endlinecolor\":\"#2a3f5f\",\"gridcolor\":\"white\",\"linecolor\":\"white\",\"minorgridcolor\":\"white\",\"startlinecolor\":\"#2a3f5f\"},\"type\":\"carpet\"}],\"choropleth\":[{\"colorbar\":{\"outlinewidth\":0,\"ticks\":\"\"},\"type\":\"choropleth\"}],\"contour\":[{\"colorbar\":{\"outlinewidth\":0,\"ticks\":\"\"},\"colorscale\":[[0.0,\"#0d0887\"],[0.1111111111111111,\"#46039f\"],[0.2222222222222222,\"#7201a8\"],[0.3333333333333333,\"#9c179e\"],[0.4444444444444444,\"#bd3786\"],[0.5555555555555556,\"#d8576b\"],[0.6666666666666666,\"#ed7953\"],[0.7777777777777778,\"#fb9f3a\"],[0.8888888888888888,\"#fdca26\"],[1.0,\"#f0f921\"]],\"type\":\"contour\"}],\"contourcarpet\":[{\"colorbar\":{\"outlinewidth\":0,\"ticks\":\"\"},\"type\":\"contourcarpet\"}],\"heatmap\":[{\"colorbar\":{\"outlinewidth\":0,\"ticks\":\"\"},\"colorscale\":[[0.0,\"#0d0887\"],[0.1111111111111111,\"#46039f\"],[0.2222222222222222,\"#7201a8\"],[0.3333333333333333,\"#9c179e\"],[0.4444444444444444,\"#bd3786\"],[0.5555555555555556,\"#d8576b\"],[0.6666666666666666,\"#ed7953\"],[0.7777777777777778,\"#fb9f3a\"],[0.8888888888888888,\"#fdca26\"],[1.0,\"#f0f921\"]],\"type\":\"heatmap\"}],\"heatmapgl\":[{\"colorbar\":{\"outlinewidth\":0,\"ticks\":\"\"},\"colorscale\":[[0.0,\"#0d0887\"],[0.1111111111111111,\"#46039f\"],[0.2222222222222222,\"#7201a8\"],[0.3333333333333333,\"#9c179e\"],[0.4444444444444444,\"#bd3786\"],[0.5555555555555556,\"#d8576b\"],[0.6666666666666666,\"#ed7953\"],[0.7777777777777778,\"#fb9f3a\"],[0.8888888888888888,\"#fdca26\"],[1.0,\"#f0f921\"]],\"type\":\"heatmapgl\"}],\"histogram\":[{\"marker\":{\"pattern\":{\"fillmode\":\"overlay\",\"size\":10,\"solidity\":0.2}},\"type\":\"histogram\"}],\"histogram2d\":[{\"colorbar\":{\"outlinewidth\":0,\"ticks\":\"\"},\"colorscale\":[[0.0,\"#0d0887\"],[0.1111111111111111,\"#46039f\"],[0.2222222222222222,\"#7201a8\"],[0.3333333333333333,\"#9c179e\"],[0.4444444444444444,\"#bd3786\"],[0.5555555555555556,\"#d8576b\"],[0.6666666666666666,\"#ed7953\"],[0.7777777777777778,\"#fb9f3a\"],[0.8888888888888888,\"#fdca26\"],[1.0,\"#f0f921\"]],\"type\":\"histogram2d\"}],\"histogram2dcontour\":[{\"colorbar\":{\"outlinewidth\":0,\"ticks\":\"\"},\"colorscale\":[[0.0,\"#0d0887\"],[0.1111111111111111,\"#46039f\"],[0.2222222222222222,\"#7201a8\"],[0.3333333333333333,\"#9c179e\"],[0.4444444444444444,\"#bd3786\"],[0.5555555555555556,\"#d8576b\"],[0.6666666666666666,\"#ed7953\"],[0.7777777777777778,\"#fb9f3a\"],[0.8888888888888888,\"#fdca26\"],[1.0,\"#f0f921\"]],\"type\":\"histogram2dcontour\"}],\"mesh3d\":[{\"colorbar\":{\"outlinewidth\":0,\"ticks\":\"\"},\"type\":\"mesh3d\"}],\"parcoords\":[{\"line\":{\"colorbar\":{\"outlinewidth\":0,\"ticks\":\"\"}},\"type\":\"parcoords\"}],\"pie\":[{\"automargin\":true,\"type\":\"pie\"}],\"scatter\":[{\"marker\":{\"colorbar\":{\"outlinewidth\":0,\"ticks\":\"\"}},\"type\":\"scatter\"}],\"scatter3d\":[{\"line\":{\"colorbar\":{\"outlinewidth\":0,\"ticks\":\"\"}},\"marker\":{\"colorbar\":{\"outlinewidth\":0,\"ticks\":\"\"}},\"type\":\"scatter3d\"}],\"scattercarpet\":[{\"marker\":{\"colorbar\":{\"outlinewidth\":0,\"ticks\":\"\"}},\"type\":\"scattercarpet\"}],\"scattergeo\":[{\"marker\":{\"colorbar\":{\"outlinewidth\":0,\"ticks\":\"\"}},\"type\":\"scattergeo\"}],\"scattergl\":[{\"marker\":{\"colorbar\":{\"outlinewidth\":0,\"ticks\":\"\"}},\"type\":\"scattergl\"}],\"scattermapbox\":[{\"marker\":{\"colorbar\":{\"outlinewidth\":0,\"ticks\":\"\"}},\"type\":\"scattermapbox\"}],\"scatterpolar\":[{\"marker\":{\"colorbar\":{\"outlinewidth\":0,\"ticks\":\"\"}},\"type\":\"scatterpolar\"}],\"scatterpolargl\":[{\"marker\":{\"colorbar\":{\"outlinewidth\":0,\"ticks\":\"\"}},\"type\":\"scatterpolargl\"}],\"scatterternary\":[{\"marker\":{\"colorbar\":{\"outlinewidth\":0,\"ticks\":\"\"}},\"type\":\"scatterternary\"}],\"surface\":[{\"colorbar\":{\"outlinewidth\":0,\"ticks\":\"\"},\"colorscale\":[[0.0,\"#0d0887\"],[0.1111111111111111,\"#46039f\"],[0.2222222222222222,\"#7201a8\"],[0.3333333333333333,\"#9c179e\"],[0.4444444444444444,\"#bd3786\"],[0.5555555555555556,\"#d8576b\"],[0.6666666666666666,\"#ed7953\"],[0.7777777777777778,\"#fb9f3a\"],[0.8888888888888888,\"#fdca26\"],[1.0,\"#f0f921\"]],\"type\":\"surface\"}],\"table\":[{\"cells\":{\"fill\":{\"color\":\"#EBF0F8\"},\"line\":{\"color\":\"white\"}},\"header\":{\"fill\":{\"color\":\"#C8D4E3\"},\"line\":{\"color\":\"white\"}},\"type\":\"table\"}]},\"layout\":{\"annotationdefaults\":{\"arrowcolor\":\"#2a3f5f\",\"arrowhead\":0,\"arrowwidth\":1},\"autotypenumbers\":\"strict\",\"coloraxis\":{\"colorbar\":{\"outlinewidth\":0,\"ticks\":\"\"}},\"colorscale\":{\"diverging\":[[0,\"#8e0152\"],[0.1,\"#c51b7d\"],[0.2,\"#de77ae\"],[0.3,\"#f1b6da\"],[0.4,\"#fde0ef\"],[0.5,\"#f7f7f7\"],[0.6,\"#e6f5d0\"],[0.7,\"#b8e186\"],[0.8,\"#7fbc41\"],[0.9,\"#4d9221\"],[1,\"#276419\"]],\"sequential\":[[0.0,\"#0d0887\"],[0.1111111111111111,\"#46039f\"],[0.2222222222222222,\"#7201a8\"],[0.3333333333333333,\"#9c179e\"],[0.4444444444444444,\"#bd3786\"],[0.5555555555555556,\"#d8576b\"],[0.6666666666666666,\"#ed7953\"],[0.7777777777777778,\"#fb9f3a\"],[0.8888888888888888,\"#fdca26\"],[1.0,\"#f0f921\"]],\"sequentialminus\":[[0.0,\"#0d0887\"],[0.1111111111111111,\"#46039f\"],[0.2222222222222222,\"#7201a8\"],[0.3333333333333333,\"#9c179e\"],[0.4444444444444444,\"#bd3786\"],[0.5555555555555556,\"#d8576b\"],[0.6666666666666666,\"#ed7953\"],[0.7777777777777778,\"#fb9f3a\"],[0.8888888888888888,\"#fdca26\"],[1.0,\"#f0f921\"]]},\"colorway\":[\"#636efa\",\"#EF553B\",\"#00cc96\",\"#ab63fa\",\"#FFA15A\",\"#19d3f3\",\"#FF6692\",\"#B6E880\",\"#FF97FF\",\"#FECB52\"],\"font\":{\"color\":\"#2a3f5f\"},\"geo\":{\"bgcolor\":\"white\",\"lakecolor\":\"white\",\"landcolor\":\"#E5ECF6\",\"showlakes\":true,\"showland\":true,\"subunitcolor\":\"white\"},\"hoverlabel\":{\"align\":\"left\"},\"hovermode\":\"closest\",\"mapbox\":{\"style\":\"light\"},\"paper_bgcolor\":\"white\",\"plot_bgcolor\":\"#E5ECF6\",\"polar\":{\"angularaxis\":{\"gridcolor\":\"white\",\"linecolor\":\"white\",\"ticks\":\"\"},\"bgcolor\":\"#E5ECF6\",\"radialaxis\":{\"gridcolor\":\"white\",\"linecolor\":\"white\",\"ticks\":\"\"}},\"scene\":{\"xaxis\":{\"backgroundcolor\":\"#E5ECF6\",\"gridcolor\":\"white\",\"gridwidth\":2,\"linecolor\":\"white\",\"showbackground\":true,\"ticks\":\"\",\"zerolinecolor\":\"white\"},\"yaxis\":{\"backgroundcolor\":\"#E5ECF6\",\"gridcolor\":\"white\",\"gridwidth\":2,\"linecolor\":\"white\",\"showbackground\":true,\"ticks\":\"\",\"zerolinecolor\":\"white\"},\"zaxis\":{\"backgroundcolor\":\"#E5ECF6\",\"gridcolor\":\"white\",\"gridwidth\":2,\"linecolor\":\"white\",\"showbackground\":true,\"ticks\":\"\",\"zerolinecolor\":\"white\"}},\"shapedefaults\":{\"line\":{\"color\":\"#2a3f5f\"}},\"ternary\":{\"aaxis\":{\"gridcolor\":\"white\",\"linecolor\":\"white\",\"ticks\":\"\"},\"baxis\":{\"gridcolor\":\"white\",\"linecolor\":\"white\",\"ticks\":\"\"},\"bgcolor\":\"#E5ECF6\",\"caxis\":{\"gridcolor\":\"white\",\"linecolor\":\"white\",\"ticks\":\"\"}},\"title\":{\"x\":0.05},\"xaxis\":{\"automargin\":true,\"gridcolor\":\"white\",\"linecolor\":\"white\",\"ticks\":\"\",\"title\":{\"standoff\":15},\"zerolinecolor\":\"white\",\"zerolinewidth\":2},\"yaxis\":{\"automargin\":true,\"gridcolor\":\"white\",\"linecolor\":\"white\",\"ticks\":\"\",\"title\":{\"standoff\":15},\"zerolinecolor\":\"white\",\"zerolinewidth\":2}}},\"xaxis\":{\"anchor\":\"y\",\"domain\":[0.0,1.0],\"title\":{\"text\":\"PTS_diff\"}},\"yaxis\":{\"anchor\":\"x\",\"domain\":[0.0,1.0],\"title\":{\"text\":\"count\"}}},                        {\"responsive\": true}                    ).then(function(){\n",
       "                            \n",
       "var gd = document.getElementById('906510c1-78e6-4150-93e5-b311e685c1b7');\n",
       "var x = new MutationObserver(function (mutations, observer) {{\n",
       "        var display = window.getComputedStyle(gd).display;\n",
       "        if (!display || display === 'none') {{\n",
       "            console.log([gd, 'removed!']);\n",
       "            Plotly.purge(gd);\n",
       "            observer.disconnect();\n",
       "        }}\n",
       "}});\n",
       "\n",
       "// Listen for the removal of the full notebook cells\n",
       "var notebookContainer = gd.closest('#notebook-container');\n",
       "if (notebookContainer) {{\n",
       "    x.observe(notebookContainer, {childList: true});\n",
       "}}\n",
       "\n",
       "// Listen for the clearing of the current output cell\n",
       "var outputEl = gd.closest('.output');\n",
       "if (outputEl) {{\n",
       "    x.observe(outputEl, {childList: true});\n",
       "}}\n",
       "\n",
       "                        })                };                });            </script>        </div>"
      ]
     },
     "metadata": {},
     "output_type": "display_data"
    }
   ],
   "source": [
    "px.histogram(winners, x='PTS_diff', nbins=20)"
   ]
  },
  {
   "cell_type": "code",
   "execution_count": 33,
   "id": "1c1825c6-f8e6-442d-b5fb-89ba889675e3",
   "metadata": {},
   "outputs": [
    {
     "data": {
      "text/plain": [
       "<AxesSubplot:xlabel='STL_diff', ylabel='PTS_diff'>"
      ]
     },
     "execution_count": 33,
     "metadata": {},
     "output_type": "execute_result"
    },
    {
     "data": {
      "image/png": "[encoded data removed]",
      "text/plain": [
       "<Figure size 432x288 with 1 Axes>"
      ]
     },
     "metadata": {
      "needs_background": "light"
     },
     "output_type": "display_data"
    }
   ],
   "source": [
    "sns.kdeplot(data=winners, x='STL_diff', y='PTS_diff')"
   ]
  },
  {
   "cell_type": "code",
   "execution_count": null,
   "id": "d54f7f85-cbb6-4371-bc17-1369712915f0",
   "metadata": {},
   "outputs": [],
   "source": []
  }
 ],
 "metadata": {
  "kernelspec": {
   "display_name": "Python 3",
   "language": "python",
   "name": "python3"
  },
  "language_info": {
   "codemirror_mode": {
    "name": "ipython",
    "version": 3
   },
   "file_extension": ".py",
   "mimetype": "text/x-python",
   "name": "python",
   "nbconvert_exporter": "python",
   "pygments_lexer": "ipython3",
   "version": "3.8.5"
  }
 },
 "nbformat": 4,
 "nbformat_minor": 5
}
